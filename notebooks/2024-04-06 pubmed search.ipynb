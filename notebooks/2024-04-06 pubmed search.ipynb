{
 "cells": [
  {
   "attachments": {},
   "cell_type": "markdown",
   "metadata": {},
   "source": [
    "# Title\n",
    "[]()"
   ]
  },
  {
   "cell_type": "code",
   "execution_count": 2,
   "metadata": {},
   "outputs": [],
   "source": [
    "\n",
    "import sys\n",
    "sys.path.append('../src')\n",
    "sys.path.append(r\"/home/silvhua/custom_python\")\n",
    "from silvhua import *\n",
    "from Pubmed_API import *"
   ]
  },
  {
   "cell_type": "code",
   "execution_count": 3,
   "metadata": {},
   "outputs": [],
   "source": [
    "# set the option to wrap text within cells\n",
    "pd.set_option('display.max_colwidth', 100)\n",
    "# pd.set_option('display.max_colwidth', None)\n",
    "pd.set_option('display.max_rows', 20)\n",
    "pd.set_option('display.max_columns', None)\n",
    "pd.set_option('display.width', None)"
   ]
  },
  {
   "cell_type": "markdown",
   "metadata": {},
   "source": [
    "# Initialize"
   ]
  },
  {
   "cell_type": "code",
   "execution_count": 4,
   "metadata": {},
   "outputs": [],
   "source": [
    "api_key = os.getenv('api_ncbi') # Pubmed API key\n",
    "result_dict = dict()"
   ]
  },
  {
   "cell_type": "markdown",
   "metadata": {},
   "source": [
    "# Iteration 1"
   ]
  },
  {
   "cell_type": "code",
   "execution_count": 4,
   "metadata": {},
   "outputs": [
    {
     "name": "stderr",
     "output_type": "stream",
     "text": [
      "2024-04-06 16:41:39,531 - Pubmed_API - INFO:\n",
      "Search term: \"resistance train*\"\n",
      "\n",
      "2024-04-06 16:41:40,771 - Pubmed_API - INFO:\n",
      "20 PMIDs found.\n",
      "\n"
     ]
    }
   ],
   "source": [
    "iteration = 1\n",
    "# query = '(\"resistance train*\"[All Fields]) AND ((y_10[Filter]) AND (meta-analysis[Filter] OR review[Filter] OR systematicreview[Filter]))'\n",
    "# query = 'Factors associated with different types of hip fractures among elderly patients a tertiary hospital in Pahang: A retrospective cross-sectional study'\n",
    "query = '\"resistance train*\"'\n",
    "retmax=None\n",
    "result_dict[iteration] = Pubmed_API()\n",
    "ids_list = result_dict[iteration].search_article(\n",
    "    query, retmax=retmax, ids_only=True, verbose=False\n",
    "    )\n",
    "# df = result_dict[iteration].get_article_data_by_title()"
   ]
  },
  {
   "cell_type": "markdown",
   "metadata": {},
   "source": [
    "## 1.1"
   ]
  },
  {
   "cell_type": "code",
   "execution_count": 5,
   "metadata": {},
   "outputs": [
    {
     "name": "stderr",
     "output_type": "stream",
     "text": [
      "2024-04-06 16:52:26,845 - Pubmed_API - INFO:\n",
      "Search term: \"resistance train*\"\n",
      "\n",
      "2024-04-06 16:52:28,817 - Pubmed_API - INFO:\n",
      "9999 PMIDs found.\n",
      "\n"
     ]
    }
   ],
   "source": [
    "# iteration = 1.1\n",
    "# query = '(\"resistance train*\"[All Fields]) AND ((y_10[Filter]) AND (meta-analysis[Filter] OR review[Filter] OR systematicreview[Filter]))'\n",
    "# query = 'Factors associated with different types of hip fractures among elderly patients a tertiary hospital in Pahang: A retrospective cross-sectional study'\n",
    "query = '\"resistance train*\"'\n",
    "retmax = 10000\n",
    "# result_dict[iteration] = Pubmed_API()\n",
    "ids_list = result_dict[iteration].search_article(\n",
    "    query, retmax=retmax, ids_only=True, verbose=False\n",
    "    )\n",
    "# df = result_dict[iteration].get_article_data_by_title()"
   ]
  },
  {
   "cell_type": "markdown",
   "metadata": {},
   "source": [
    "For the same query, the number of results matches what is found through Pubmed website"
   ]
  },
  {
   "cell_type": "code",
   "execution_count": 6,
   "metadata": {},
   "outputs": [
    {
     "name": "stderr",
     "output_type": "stream",
     "text": [
      "2024-04-06 16:53:38,368 - Pubmed_API - INFO:\n",
      "Search term: (\"resistance train*\"[All Fields]) AND ((y_10[Filter]) AND (meta-analysis[Filter] OR review[Filter] OR systematicreview[Filter]))\n",
      "\n",
      "2024-04-06 16:53:39,299 - Pubmed_API - INFO:\n",
      "2541 PMIDs found.\n",
      "\n"
     ]
    }
   ],
   "source": [
    "# query = '(\"resistance train*\"[All Fields]) AND ((y_10[Filter]) AND (meta-analysis[Filter] OR review[Filter] OR systematicreview[Filter]))'\n",
    "# query = 'Factors associated with different types of hip fractures among elderly patients a tertiary hospital in Pahang: A retrospective cross-sectional study'\n",
    "query = '(\"resistance train*\"[All Fields]) AND ((y_10[Filter]) AND (meta-analysis[Filter] OR review[Filter] OR systematicreview[Filter]))'\n",
    "retmax = 10000\n",
    "# result_dict[iteration] = Pubmed_API()\n",
    "ids_list = result_dict[iteration].search_article(\n",
    "    query, retmax=retmax, ids_only=True, verbose=False\n",
    "    )\n",
    "# df = result_dict[iteration].get_article_data_by_title()"
   ]
  },
  {
   "cell_type": "markdown",
   "metadata": {},
   "source": [
    "# iteration 1 after kernel refresh"
   ]
  },
  {
   "cell_type": "code",
   "execution_count": 4,
   "metadata": {},
   "outputs": [
    {
     "name": "stderr",
     "output_type": "stream",
     "text": [
      "2024-04-06 17:14:15,819 - Pubmed_API - INFO:\n",
      "Search term: (\"resistance train*\"[All Fields]) AND (systematic[sb] OR review[pt])\n",
      "\n",
      "2024-04-06 17:14:20,912 - Pubmed_API - INFO:\n",
      "3250 PMIDs found.\n",
      "\n"
     ]
    }
   ],
   "source": [
    "iteration = 1\n",
    "# query = '(\"resistance train*\"[All Fields]) AND ((y_10[Filter]) AND (meta-analysis[Filter] OR review[Filter] OR systematicreview[Filter]))'\n",
    "# query = 'Factors associated with different types of hip fractures among elderly patients a tertiary hospital in Pahang: A retrospective cross-sectional study'\n",
    "query = '(\"resistance train*\"[All Fields])'\n",
    "retmax = 10000\n",
    "result_dict[iteration] = Pubmed_API()\n",
    "ids_list = result_dict[iteration].search_article(\n",
    "    query, retmax=retmax, ids_only=True, verbose=False,\n",
    "    review_only = True\n",
    "    )\n",
    "# df = result_dict[iteration].get_article_data_by_title()"
   ]
  },
  {
   "cell_type": "code",
   "execution_count": 5,
   "metadata": {},
   "outputs": [
    {
     "name": "stderr",
     "output_type": "stream",
     "text": [
      "2024-04-06 17:22:22,536 - Pubmed_API - INFO:\n",
      "Search term: (\"resistance train*\"[All Fields]) AND (systematic[sb] OR review[pt])\n",
      "\n",
      "2024-04-06 17:22:24,120 - Pubmed_API - INFO:\n",
      "3250 PMIDs found.\n",
      "\n"
     ]
    }
   ],
   "source": [
    "\n",
    "query = '(\"resistance train*\"[All Fields]) AND ((y_10[Filter]) AND (meta-analysis[Filter] OR review[Filter] OR systematicreview[Filter]))'\n",
    "# query = 'Factors associated with different types of hip fractures among elderly patients a tertiary hospital in Pahang: A retrospective cross-sectional study'\n",
    "query = '(\"resistance train*\"[All Fields])'\n",
    "retmax = 10000\n",
    "# result_dict[iteration] = Pubmed_API()\n",
    "ids_list = result_dict[iteration].search_article(\n",
    "    query, retmax=retmax, ids_only=True, verbose=False,\n",
    "    review_only = True\n",
    "    )\n",
    "# df = result_dict[iteration].get_article_data_by_title()"
   ]
  },
  {
   "cell_type": "code",
   "execution_count": 12,
   "metadata": {},
   "outputs": [
    {
     "data": {
      "text/plain": [
       "dict_keys([1, 2])"
      ]
     },
     "execution_count": 12,
     "metadata": {},
     "output_type": "execute_result"
    }
   ],
   "source": [
    "result_dict[iteration].PMIDs_dict.keys()"
   ]
  },
  {
   "cell_type": "code",
   "execution_count": 13,
   "metadata": {},
   "outputs": [
    {
     "name": "stderr",
     "output_type": "stream",
     "text": [
      "2024-04-06 17:25:23,220 - Pubmed_API - INFO:\n",
      "Search term: (\"resistance train*\"[All Fields]) AND (systematic[sb] OR review[pt])\n",
      "\n",
      "2024-04-06 17:25:24,307 - Pubmed_API - INFO:\n",
      "3250 PMIDs found.\n",
      "\n"
     ]
    }
   ],
   "source": [
    "\n",
    "query = '(\"resistance train*\"[All Fields]) AND ((y_1[Filter]) AND (meta-analysis[Filter] OR review[Filter] OR systematicreview[Filter]))'\n",
    "# query = 'Factors associated with different types of hip fractures among elderly patients a tertiary hospital in Pahang: A retrospective cross-sectional study'\n",
    "query = '(\"resistance train*\"[All Fields])'\n",
    "retmax = 10000\n",
    "# result_dict[iteration] = Pubmed_API()\n",
    "ids_list = result_dict[iteration].search_article(\n",
    "    query, retmax=retmax, ids_only=True, verbose=False,\n",
    "    review_only = True\n",
    "    )\n",
    "# df = result_dict[iteration].get_article_data_by_title()"
   ]
  },
  {
   "cell_type": "code",
   "execution_count": 14,
   "metadata": {},
   "outputs": [
    {
     "name": "stderr",
     "output_type": "stream",
     "text": [
      "2024-04-06 17:25:37,967 - Pubmed_API - INFO:\n",
      "Search term: (\"resistance train*\"[All Fields]) AND ((y_1[Filter]) AND (meta-analysis[Filter] OR review[Filter] OR systematicreview[Filter])) AND (systematic[sb] OR review[pt])\n",
      "\n",
      "2024-04-06 17:25:38,819 - Pubmed_API - INFO:\n",
      "361 PMIDs found.\n",
      "\n"
     ]
    }
   ],
   "source": [
    "\n",
    "query = '(\"resistance train*\"[All Fields]) AND ((y_1[Filter]) AND (meta-analysis[Filter] OR review[Filter] OR systematicreview[Filter]))'\n",
    "# query = 'Factors associated with different types of hip fractures among elderly patients a tertiary hospital in Pahang: A retrospective cross-sectional study'\n",
    "# query = '(\"resistance train*\"[All Fields])'\n",
    "retmax = 10000\n",
    "# result_dict[iteration] = Pubmed_API()\n",
    "ids_list = result_dict[iteration].search_article(\n",
    "    query, retmax=retmax, ids_only=True, verbose=False,\n",
    "    review_only = True\n",
    "    )\n",
    "# df = result_dict[iteration].get_article_data_by_title()"
   ]
  },
  {
   "cell_type": "code",
   "execution_count": 15,
   "metadata": {},
   "outputs": [
    {
     "name": "stderr",
     "output_type": "stream",
     "text": [
      "2024-04-06 17:25:52,957 - Pubmed_API - INFO:\n",
      "Search term: (\"resistance train*\"[All Fields]) AND ((y_2[Filter]) AND (meta-analysis[Filter] OR review[Filter] OR systematicreview[Filter])) AND (systematic[sb] OR review[pt])\n",
      "\n",
      "2024-04-06 17:25:53,746 - Pubmed_API - INFO:\n",
      "0 PMIDs found.\n",
      "\n"
     ]
    }
   ],
   "source": [
    "\n",
    "query = '(\"resistance train*\"[All Fields]) AND ((y_2[Filter]) AND (meta-analysis[Filter] OR review[Filter] OR systematicreview[Filter]))'\n",
    "# query = 'Factors associated with different types of hip fractures among elderly patients a tertiary hospital in Pahang: A retrospective cross-sectional study'\n",
    "# query = '(\"resistance train*\"[All Fields])'\n",
    "retmax = 10000\n",
    "# result_dict[iteration] = Pubmed_API()\n",
    "ids_list = result_dict[iteration].search_article(\n",
    "    query, retmax=retmax, ids_only=True, verbose=False,\n",
    "    review_only = True\n",
    "    )\n",
    "# df = result_dict[iteration].get_article_data_by_title()"
   ]
  },
  {
   "cell_type": "code",
   "execution_count": 16,
   "metadata": {},
   "outputs": [
    {
     "name": "stderr",
     "output_type": "stream",
     "text": [
      "2024-04-06 17:26:24,145 - Pubmed_API - INFO:\n",
      "Search term: (\"resistance train*\"[All Fields]) AND ((y_5[Filter]) AND (meta-analysis[Filter] OR review[Filter] OR systematicreview[Filter])) AND (systematic[sb] OR review[pt])\n",
      "\n",
      "2024-04-06 17:26:25,118 - Pubmed_API - INFO:\n",
      "1619 PMIDs found.\n",
      "\n"
     ]
    }
   ],
   "source": [
    "\n",
    "query = '(\"resistance train*\"[All Fields]) AND ((y_5[Filter]) AND (meta-analysis[Filter] OR review[Filter] OR systematicreview[Filter]))'\n",
    "# query = 'Factors associated with different types of hip fractures among elderly patients a tertiary hospital in Pahang: A retrospective cross-sectional study'\n",
    "# query = '(\"resistance train*\"[All Fields])'\n",
    "retmax = 10000\n",
    "# result_dict[iteration] = Pubmed_API()\n",
    "ids_list = result_dict[iteration].search_article(\n",
    "    query, retmax=retmax, ids_only=True, verbose=False,\n",
    "    review_only = True\n",
    "    )\n",
    "# df = result_dict[iteration].get_article_data_by_title()"
   ]
  },
  {
   "cell_type": "code",
   "execution_count": 17,
   "metadata": {},
   "outputs": [
    {
     "name": "stderr",
     "output_type": "stream",
     "text": [
      "2024-04-06 17:26:43,060 - Pubmed_API - INFO:\n",
      "Search term: (\"resistance train*\"[All Fields]) AND ((y_3[Filter]) AND (meta-analysis[Filter] OR review[Filter] OR systematicreview[Filter])) AND (systematic[sb] OR review[pt])\n",
      "\n",
      "2024-04-06 17:26:43,865 - Pubmed_API - INFO:\n",
      "0 PMIDs found.\n",
      "\n"
     ]
    }
   ],
   "source": [
    "\n",
    "query = '(\"resistance train*\"[All Fields]) AND ((y_3[Filter]) AND (meta-analysis[Filter] OR review[Filter] OR systematicreview[Filter]))'\n",
    "# query = 'Factors associated with different types of hip fractures among elderly patients a tertiary hospital in Pahang: A retrospective cross-sectional study'\n",
    "# query = '(\"resistance train*\"[All Fields])'\n",
    "retmax = 10000\n",
    "# result_dict[iteration] = Pubmed_API()\n",
    "ids_list = result_dict[iteration].search_article(\n",
    "    query, retmax=retmax, ids_only=True, verbose=False,\n",
    "    review_only = True\n",
    "    )\n",
    "# df = result_dict[iteration].get_article_data_by_title()"
   ]
  },
  {
   "cell_type": "markdown",
   "metadata": {},
   "source": [
    "# iteration 2 after updating py script and refreshing kernel\n",
    "Results from using the period_filter and the `review_only` parameter match what is found through Pubmed website"
   ]
  },
  {
   "cell_type": "code",
   "execution_count": 4,
   "metadata": {},
   "outputs": [
    {
     "name": "stderr",
     "output_type": "stream",
     "text": [
      "2024-04-06 17:32:43,167 - Pubmed_API - INFO:\n",
      "Search term: (\"resistance train*\"[All Fields]) AND (systematic[sb] OR review[pt]) AND y_10[Filter]\n",
      "\n",
      "2024-04-06 17:32:44,210 - Pubmed_API - INFO:\n",
      "2455 PMIDs found.\n",
      "\n"
     ]
    }
   ],
   "source": [
    "iteration = 2\n",
    "# query = '(\"resistance train*\"[All Fields]) AND ((y_10[Filter]) AND (meta-analysis[Filter] OR review[Filter] OR systematicreview[Filter]))'\n",
    "# query = 'Factors associated with different types of hip fractures among elderly patients a tertiary hospital in Pahang: A retrospective cross-sectional study'\n",
    "query = '(\"resistance train*\"[All Fields])'\n",
    "retmax = 10000\n",
    "result_dict[iteration] = Pubmed_API()\n",
    "ids_list = result_dict[iteration].search_article(\n",
    "    query, retmax=retmax, ids_only=True, verbose=False,\n",
    "    review_only = True, period_filter = 10\n",
    "    )\n",
    "# df = result_dict[iteration].get_article_data_by_title()"
   ]
  },
  {
   "cell_type": "markdown",
   "metadata": {},
   "source": [
    "# Iteration 3 try different params"
   ]
  },
  {
   "cell_type": "code",
   "execution_count": 5,
   "metadata": {},
   "outputs": [
    {
     "name": "stderr",
     "output_type": "stream",
     "text": [
      "2024-04-06 19:37:18,104 - Pubmed_API - INFO:\n",
      "Search term: (\"resistance train*\"[All Fields]) AND (systematic[sb] OR review[pt]) AND y_10[Filter]\n",
      "\n",
      "2024-04-06 19:37:33,867 - Pubmed_API - INFO:\n",
      "3 PMIDs found.\n",
      "\n"
     ]
    }
   ],
   "source": [
    "iteration = 3\n",
    "# query = '(\"resistance train*\"[All Fields]) AND ((y_10[Filter]) AND (meta-analysis[Filter] OR review[Filter] OR systematicreview[Filter]))'\n",
    "# query = 'Factors associated with different types of hip fractures among elderly patients a tertiary hospital in Pahang: A retrospective cross-sectional study'\n",
    "query = '(\"resistance train*\"[All Fields])'\n",
    "retmax = 3\n",
    "result_dict[iteration] = Pubmed_API()\n",
    "ids_list = result_dict[iteration].search_article(\n",
    "    query, retmax=retmax, ids_only=True, verbose=False,\n",
    "    review_only = True, period_filter = 10, \n",
    "    additional_search_params = {\n",
    "        'sort': 'pub_date', \n",
    "        'retmode': 'json'\n",
    "    }\n",
    "    )"
   ]
  },
  {
   "cell_type": "code",
   "execution_count": 6,
   "metadata": {},
   "outputs": [
    {
     "name": "stderr",
     "output_type": "stream",
     "text": [
      "2024-04-06 19:37:43,026 - Pubmed_API - INFO:\n",
      "Extracting these 3 PMIDs: ['38386361', '38563729', '38568267']\n",
      "\n"
     ]
    },
    {
     "data": {
      "text/plain": [
       "['<?xml version=\"1.0\" ?>\\n<!DOCTYPE PubmedArticleSet PUBLIC \"-//NLM//DTD PubMedArticle, 1st January 2024//EN\" \"https://dtd.nlm.nih.gov/ncbi/pubmed/out/pubmed_240101.dtd\">\\n<PubmedArticleSet>\\n<PubmedArticle><MedlineCitation Status=\"MEDLINE\" Owner=\"NLM\" IndexingMethod=\"Automated\"><PMID Version=\"1\">38386361</PMID><DateCompleted><Year>2024</Year><Month>04</Month><Day>05</Day></DateCompleted><DateRevised><Year>2024</Year><Month>04</Month><Day>05</Day></DateRevised><Article PubModel=\"Print-Electronic\"><Journal><ISSN IssnType=\"Electronic\">1473-6519</ISSN><JournalIssue CitedMedium=\"Internet\"><Volume>27</Volume><Issue>3</Issue><PubDate><Year>2024</Year><Month>May</Month><Day>01</Day></PubDate></JournalIssue><Title>Current opinion in clinical nutrition and metabolic care</Title><ISOAbbreviation>Curr Opin Clin Nutr Metab Care</ISOAbbreviation></Journal><ArticleTitle>Exercise and nutrition interventions for renal cachexia.</ArticleTitle><Pagination><StartPage>219</StartPage><EndPage>225</EndPage><MedlinePgn>219-225</MedlinePgn></Pagination><ELocationID EIdType=\"doi\" ValidYN=\"Y\">10.1097/MCO.0000000000001022</ELocationID><Abstract><AbstractText Label=\"PURPOSE OF REVIEW\" NlmCategory=\"OBJECTIVE\">Renal cachexia is a deleterious condition characterized by weight loss, muscle wasting and loss of physical function, quality of life, and increased mortality. Multimodal treatment strategies utilizing exercise and nutrition interventions have been recently suggested although the evidence base is still in its infancy. This paper aimed to review the current literature surrounding the use of exercise and nutrition for renal cachexia.</AbstractText><AbstractText Label=\"MAIN FINDINGS\" NlmCategory=\"RESULTS\">Evidence from systematic reviews and narrative reviews indicates that resistance training (RT) is proven to have beneficial effects on improving muscle strength and in some cases physical function, although effects on muscle mass are mixed and inconclusive. Further, combined RT and aerobic training (AT) may have also beneficial effects on overall functional capacity and there appears to be no superior mode of protocol (inter/intra-dialysis vs. home-based). For nutrition, there is new data from systematic review of studies indicating that oral nutritional supplementation (ONS) may have beneficial effects on nutritional status (e.g. body mass index, plasma albumin and handgrip strength). Omega-3 fatty acids have been shown to have anti-inflammatory effects in haemodialysis patients from two recent systematic reviews, and evidence from other populations groups indicate they may be beneficial for improving muscle mass and strength.</AbstractText><AbstractText Label=\"SUMMARY\" NlmCategory=\"CONCLUSIONS\">Evidence is accumulating for individual exercise and nutrition components but specific multimodal treatment studies in renal cachexia need to be urgently undertaken.</AbstractText><CopyrightInformation>Copyright &#xa9; 2024 The Author(s). Published by Wolters Kluwer Health, Inc.</CopyrightInformation></Abstract><AuthorList CompleteYN=\"Y\"><Author ValidYN=\"Y\"><LastName>Slee</LastName><ForeName>Adrian</ForeName><Initials>A</Initials><AffiliationInfo><Affiliation>Division of Medicine, Faculty of Medical Sciences, University College London (UCL).</Affiliation></AffiliationInfo></Author><Author ValidYN=\"Y\"><LastName>Reid</LastName><ForeName>Joanne</ForeName><Initials>J</Initials><AffiliationInfo><Affiliation>School of Nursing and Midwifery, Queen\\'s University Belfast (QUB), Belfast, Northern Ireland, UK.</Affiliation></AffiliationInfo></Author></AuthorList><Language>eng</Language><PublicationTypeList><PublicationType UI=\"D016454\">Review</PublicationType><PublicationType UI=\"D016428\">Journal Article</PublicationType></PublicationTypeList><ArticleDate DateType=\"Electronic\"><Year>2024</Year><Month>02</Month><Day>21</Day></ArticleDate></Article><MedlineJournalInfo><Country>England</Country><MedlineTA>Curr Opin Clin Nutr Metab Care</MedlineTA><NlmUniqueID>9804399</NlmUniqueID><ISSNLinking>1363-1950</ISSNLinking></MedlineJournalInfo><CitationSubset>IM</CitationSubset><MeshHeadingList><MeshHeading><DescriptorName UI=\"D006801\" MajorTopicYN=\"N\">Humans</DescriptorName></MeshHeading><MeshHeading><DescriptorName UI=\"D002100\" MajorTopicYN=\"Y\">Cachexia</DescriptorName><QualifierName UI=\"Q000209\" MajorTopicYN=\"N\">etiology</QualifierName><QualifierName UI=\"Q000628\" MajorTopicYN=\"N\">therapy</QualifierName></MeshHeading><MeshHeading><DescriptorName UI=\"D011788\" MajorTopicYN=\"Y\">Quality of Life</DescriptorName></MeshHeading><MeshHeading><DescriptorName UI=\"D018737\" MajorTopicYN=\"N\">Hand Strength</DescriptorName></MeshHeading><MeshHeading><DescriptorName UI=\"D015444\" MajorTopicYN=\"N\">Exercise</DescriptorName><QualifierName UI=\"Q000502\" MajorTopicYN=\"N\">physiology</QualifierName></MeshHeading><MeshHeading><DescriptorName UI=\"D009752\" MajorTopicYN=\"N\">Nutritional Status</DescriptorName></MeshHeading></MeshHeadingList><CoiStatement>\\n<i>There are no conflicts of interest.</i>\\n</CoiStatement></MedlineCitation><PubmedData><History><PubMedPubDate PubStatus=\"medline\"><Year>2024</Year><Month>4</Month><Day>5</Day><Hour>6</Hour><Minute>44</Minute></PubMedPubDate><PubMedPubDate PubStatus=\"pubmed\"><Year>2024</Year><Month>2</Month><Day>22</Day><Hour>12</Hour><Minute>42</Minute></PubMedPubDate><PubMedPubDate PubStatus=\"entrez\"><Year>2024</Year><Month>2</Month><Day>22</Day><Hour>11</Hour><Minute>43</Minute></PubMedPubDate><PubMedPubDate PubStatus=\"pmc-release\"><Year>2024</Year><Month>4</Month><Day>3</Day></PubMedPubDate></History><PublicationStatus>ppublish</PublicationStatus><ArticleIdList><ArticleId IdType=\"pubmed\">38386361</ArticleId><ArticleId IdType=\"pmc\">PMC10990023</ArticleId><ArticleId IdType=\"doi\">10.1097/MCO.0000000000001022</ArticleId><ArticleId IdType=\"pii\">00075197-202405000-00005</ArticleId></ArticleIdList><ReferenceList><Reference><Citation>Blair C, Slee A, Davenport A, et al. . Developing an evidence and theory based multimodal integrative intervention for the management of renal cachexia: a theory of change. Healthcare (Switzerland) 2022; 10:168&#x2013;295.</Citation><ArticleIdList><ArticleId IdType=\"pmc\">PMC9777598</ArticleId><ArticleId IdType=\"pubmed\">36553868</ArticleId></ArticleIdList></Reference><Reference><Citation>Sabatino A, Cuppari L, Stenvinkel P, et al. . Sarcopenia in chronic kidney disease: what have we learned so far? J Nephrol 2021; 34:1347&#x2013;1372.</Citation><ArticleIdList><ArticleId IdType=\"pmc\">PMC8357704</ArticleId><ArticleId IdType=\"pubmed\">32876940</ArticleId></ArticleIdList></Reference><Reference><Citation>Koppe L, Fouque D, Kalantar-Zadeh K. Kidney cachexia or protein-energy wasting in chronic kidney disease: facts and numbers. J Cachexia Sarcopenia Muscle 2019; 10:479&#x2013;484.</Citation><ArticleIdList><ArticleId IdType=\"pmc\">PMC6596400</ArticleId><ArticleId IdType=\"pubmed\">30977979</ArticleId></ArticleIdList></Reference><Reference><Citation>Slee A, Reid J. Disease-related malnutrition in chronic kidney disease. Curr Opin Clin Nutr Metab Care 2022; 25:136&#x2013;141.</Citation><ArticleIdList><ArticleId IdType=\"pubmed\">35256566</ArticleId></ArticleIdList></Reference><Reference><Citation>Slee AD, Reid J. Wasting in chronic kidney disease &#x2013; a complex issue. JCSM Clin Rep 2018; 3:1&#x2013;10.</Citation></Reference><Reference><Citation>Evans WJ, Morley JE, Argil&#xe9;s J, et al. . Cachexia: a new definition. Clin Nutr 2008; 27:793&#x2013;799.</Citation><ArticleIdList><ArticleId IdType=\"pubmed\">18718696</ArticleId></ArticleIdList></Reference><Reference><Citation>Carrero JJ, Severs D, Aguilera D, et al. . Intradialytic parenteral nutrition for patients on hemodialysis: when, how and to whom? Clin Kidney J 2023; 16:5&#x2013;18.</Citation><ArticleIdList><ArticleId IdType=\"pmc\">PMC9871859</ArticleId><ArticleId IdType=\"pubmed\">36726442</ArticleId></ArticleIdList></Reference><Reference><Citation>Webster JM, Kempen LJAP, Hardy RS, Langen RCJ. Inflammation and skeletal muscle wasting during cachexia. Front Physiol 2020; 11:597675.</Citation><ArticleIdList><ArticleId IdType=\"pmc\">PMC7710765</ArticleId><ArticleId IdType=\"pubmed\">33329046</ArticleId></ArticleIdList></Reference><Reference><Citation>Wang XH, Price SR. Organ crosstalk contributes to muscle wasting in chronic kidney disease. Semin Nephrol 2023; 43:151409.</Citation><ArticleIdList><ArticleId IdType=\"pubmed\">37611335</ArticleId></ArticleIdList></Reference><Reference><Citation>McKeaveney C, Slee A, Adamson G, et al. . Using a generic definition of cachexia in patients with kidney disease receiving haemodialysis: a longitudinal (pilot) study. Nephrol Dial Transplant 2021; 36:1919&#x2013;1926.</Citation><ArticleIdList><ArticleId IdType=\"pubmed\">33150449</ArticleId></ArticleIdList></Reference><Reference><Citation>Slee A, McKeaveney C, Adamson G, et al. . Estimating the prevalence of muscle wasting, weakness, and sarcopenia in hemodialysis patients. J Ren Nutr 2020; 30:313&#x2013;321.</Citation><ArticleIdList><ArticleId IdType=\"pubmed\">31734056</ArticleId></ArticleIdList></Reference><Reference><Citation>Avesani CM, de Abreu AM, Ribeiro HS, et al. . Muscle fat infiltration in chronic kidney disease: a marker related to muscle quality, muscle strength and sarcopenia. J Nephrol 2023; 36:895&#x2013;910.</Citation><ArticleIdList><ArticleId IdType=\"pmc\">PMC10090035</ArticleId><ArticleId IdType=\"pubmed\">36719556</ArticleId></ArticleIdList></Reference><Reference><Citation>Ribeiro HS, Neri SGR, Oliveira JS, et al. . Association between sarcopenia and clinical outcomes in chronic kidney disease patients: a systematic review and meta-analysis. Clin Nutr 2022; 41:1131&#x2013;1140.</Citation><ArticleIdList><ArticleId IdType=\"pubmed\">35430544</ArticleId></ArticleIdList></Reference><Reference><Citation>Shu X, Lin T, Wang H, et al. . Diagnosis, prevalence, and mortality of sarcopenia in dialysis patients: a systematic review and meta-analysis. J Cachexia Sarcopenia Muscle 2022; 13:145&#x2013;158.</Citation><ArticleIdList><ArticleId IdType=\"pmc\">PMC8818609</ArticleId><ArticleId IdType=\"pubmed\">34989172</ArticleId></ArticleIdList></Reference><Reference><Citation>McKeaveney C, Maxwell P, Noble H, Reid J. A critical review of multimodal interventions for cachexia. Adv Nutr 2021; 12:523&#x2013;532.</Citation><ArticleIdList><ArticleId IdType=\"pmc\">PMC8262513</ArticleId><ArticleId IdType=\"pubmed\">32970097</ArticleId></ArticleIdList></Reference><Reference><Citation>Molsted S, Bj&#xf8;rkman ASD, Lundstr&#xf8;m LH. Effects of strength training to patients undergoing dialysis: a systematic review. Danish Med J 2019; 66:A5526.</Citation><ArticleIdList><ArticleId IdType=\"pubmed\">30573007</ArticleId></ArticleIdList></Reference><Reference><Citation>Noor H, Reid J, Slee A. Resistance exercise and nutritional interventions for augmenting sarcopenia outcomes in chronic kidney disease: a narrative review. J Cachexia Sarcopenia Muscle 2021; 12:1621&#x2013;1640.</Citation><ArticleIdList><ArticleId IdType=\"pmc\">PMC8718072</ArticleId><ArticleId IdType=\"pubmed\">34585539</ArticleId></ArticleIdList></Reference><Reference><Citation>Ferrari F, Andrade FP, Teixeira MS, et al. . Efficacy of six exercise-based interventions for individuals undergoing hemodialysis: a network meta-analysis of randomized clinical trials. Nephrol Dial Transplant 2023; 38:2389&#x2013;2406.</Citation><ArticleIdList><ArticleId IdType=\"pubmed\">37118876</ArticleId></ArticleIdList></Reference><Reference><Citation>Zoccali C, Manfredini F, Kanbay M, Mallamaci F. Intradialysis exercise in haemodialysis patients: effective but complex and costly. Nephrol Dial Transplant 2023; 2023:7&#x2013;9.</Citation><ArticleIdList><ArticleId IdType=\"pubmed\">37563086</ArticleId></ArticleIdList></Reference><Reference><Citation>Seo JH, Lee Y. Association of physical activity with sarcopenia evaluated based on muscle mass and strength in older adults: 2008&#x2013;2011 and 2014&#x2212;2018 Korea National Health and Nutrition Examination Surveys. BMC Geriatr 2022; 22:217.</Citation><ArticleIdList><ArticleId IdType=\"pmc\">PMC8928682</ArticleId><ArticleId IdType=\"pubmed\">35296249</ArticleId></ArticleIdList></Reference><Reference><Citation>Johansson J, Morseth B, Scott D, et al. . Moderate-to-vigorous physical activity modifies the relationship between sedentary time and sarcopenia: the Troms&#xf8; Study 2015&#x2013;2016. J Cachexia Sarcopenia Muscle 2021; 12:95&#x2013;963.</Citation><ArticleIdList><ArticleId IdType=\"pmc\">PMC8350215</ArticleId><ArticleId IdType=\"pubmed\">34060236</ArticleId></ArticleIdList></Reference><Reference><Citation>von Gersdorff G, von Korn P, Duvinage A, et al. . Cluster randomized controlled trial on the effects of 12&#x200a;months of combined exercise training during hemodialysis in patients with chronic kidney disease&#x2014;study protocol of the dialysis training therapy (Diatt) trial. Methods Protoc 2021; 4:60.</Citation><ArticleIdList><ArticleId IdType=\"pmc\">PMC8482101</ArticleId><ArticleId IdType=\"pubmed\">34564306</ArticleId></ArticleIdList></Reference><Reference><Citation>Anding-Rost K, von Gersdorff G, von Korn P, et al. . Exercise during hemodialysis in patients with chronic kidney failure. NEJM Evid 2023; 2:EVIDoa2300057.</Citation><ArticleIdList><ArticleId IdType=\"pubmed\">38320198</ArticleId></ArticleIdList></Reference><Reference><Citation>Tabibi MA, Cheema B, Salimian N, et al. . The effect of intradialytic exercise on dialysis patient survival: a randomized controlled trial. BMC Nephrol 2023; 24:100.</Citation><ArticleIdList><ArticleId IdType=\"pmc\">PMC10108498</ArticleId><ArticleId IdType=\"pubmed\">37069527</ArticleId></ArticleIdList></Reference><Reference><Citation>Michou V, Davioti M, Syrakou N, et al. . Effects of a combined intradialytic exercise training program on functional capacity and body composition in kidney transplant candidates. J Funct Morphol Kinesiol 2023; 8:9.</Citation><ArticleIdList><ArticleId IdType=\"pmc\">PMC9844356</ArticleId><ArticleId IdType=\"pubmed\">36648901</ArticleId></ArticleIdList></Reference><Reference><Citation>Martin-Alema&#xf1;y G, Perez-Navarro M, Wilund KR, et al. . Effect of intradialytic oral nutritional supplementation with or without exercise improves muscle mass quality and physical function in hemodialysis patients: a pilot study. Nutrients 2022; 14:2946.</Citation><ArticleIdList><ArticleId IdType=\"pmc\">PMC9323958</ArticleId><ArticleId IdType=\"pubmed\">35889902</ArticleId></ArticleIdList></Reference><Reference><Citation>Greenwood SA, Young HML, Briggs J, et al. . Evaluating the effect of a digital health intervention to enhance physical activity in people with chronic kidney disease (Kidney BEAM): a multicentre, randomised controlled trial in the UK. Lancet Digit Health 2024; 6:e23&#x2013;e32.</Citation><ArticleIdList><ArticleId IdType=\"pubmed\">37968170</ArticleId></ArticleIdList></Reference><Reference><Citation>Ikizler TA, Burrowes JD, Byham-Gray LD, et al. . KDOQI clinical practice guideline for nutrition in CKD: 2020 update. Am J Kidney Dis 2020; 76:S1&#x2013;S107.</Citation><ArticleIdList><ArticleId IdType=\"pubmed\">32829751</ArticleId></ArticleIdList></Reference><Reference><Citation>Gungor O, Kara AV, Hasbal NB, Kalantar-Zadeh K. Dietary protein and muscle wasting in chronic kidney disease: new insights. Curr Opin Clin Nutr Metab Care 2023; 26:226&#x2013;234.</Citation><ArticleIdList><ArticleId IdType=\"pubmed\">36942878</ArticleId></ArticleIdList></Reference><Reference><Citation>Massini G, Caldiroli L, Molinari P, et al. . Nutritional strategies to prevent muscle loss and sarcopenia in chronic kidney disease: what do we currently know? Nutrients 2023; 15:3107.</Citation><ArticleIdList><ArticleId IdType=\"pmc\">PMC10384728</ArticleId><ArticleId IdType=\"pubmed\">37513525</ArticleId></ArticleIdList></Reference><Reference><Citation>Silva LC, de A, Correia M, et al. . Effects of nutritional supplementation stabilizing muscle mass loss in older patients on hemodiafiltration. Clin Nutr ESPEN 2023; 58:97&#x2013;103.</Citation><ArticleIdList><ArticleId IdType=\"pubmed\">38057042</ArticleId></ArticleIdList></Reference><Reference><Citation>Liu PJ, Guo J, Zhang Y, et al. . Effects of oral nutritional supplements on the nutritional status and inflammatory markers in patients on maintenance dialysis: a systematic review and meta-analysis of randomized clinical trials. Clin Kidney J 2023; 16:2271&#x2013;2288.</Citation><ArticleIdList><ArticleId IdType=\"pmc\">PMC10616451</ArticleId><ArticleId IdType=\"pubmed\">37915917</ArticleId></ArticleIdList></Reference><Reference><Citation>Therdyothin A, Phiphopthatsanee N, Isanejad M. The effect of omega-3 fatty acids on sarcopenia: mechanism of action and potential efficacy. Mar Drugs 2023; 21:399.</Citation><ArticleIdList><ArticleId IdType=\"pmc\">PMC10381755</ArticleId><ArticleId IdType=\"pubmed\">37504930</ArticleId></ArticleIdList></Reference><Reference><Citation>Liu R, Jiang J, Fu Z, et al. . Effects of omega-3 fatty acid intake in patients undergoing dialysis: a systematic review and meta-analysis of randomized controlled trials. J Am Nutr Assoc 2022; 41:697&#x2013;712.</Citation><ArticleIdList><ArticleId IdType=\"pubmed\">34635026</ArticleId></ArticleIdList></Reference><Reference><Citation>Zhou J, Tang G, Tang S, Yuan W. The effect of fish oil on inflammation markers in adult patients undergoing hemodialysis: A meta-analysis. Semin Dial 2022; 35:6&#x2013;14.</Citation><ArticleIdList><ArticleId IdType=\"pubmed\">34459522</ArticleId></ArticleIdList></Reference><Reference><Citation>Taheri M, Chilibeck PD, Cornish SM. A brief narrative review of the underlying mechanisms whereby omega-3 fatty acids may influence skeletal muscle: from cell culture to human interventions. Nutrients 2023; 15:2926.</Citation><ArticleIdList><ArticleId IdType=\"pmc\">PMC10346552</ArticleId><ArticleId IdType=\"pubmed\">37447252</ArticleId></ArticleIdList></Reference><Reference><Citation>Bird JK, Troesch B, Warnke I, Calder PC. The effect of long chain omega-3 polyunsaturated fatty acids on muscle mass and function in sarcopenia: a scoping systematic review and meta-analysis. Clin Nutr ESPEN 2021; 46:73&#x2013;86.</Citation><ArticleIdList><ArticleId IdType=\"pubmed\">34857251</ArticleId></ArticleIdList></Reference><Reference><Citation>Kittiskulnam P, Banjongjit A, Metta K, et al. . The beneficial effects of intradialytic parenteral nutrition in hemodialysis patients with protein energy wasting: a prospective randomized controlled trial. Sci Rep 2022; 12:4529.</Citation><ArticleIdList><ArticleId IdType=\"pmc\">PMC8927103</ArticleId><ArticleId IdType=\"pubmed\">35296793</ArticleId></ArticleIdList></Reference><Reference><Citation>Deutz NEP, Bauer JM, Barazzoni R, et al. . Protein intake and exercise for optimal muscle function with aging: recommendations from the ESPEN Expert Group. Clin Nutr 2014; 33:929&#x2013;936.</Citation><ArticleIdList><ArticleId IdType=\"pmc\">PMC4208946</ArticleId><ArticleId IdType=\"pubmed\">24814383</ArticleId></ArticleIdList></Reference><Reference><Citation>Villain C, Wagner S, Koppe L. Elderly patients with chronic kidney disease: towards a better control of protein intake. Nephrol Dial Transplant 2023; 38:2420&#x2013;2422.</Citation><ArticleIdList><ArticleId IdType=\"pubmed\">37381174</ArticleId></ArticleIdList></Reference></ReferenceList></PubmedData></PubmedArticle></PubmedArticleSet>',\n",
       " '<?xml version=\"1.0\" ?>\\n<!DOCTYPE PubmedArticleSet PUBLIC \"-//NLM//DTD PubMedArticle, 1st January 2024//EN\" \"https://dtd.nlm.nih.gov/ncbi/pubmed/out/pubmed_240101.dtd\">\\n<PubmedArticleSet>\\n<PubmedArticle><MedlineCitation Status=\"Publisher\" Owner=\"NLM\" IndexingMethod=\"Automated\"><PMID Version=\"1\">38563729</PMID><DateRevised><Year>2024</Year><Month>04</Month><Day>02</Day></DateRevised><Article PubModel=\"Print-Electronic\"><Journal><ISSN IssnType=\"Electronic\">1558-688X</ISSN><JournalIssue CitedMedium=\"Internet\"><PubDate><Year>2024</Year><Month>Apr</Month><Day>02</Day></PubDate></JournalIssue><Title>Perceptual and motor skills</Title><ISOAbbreviation>Percept Mot Skills</ISOAbbreviation></Journal><ArticleTitle>Feasibility and Usefulness of Repetitions-In-Reserve Scales for Selecting Exercise Intensity: A Scoping Review.</ArticleTitle><Pagination><StartPage>315125241241785</StartPage><MedlinePgn>315125241241785</MedlinePgn></Pagination><ELocationID EIdType=\"doi\" ValidYN=\"Y\">10.1177/00315125241241785</ELocationID><Abstract><AbstractText>The intensity of resistance training (RT) exercise is an important consideration for determining relevant health and performance-related outcomes. Yet, current objective exercise intensity measures present concerns in terms of viability or cost. In response to these concerns, repetition-in-reserve (RIR) scales may represent an adequate method of measuring and regulating intensity. However, no recent review has focused on how RIR scales have been used for this purpose in prior research. We prepared the present scoping review to analyze the feasibility and usefulness of RIR scales in selecting RT intensity. We conducted a systematic search in PubMed, SPORTDiscus, PsycINFO, and ClinicalTrials.gov databases (last search date April 2023) for experimental and non-experimental studies that utilized an RIR scale to measure proximity to failure in RT activities with apparently healthy individuals of any age. We qualitatively analyzed 31 studies (N = 855 mostly male adult participants) published between 2012-2023. RIR scales appeared to be contextually feasible and useful in prescribing and adjusting RT intensity. The most common trend in this research was to prescribe a target RIR and adjust the exercise load for a desired proximity to muscle failure. Additionally, when measuring proximity to failure as an outcome of interest, the literature suggests that the RIR prediction should be made close to task failure to increase its accuracy. Future research should further explore the impact of sex, RT experience, exercise selection, and muscle conditioning on the overall RIR approach.</AbstractText></Abstract><AuthorList CompleteYN=\"Y\"><Author ValidYN=\"Y\"><LastName>Bastos</LastName><ForeName>Vasco</ForeName><Initials>V</Initials><Identifier Source=\"ORCID\">0000-0002-9227-8522</Identifier><AffiliationInfo><Affiliation>Faculty of Physical Education and Sport (ULHT), Lus&#xf3;fona University, Lisbon, Portugal.</Affiliation><Identifier Source=\"RINGGOLD\">70887</Identifier></AffiliationInfo><AffiliationInfo><Affiliation>Research Center in Sport, Physical Education, and Exercise and Health (CIDEFES), Lisbon, Portugal.</Affiliation></AffiliationInfo></Author><Author ValidYN=\"Y\"><LastName>Machado</LastName><ForeName>S&#xe9;rgio</ForeName><Initials>S</Initials><Identifier Source=\"ORCID\">0000-0001-8946-8467</Identifier><AffiliationInfo><Affiliation>Center of Physical Activity Neuroscience, Neurodiversity Institute, Queimados-RJ, Brazil.</Affiliation><Identifier Source=\"RINGGOLD\">123237</Identifier></AffiliationInfo><AffiliationInfo><Affiliation>Laboratory of Panic and Respiration, Institute of Psychiatry, Federal University of Rio de Janeiro, Rio de Janeiro, Brazil.</Affiliation></AffiliationInfo></Author><Author ValidYN=\"Y\"><LastName>Teixeira</LastName><ForeName>Diogo S</ForeName><Initials>DS</Initials><AffiliationInfo><Affiliation>Faculty of Physical Education and Sport (ULHT), Lus&#xf3;fona University, Lisbon, Portugal.</Affiliation><Identifier Source=\"RINGGOLD\">70887</Identifier></AffiliationInfo><AffiliationInfo><Affiliation>Research Center in Sport, Physical Education, and Exercise and Health (CIDEFES), Lisbon, Portugal.</Affiliation></AffiliationInfo></Author></AuthorList><Language>eng</Language><PublicationTypeList><PublicationType UI=\"D016428\">Journal Article</PublicationType><PublicationType UI=\"D016454\">Review</PublicationType></PublicationTypeList><ArticleDate DateType=\"Electronic\"><Year>2024</Year><Month>04</Month><Day>02</Day></ArticleDate></Article><MedlineJournalInfo><Country>United States</Country><MedlineTA>Percept Mot Skills</MedlineTA><NlmUniqueID>0401131</NlmUniqueID><ISSNLinking>0031-5125</ISSNLinking></MedlineJournalInfo><CitationSubset>IM</CitationSubset><KeywordList Owner=\"NOTNLM\"><Keyword MajorTopicYN=\"N\">estimated repetitions to failure</Keyword><Keyword MajorTopicYN=\"N\">intensity</Keyword><Keyword MajorTopicYN=\"N\">proximity to failure</Keyword><Keyword MajorTopicYN=\"N\">repetitions in reserve</Keyword><Keyword MajorTopicYN=\"N\">resistance training</Keyword></KeywordList><CoiStatement>Declaration of Conflicting InterestsThe author(s) declared no potential conflicts of interest with respect to the research, authorship, and/or publication of this article.</CoiStatement></MedlineCitation><PubmedData><History><PubMedPubDate PubStatus=\"medline\"><Year>2024</Year><Month>4</Month><Day>2</Day><Hour>12</Hour><Minute>51</Minute></PubMedPubDate><PubMedPubDate PubStatus=\"pubmed\"><Year>2024</Year><Month>4</Month><Day>2</Day><Hour>12</Hour><Minute>51</Minute></PubMedPubDate><PubMedPubDate PubStatus=\"entrez\"><Year>2024</Year><Month>4</Month><Day>2</Day><Hour>10</Hour><Minute>22</Minute></PubMedPubDate></History><PublicationStatus>aheadofprint</PublicationStatus><ArticleIdList><ArticleId IdType=\"pubmed\">38563729</ArticleId><ArticleId IdType=\"doi\">10.1177/00315125241241785</ArticleId></ArticleIdList></PubmedData></PubmedArticle></PubmedArticleSet>',\n",
       " '<?xml version=\"1.0\" ?>\\n<!DOCTYPE PubmedArticleSet PUBLIC \"-//NLM//DTD PubMedArticle, 1st January 2024//EN\" \"https://dtd.nlm.nih.gov/ncbi/pubmed/out/pubmed_240101.dtd\">\\n<PubmedArticleSet>\\n<PubmedArticle><MedlineCitation Status=\"MEDLINE\" Owner=\"NLM\" IndexingMethod=\"Automated\"><PMID Version=\"1\">38568267</PMID><DateCompleted><Year>2024</Year><Month>04</Month><Day>04</Day></DateCompleted><DateRevised><Year>2024</Year><Month>04</Month><Day>04</Day></DateRevised><Article PubModel=\"Print-Electronic\"><Journal><ISSN IssnType=\"Electronic\">1538-005X</ISSN><JournalIssue CitedMedium=\"Internet\"><Volume>36</Volume><Issue>2</Issue><PubDate><Year>2024</Year><Month>Apr</Month><Day>01</Day></PubDate></JournalIssue><Title>Pediatric physical therapy : the official publication of the Section on Pediatrics of the American Physical Therapy Association</Title><ISOAbbreviation>Pediatr Phys Ther</ISOAbbreviation></Journal><ArticleTitle>Inspiratory Training for Improving Respiratory Strength, Pulmonary Function, and Walking in Cerebral Palsy: A Meta-Analysis.</ArticleTitle><Pagination><StartPage>207</StartPage><EndPage>215</EndPage><MedlinePgn>207-215</MedlinePgn></Pagination><ELocationID EIdType=\"doi\" ValidYN=\"Y\">10.1097/PEP.0000000000001092</ELocationID><Abstract><AbstractText Label=\"PURPOSE\" NlmCategory=\"OBJECTIVE\">To investigate the effects of inspiratory strength training on respiratory muscle strength, pulmonary function, and walking capacity in children with cerebral palsy, with Gross Motor Function Classification System I to III.</AbstractText><AbstractText Label=\"METHODS\" NlmCategory=\"METHODS\">Searches were conducted in CINAHL, LILACS, MEDLINE, and Physiotherapy Evidence Database (PEDro) databases. The outcomes of interest were respiratory muscle strength, pulmonary function, and walking capacity. The quality was assessed by PEDro Scale. The Grading of Recommendations Assessment, Development, and Evaluation system was used to summarize the quality of evidence.</AbstractText><AbstractText Label=\"RESULTS\" NlmCategory=\"RESULTS\">Inspiratory strength training increased the strength of inspiratory muscles and may increase the strength of the expiratory muscles. No changes were observed in pulmonary function or walking capacity.</AbstractText><AbstractText Label=\"CONCLUSIONS\" NlmCategory=\"CONCLUSIONS\">This systematic review provides moderate-quality evidence that inspiratory strength training is effective for increasing inspiratory muscle strength in children with cerebral palsy. Benefits may be carried over to improving expiratory muscle strength but were not observed on pulmonary function or walking capacity.</AbstractText><CopyrightInformation>Copyright &#xa9; 2024 Academy of Pediatric Physical Therapy of the American Physical Therapy Association.</CopyrightInformation></Abstract><AuthorList CompleteYN=\"Y\"><Author ValidYN=\"Y\"><LastName>Menezes</LastName><ForeName>K&#xea;nia K P</ForeName><Initials>KKP</Initials><Identifier Source=\"ORCID\">0000-0002-9906-9555</Identifier><AffiliationInfo><Affiliation>Department of Physical Therapy, Universidade Federal de Minas Gerais, Belo Horizonte, Minas Gerais, Brazil (Drs Menezes and Avelino and Ms Alvarenga); Department of Physical Therapy, Universidade Federal do Esp&#xed;rito Santo, Vit&#xf3;ria, Esp&#xed;rito Santo, Brazil (Dr Nascimento).</Affiliation></AffiliationInfo></Author><Author ValidYN=\"Y\"><LastName>Avelino</LastName><ForeName>Patrick R</ForeName><Initials>PR</Initials></Author><Author ValidYN=\"Y\"><LastName>Alvarenga</LastName><ForeName>Maria T M</ForeName><Initials>MTM</Initials></Author><Author ValidYN=\"Y\"><LastName>Nascimento</LastName><ForeName>Lucas R</ForeName><Initials>LR</Initials></Author></AuthorList><Language>eng</Language><PublicationTypeList><PublicationType UI=\"D000078182\">Systematic Review</PublicationType><PublicationType UI=\"D017418\">Meta-Analysis</PublicationType><PublicationType UI=\"D016428\">Journal Article</PublicationType></PublicationTypeList><ArticleDate DateType=\"Electronic\"><Year>2024</Year><Month>03</Month><Day>29</Day></ArticleDate></Article><MedlineJournalInfo><Country>United States</Country><MedlineTA>Pediatr Phys Ther</MedlineTA><NlmUniqueID>8912748</NlmUniqueID><ISSNLinking>0898-5669</ISSNLinking></MedlineJournalInfo><CitationSubset>IM</CitationSubset><MeshHeadingList><MeshHeading><DescriptorName UI=\"D002648\" MajorTopicYN=\"N\">Child</DescriptorName></MeshHeading><MeshHeading><DescriptorName UI=\"D006801\" MajorTopicYN=\"N\">Humans</DescriptorName></MeshHeading><MeshHeading><DescriptorName UI=\"D002547\" MajorTopicYN=\"Y\">Cerebral Palsy</DescriptorName></MeshHeading><MeshHeading><DescriptorName UI=\"D016138\" MajorTopicYN=\"N\">Walking</DescriptorName></MeshHeading><MeshHeading><DescriptorName UI=\"D053580\" MajorTopicYN=\"N\">Muscle Strength</DescriptorName></MeshHeading><MeshHeading><DescriptorName UI=\"D055070\" MajorTopicYN=\"Y\">Resistance Training</DescriptorName></MeshHeading></MeshHeadingList><CoiStatement>The authors declare no conflicts of interest.</CoiStatement></MedlineCitation><PubmedData><History><PubMedPubDate PubStatus=\"medline\"><Year>2024</Year><Month>4</Month><Day>4</Day><Hour>6</Hour><Minute>44</Minute></PubMedPubDate><PubMedPubDate PubStatus=\"pubmed\"><Year>2024</Year><Month>4</Month><Day>3</Day><Hour>12</Hour><Minute>50</Minute></PubMedPubDate><PubMedPubDate PubStatus=\"entrez\"><Year>2024</Year><Month>4</Month><Day>3</Day><Hour>11</Hour><Minute>7</Minute></PubMedPubDate></History><PublicationStatus>ppublish</PublicationStatus><ArticleIdList><ArticleId IdType=\"pubmed\">38568267</ArticleId><ArticleId IdType=\"doi\">10.1097/PEP.0000000000001092</ArticleId><ArticleId IdType=\"pii\">00001577-202404000-00004</ArticleId></ArticleIdList><ReferenceList><Reference><Citation>Rosenbaum P, Paneth N, Leviton A, et al. A report: the definition and classification of cerebral palsy April 2006. Dev Med Child Neurol Suppl. 2007;109:8-14.</Citation></Reference><Reference><Citation>Christine C, Dolk H, Platt MJ, et al. Recommendations from the SCPE collaborative group for defining and classifying cerebral palsy. Dev Med Child Neurol Suppl. 2007;109:35-38.</Citation></Reference><Reference><Citation>Surveillance of Cerebral Palsy in Europe. Surveillance of Cerebral Palsy in Europe: a collaboration of cerebral palsy surveys and registers. Surveillance of Cerebral Palsy in Europe (SCPE). Dev Med Child Neurol. 2000;42(12):816-824.</Citation></Reference><Reference><Citation>Blair E, Langdon K, McIntyre S, Lawrence D, Watson L. Survival and mortality in cerebral palsy: observations to the sixth decade from a data linkage study of a total population register and National Death Index. BMC Neurol. 2019;19(1):111.</Citation></Reference><Reference><Citation>Ryan JM, Peterson MD, Ryan N, et al. Mortality due to cardiovascular disease, respiratory disease, and cancer in adults with cerebral palsy. Dev Med Child Neurol. 2019;61(8):924-928.</Citation></Reference><Reference><Citation>Marpole R, Blackmore AM, Gibson N, Cooper MS, Langdon K, Wilson AC. Evaluation and management of respiratory illness in children with cerebral palsy. Front Pediatr. 2020;8:333.</Citation></Reference><Reference><Citation>Kwon YH, Lee HY. Differences in respiratory pressure and pulmonary function among children with spastic diplegic and hemiplegic cerebral palsy in comparison with normal controls. J Phys Ther Sci. 2015;27(2):401-403.</Citation></Reference><Reference><Citation>Pereira LC, Gomes ELFD, Malaguti C, et al. Pulmonary function, respiratory muscle strength and functional capacity in children with cerebral palsy&#x2014;a pilot study. Fisioter Brasil. 2013;14:193-197.</Citation></Reference><Reference><Citation>Kwon YH, Lee HY. Differences of respiratory function in children with spastic diplegic and hemiplegic cerebral palsy, compared with normally developed children. J Pediatr Rehabil Med. 2013;6(2):113-117.</Citation></Reference><Reference><Citation>Elkins M, Dentice R. Inspiratory muscle training facilitates weaning from mechanical ventilation among patients in the intensive care unit: a systematic review. J Physiother. 2015;61(3):125-134.</Citation></Reference><Reference><Citation>McConnell A. Respiratory Muscle Training: Theory and Practice. Edinburgh: Churchill Livingstone; 2013:233.</Citation></Reference><Reference><Citation>Illi SK, Held U, Frank I, Spengler CM. Effect of respiratory muscle training on exercise performance in healthy individuals: a systematic review and meta-analysis. Sports Med. 2012;42(8):707-724.</Citation></Reference><Reference><Citation>El Banna EH, El Hadidy EI, Ali WM. Effect of respiratory therapy on pulmonary functions in children with cerebral palsy: a systematic review. Bull Fac Phys Ther. 2020;25(1):18.</Citation></Reference><Reference><Citation>Balshem H, Helfand M, Sch&#xfc;nemann HJ, et al. GRADE guidelines: 3. Rating the quality of evidence. J Clin Epidemiol. 2011;64(4):401-406.</Citation></Reference><Reference><Citation>Schmidt R, Donato CRF, Valle PHC, et al. Assessment of respiratory muscle strength in children and adolescents. Praxis&#x2014;Rev Fisioter Univers Cruz Alta. 1999;1:41-54.</Citation></Reference><Reference><Citation>Bagg MK, McLanclan AJ, Maher CG, et al. Paracetamol, NSAIDS and opioid analgesics for chronic low back pain: a network meta-analysis. Cochrane Database Syst Rev. 2018;2018(6):CD013045.</Citation></Reference><Reference><Citation>Borenstein M, Hedges LV, Higgins JP, Rothstein HR. Introduction to Meta-Analysis. New Jersey: John Wiley &amp; Sons; 2011.</Citation></Reference><Reference><Citation>Higgins JPT, Green S. Cochrane Handbook for Systematic Reviews of Interventions Version 5.1.0. London: The Cochrane Collaboration; 2011.</Citation></Reference><Reference><Citation>Henschke N, Ostelo RW, van Tulder MW, et al. Behavioural treatment for chronic low-back pain. Cochrane Database Syst Rev. 2010;2010(7):CD002014.</Citation></Reference><Reference><Citation>Nascimento LR, Flores LC, de Menezes KKP, Teixeira-Salmela LF. Water-based exercises for improving walking speed, balance, and strength after stroke: a systematic review with meta-analyses of randomized trials. Physiotherapy. 2020;107:100-110.</Citation></Reference><Reference><Citation>Anand B, Karthikbabu S. Effects of additional inspiratory muscle training on mobility capacity and respiratory strength for school-children and adolescents with cerebral palsy: a randomized controlled trial. Braz J Phys Ther. 2021;25(6):891-899.</Citation></Reference><Reference><Citation>Keles MN, Elbasan B, Apaydin U, Aribas Z, Bakirtas A, Kokturk N. Effects of inspiratory muscle training in children with cerebral palsy: a randomized controlled trial. Braz J Phys Ther. 2018;22(6):493-501.</Citation></Reference><Reference><Citation>Kepenek-Varol B, G&#xfc;rses HN, &#x130;&#xe7;a&#x11f;as&#x131;o&#x11f;lu DF. Effects of inspiratory muscle and balance training in children with hemiplegic cerebral palsy: a randomized controlled trial. Dev Neurorehabil. 2022;25(1):1-9.</Citation></Reference><Reference><Citation>Williamson E, Pederson N, Rawson H, Daniel T. The effect of inspiratory muscle training on Duchenne muscular dystrophy: a meta-analysis. Pediatr Phys Ther. 2019;31(4):323-330.</Citation></Reference><Reference><Citation>Human A, Corten L, Jelsma J, Morrow B. Inspiratory muscle training for children and adolescents with neuromuscular diseases: a systematic review. Neuromuscul Disord. 2017;27(6):503-517.</Citation></Reference><Reference><Citation>Watson K, Egerton T, Sheers N, et al. Respiratory muscle training in neuromuscular disease: a systematic review and meta-analysis. Eur Respir Rev. 2022;31(166):220065.</Citation></Reference><Reference><Citation>Menezes KK, Nascimento LR, Ada L, Polese JC, Avelino PR, Teixeira-Salmela LF. Respiratory muscle training increases respiratory muscle strength and reduces respiratory complications after stroke: a systematic review. J Physiother. 2016;62(3):138-144.</Citation></Reference><Reference><Citation>Wedri NM, Gede Putra Yasa IDP, Sulisnadewi NLK, Sipahutar IE, Lestari AS, Hendrajaya K. Effect of diaphragmatic breathing exercise on peak expiratory flow (PEF) in individual with asthma. Indian J Public Health Res Dev. 2018;9(5):429-432.</Citation></Reference><Reference><Citation>Boel L, Pernet K, Toussaint M, et al. Respiratory morbidity in children with cerebral palsy: an overview. Dev Med Child Neurol. 2019;61(6):646-653.</Citation></Reference><Reference><Citation>Ramirez-Sarmiento A, Orozco-Levi M, Guell R, et al. Inspiratory muscle training in patients with chronic obstructive pulmonary disease: structural adaptation and physiologic outcomes. Am J Respir Crit Care Med. 2002;166(11):1491-1497.</Citation></Reference><Reference><Citation>Romer LM, McConnell AK. Specificity and reversibility of inspiratory muscle training. Med Sci Sports Exerc. 2003;35(2):237-244.</Citation></Reference><Reference><Citation>American Association of Cardiovascular and Pulmonary Rehabilitation. Guidelines for Pulmonary Rehabilitation Programs. Tonawanda, NY: United Graphic; 2011:224.</Citation></Reference><Reference><Citation>Woszezenki CT, Heinzmann Filho JP, Donadio MVF. Inspiratory muscle training in pediatrics: main indications and technical characteristics of the protocols. Fisioter Mov. 2017;30(suppl 1):317-324.</Citation></Reference><Reference><Citation>Graham HK, Selber P. Musculoskeletal aspects of cerebral palsy. J Bone Joint Surg Br. 2003;85(2):157-166.</Citation></Reference><Reference><Citation>Almeida KM, Fonseca ST, Figueiredo PRP, Aquino AA, Mancini MC. Effects of interventions with therapeutic suits (clothing) on impairments and functional limitations of children with cerebral palsy: a systematic review. Braz J Phys Ther. 2017;21(5):307-320.</Citation></Reference><Reference><Citation>de Assis Pereira Cacau L, Carvalho VO, Dos Santos Pin Alessandro, et al. Reference values for the 6-min walk distance in healthy children aged 7 to 12 years in Brazil: main results of the TC6minBrasil multi-center study. Respir Care. 2018;63(3):339-346.</Citation></Reference><Reference><Citation>Jackman M, Sakzewski L, Morgan C, et al. Interventions to improve physical function for children and young people with cerebral palsy: international clinical practice guideline. Dev Med Child Neurol. 2022;64(5):536-549.</Citation></Reference></ReferenceList></PubmedData></PubmedArticle></PubmedArticleSet>']"
      ]
     },
     "execution_count": 6,
     "metadata": {},
     "output_type": "execute_result"
    }
   ],
   "source": [
    "result_dict[iteration].batch_retrieve_citation(1)"
   ]
  },
  {
   "cell_type": "code",
   "execution_count": 7,
   "metadata": {},
   "outputs": [
    {
     "data": {
      "text/plain": [
       "{'header': {'type': 'esearch', 'version': '0.3'},\n",
       " 'esearchresult': {'count': '2455',\n",
       "  'retmax': '3',\n",
       "  'retstart': '0',\n",
       "  'idlist': ['38386361', '38563729', '38568267'],\n",
       "  'translationset': [{'from': 'y_10[Filter]', 'to': '\"last 10 years\"[dp]'}],\n",
       "  'querytranslation': '\"resistance train*\"[All Fields] AND (\"systematic\"[Filter] OR \"review\"[Publication Type]) AND \"2014/04/06 00:00\":\"3000/01/01 05:00\"[Date - Publication]'}}"
      ]
     },
     "execution_count": 7,
     "metadata": {},
     "output_type": "execute_result"
    }
   ],
   "source": [
    "result_dict[iteration].responses_dict[1]"
   ]
  },
  {
   "cell_type": "code",
   "execution_count": 10,
   "metadata": {},
   "outputs": [
    {
     "ename": "AttributeError",
     "evalue": "'Pubmed_API' object has no attribute 'record_strings_list'",
     "output_type": "error",
     "traceback": [
      "\u001b[0;31m---------------------------------------------------------------------------\u001b[0m",
      "\u001b[0;31mAttributeError\u001b[0m                            Traceback (most recent call last)",
      "Cell \u001b[0;32mIn[10], line 1\u001b[0m\n\u001b[0;32m----> 1\u001b[0m \u001b[43mresult_dict\u001b[49m\u001b[43m[\u001b[49m\u001b[43miteration\u001b[49m\u001b[43m]\u001b[49m\u001b[38;5;241;43m.\u001b[39;49m\u001b[43mrecord_strings_list\u001b[49m\n",
      "\u001b[0;31mAttributeError\u001b[0m: 'Pubmed_API' object has no attribute 'record_strings_list'"
     ]
    }
   ],
   "source": [
    "result_dict[iteration].record_strings_list"
   ]
  },
  {
   "cell_type": "markdown",
   "metadata": {},
   "source": [
    "## get all results"
   ]
  },
  {
   "cell_type": "code",
   "execution_count": 11,
   "metadata": {},
   "outputs": [
    {
     "name": "stderr",
     "output_type": "stream",
     "text": [
      "2024-04-06 19:45:49,344 - Pubmed_API - INFO:\n",
      "Search term: ( exercise*[MeSH] OR walking[MeSH] OR \"physical activity\" OR \"resistance train*\" OR \"endurance train*\" OR \"aerobic train*\" OR fitness OR sport OR musculoskeletal OR muscle OR \"sedentary behaviour\" OR \"sedentary behavior\" OR strength ) AND ( human OR men OR women OR adults ) AND (systematic[sb] OR review[pt]) AND y_10[Filter]\n",
      "\n"
     ]
    },
    {
     "name": "stderr",
     "output_type": "stream",
     "text": [
      "2024-04-06 19:45:56,110 - Pubmed_API - INFO:\n",
      "9999 PMIDs found.\n",
      "\n"
     ]
    }
   ],
   "source": [
    "\n",
    "# query = '(\"resistance train*\"[All Fields]) AND ((y_10[Filter]) AND (meta-analysis[Filter] OR review[Filter] OR systematicreview[Filter]))'\n",
    "# query = 'Factors associated with different types of hip fractures among elderly patients a tertiary hospital in Pahang: A retrospective cross-sectional study'\n",
    "query = '( exercise*[MeSH] OR walking[MeSH] OR \"physical activity\" OR \"resistance train*\" OR \"endurance train*\" OR \"aerobic train*\" OR fitness OR sport OR musculoskeletal OR muscle OR \"sedentary behaviour\" OR \"sedentary behavior\" OR strength ) AND ( human OR men OR women OR adults )'\n",
    "retmax = 20000\n",
    "# result_dict[iteration] = Pubmed_API()\n",
    "ids_list = result_dict[iteration].search_article(\n",
    "    query, retmax=retmax, ids_only=True, verbose=False,\n",
    "    review_only = True, period_filter = 10, \n",
    "    additional_search_params = {\n",
    "        'sort': 'pub_date', \n",
    "    }\n",
    "    )"
   ]
  },
  {
   "cell_type": "code",
   "execution_count": 12,
   "metadata": {},
   "outputs": [
    {
     "name": "stderr",
     "output_type": "stream",
     "text": [
      "2024-04-06 19:47:13,322 - Pubmed_API - INFO:\n",
      "Extracting these 9999 PMIDs: ['38522953', '38466174', '38445990', '38412067', '38345042', '38316756', '38259166', '38247440', '38213003', '38147501', '38054753', '38549622', '38495575', '38387318', '38051903', '38563603', '38515791', '38460900', '38441968', '38402714', '38395424', '38389650', '38387389', '38304697', '38292318', '38232466', '38223332', '38205515', '35659180', '38412944', '38350514', '38382853', '38154279', '38460702', '38506728', '38492879', '38467371', '38573204', '38553182', '38553101', '38553100', '38553098', '38553097', '38549392', '38548457', '38547331', '38547323', '38531262', '38525904', '38514229', '38514226', '38514223', '38514222', '38514220', '38514217', '38514216', '38502547', '38492623', '38488864', '38461445', '38458542', '38456627', '38451302', '38442762', '38442665', '38441488', '38440850', '38428187', '38415720', '38402140', '38401870', '38391396', '38386477', '38386476', '38386361', '38368694', '38360326', '38360079', '38360078', '38345142', '38302068', '38260943', '38219373', '38199092', '38126204', '38008754', '37978990', '37655849', '37644229', '37539773', '35652822', '38307219', '38053387', '38278376', '38571611', '38490535', '38432333', '38412881', '38408598', '38369145', '38369144', '38278328', '38360325', '38578755', '38578729', '38578671', '38578601', '38578596', '38578426', '38577940', '38577728', '38576127', '38575791', '38576109', '38576064', '38573796', '38573431', '38572904', '38580050', '38575489', '38574834', '38574390', '38570932', '38570870', '38570746', '38568991', '38527367', '38366221', '38175650', '38575053', '38574938', '38570300', '38569450', '38566279', '38566066', '38566046', '38566018', '38564007', '38563849', '38563729', '38428435', '38413132', '38408858', '38262420', '38157290', '38572585', '38569961', '38569944', '38568271', '38568267', '38566446', '38565009', '38563387', '38561741', '38561733', '38561638', '38561438', '38561020', '38560998', '38560799', '38558541', '38558448', '38557431', '38557249', '38546623', '38546252', '38545477', '38527148', '38527114', '38525288', '38524166', '38523599', '38523592', '38511224', '38508786', '38506593', '38503676', '38494402', '38489867', '38485753', '38484771', '38484770', '38484767', '38484766', '38484764', '38484763', '38479900', '38471384', '38470184', '38469916', '38469123', '38461697', '38461687', '38460392', '38456181', '38453307', '38451274', '38447925', '38447100', '38447014', '38443305', '38442510', '38442500', '38441595', '38441088', '38438585', '38438160', '38435416', '38432768', '38432127', '38432097', '38431797', '38431428', '38431150', '38430657', '38428323', '38428290', '38428254', '38423717', '38422648', '38422635', '38421263', '38418713', '38417469', '38417288', '38417253', '38416306', '38416137', '38412757', '38412572', '38411771', '38411350', '38410973', '38403901', '38403368', '38402919', '38401775', '38401460', '38401294', '38401191', '38400992', '38396235', '38395510', '38395241', '38395119', '38393385', '38390954', '38390910', '38390905', '38389299', '38388129', '38388123', '38386156', '38384718', '38383112', '38383111', '38383110', '38383109', '38383108', '38383107', '38383106', '38383105', '38383104', '38382648', '38382247', '38379511', '38378306', '38376586', '38375571', '38373593', '38371396', '38369211', '38367817', '38367398', '38367172', '38365561', '38363329', '38363261', '38362920', '38360504', '38360503', '38359727', '38359683', '38359559', '38358564', '38357723', '38354848', '38353907', '38350785', '38350512', '38349848', '38349795', '38343065', '38342242', '38341939', '38340613', '38340209', '38340181', '38337093', '38336244', '38335896', '38334967', '38332462', '38331162', '38330740', '38329526', '38328822', '38325135', '38323553', '38321357', '38321330', '38316098', '38315894', '38311698', '38311273', '38311111', '38309546', '38309180', '38306943', '38306590', '38302572', '38301917', '38301593', '38301305', '38300472', '38300402', '38299219', '38298170', '38295573', '38294726', '38294542', '38294510', '38290993', '38289375', '38284651', '38284511', '38284379', '38284344', '38281450', '38281339', '38281288', '38280419', '38276947', '38273720', '38266927', '38266658', '38265844', '38265030', '38262855', '38262785', '38262232', '38261073', '38260990', '38252370', '38251874', '38251854', '38244717', '38244445', '38244416', '38241774', '38236398', '38234263', '38232625', '38229243', '38228277', '38226404', '38226403', '38225400', '38224522', '38214806', '38212255', '38211810', '38211662', '38205616', '38204366', '38204295', '38200592', '38198638', '38197327', '38194951', '38194828', '38194629', '38193245', '38192203', '38191608', '38190437', '38185077', '38184453', '38183922', '38176402', '38174563', '38172627', '38171030', '38170976', '38169165', '38166324', '38160705', '38159429', '38158604', '38156507', '38155051', '38154235', '38151547', '38151337', '38149621', '38149616', '38148425', '38142375', '38141425', '38141128', '38140746', '38140733', '38135279', '38130034', '38128241', '38108993', '38100143', '38095480', '38090973', '38090747', '38081458', '38064768', '38064002', '38059340', '38055051', '38053362', '38049029', '38044810', '38044086', '38037747', '38030571', '38019128', '38015293', '38009413', '38008187', '37993088', '37991640', '37989803', '37987688', '37985635', '37981516', '37981505', '37971292', '37955679', '37923591', '37918470', '37914094', '37909362', '37898307', '37884260', '37882731', '37881856', '37879422', '37878283', '37871860', '37871618', '37870581', '37864609', '37843208', '37838308', '37832744', '37832743', '37823922', '37820925', '37819389', '37816191', '37794239', '37793654', '37734446', '37732513', '37728580', '37716634', '37714441', '37699587', '37698359', '37697943', '37688384', '37650521', '37633591', '37614195', '37607576', '37602998', '37594222', '37589393', '37584686', '37535560', '37523058', '37490961', '37489736', '37480906', '37469105', '37466080', '37408136', '37345238', '37326248', '37306057', '37278838', '37272343', '37272268', '37266908', '37199481', '37191583', '37171139', '37119406', '37116696', '37116688', '37070274', '37032255', '37023409', '37010112', '36971587', '36896679', '36863408', '36828005', '36827693', '36811612', '36484262', '36242526', '36059264', '35665472', '35108135', '35108131', '34597528', '33663325', '38556860', '38555435', '38507907', '38309616', '38559546', '38556371', '38555505', '38555425', '38554203', '37931451', '38563009', '38556188', '38556125', '38554478', '38553834', '38553767', '38553762', '38553573', '38553255', '38552061', '38551974', '38551932', '38551752', '38551449', '38548376', '38301269', '38564972', '38553405', '38549168', '38549162', '38548938', '38547325', '38546836', '38539065', '38488215', '38346703', '38246396', '38559589', '38557808', '38555471', '38552882', '38552718', '38552714', '38548105', '38544306', '38539233', '38539104', '38537939', '38537662', '38536416', '38533994', '38533934', '38533768', '38533547', '38531631', '38447150', '38243824', '38572876', '38554614', '38548107', '38548093', '38548003', '38531976', '38531948', '38531341', '38530786', '38530677', '38527637', '38196188', '38183434', '38552114', '38537725', '38537033', '38531581', '38528450', '38528308', '38528063', '38526760', '38526619', '38526313', '38523161', '38353291', '38310934', '38128892', '38122913', '38040288', '36239186', '38531474', '38527712', '38527625', '38520153', '38556976', '38537045', '38529309', '38523502', '38522782', '38520029', '38515205', '38515124', '38515114', '38238078', '38577282', '38577255', '38542818', '38542817', '38534400', '38529017', '38515118', '38512844', '38512600', '38512585', '38509612', '38413134', '20301344', '38571722', '38569400', '38542497', '38541735', '38540795', '38538275', '38525275', '38510264', '38509414', '38509136', '38508858', '38508667', '38508666', '38508176', '38507193', '38506524', '38506479', '38506184', '38426380', '38117096', '38567306', '38567285', '38566950', '38547726', '38542406', '38541229', '38540044', '38539398', '38535515', '38513994', '38507895', '38504373', '38504207', '38503460', '38502603', '38502556', '38502260', '38502160', '38502157', '38501686', '38305150', '38562138', '38541963', '38534255', '38508333', '38503146', '38499938', '38499791', '38498133', '38498040', '38498039', '38497758', '38497253', '38494578', '38514296', '38542361', '38540634', '38537324', '38535679', '38524401', '38493139', '38491249', '38559556', '38535819', '38534776', '38533673', '38522227', '38511797', '38500435', '38496336', '38495858', '38495158', '38491544', '38491497', '38491432', '38491168', '38490737', '38489396', '38488834', '38488639', '38484028', '38453636', '38444328', '38433917', '38341059', '38340979', '38336275', '38309576', '38301875', '38242473', '38211676', '38211672', '38029387', '37905424', '37826896', '38550632', '38550325', '38550258', '38542737', '38541344', '38540622', '38535745', '38495758', '38494935', '38492850', '38490016', '38485714', '38483650', '38483460', '37869973', '20301472', '38544844', '38542216', '38541047', '38539981', '38481339', '38479379', '38478570', '38478532', '38478473', '38475842', '38472550', '38472538', '38050034', '38578880', '38572498', '38541195', '38534337', '38532976', '38532965', '38520938', '38484900', '38484833', '38475874', '38475865', '38475746', '38472341', '38470898', '38470871', '38448176', '38580580', '38542180', '38540596', '38513375', '38489855', '38477801', '38468190', '38467727', '38467119', '38466432', '38466033', '37339527', '37335857', '38542700', '38467172', '38462820', '38541183', '38507961', '38460125', '38460068', '38459542', '38459449', '38542113', '38542099', '38542091', '38538341', '38535772', '38525332', '38524138', '38524135', '38468641', '38462172', '38459776', '38459551', '38459161', '38458814', '38457548', '38457379', '38457134', '38457105', '38454461', '38233087', '38216320', '38129104', '38542671', '38535937', '38515759', '38490209', '38460897', '38454576', '38454487', '38454010', '38453957', '38452171', '38452104', '38451904', '38451843', '38451828', '38450853', '38449327', '38449326', '38411394', '38366587', '38232176', '38127890', '38057207', '38540729', '38524504', '38510704', '38474303', '38473028', '38464668', '38455151', '38448998', '38448980', '38448221', '38446642', '38446424', '38446400', '38446241', '38446236', '38445393', '38443733', '38508888', '38474253', '38453042', '38452880', '38448269', '38444153', '38443983', '38443599', '38443585', '38443408', '38441748', '38441615', '38438114', '38390810', '38272194', '38242256', '38242225', '38538214', '38472909', '38445344', '38444959', '38442642', '38439544', '38438870', '38438855', '38438834', '38438631', '38438525', '38438178', '38438169', '38438144', '38437018', '38436969', '38436690', '38436668', '38436070', '38433623', '38433591', '38433236', '37934800', '37821393', '37738464', '37611200', '37603460', '37556371', '38541157', '38433161', '38433010', '38432682', '36946222', '38562361', '38437923', '38432330', '38432215', '38431743', '38430514', '38430450', '38430334', '38430252', '38429842', '38581228', '38576135', '38564684', '38555907', '38555905', '38555903', '38555902', '38546754', '38538362', '38532272', '38530317', '38528388', '38517125', '38514568', '38514102', '38513364', '38506265', '38497851', '38496394', '38495423', '38494984', '38494747', '38491911', '38488699', '38488439', '38488211', '38487670', '38485405', '38482104', '38474850', '38474849', '38474848', '38466948', '38462259', '38462258', '38462250', '38455436', '38455434', '38455430', '38451641', '38451443', '38449430', '38448131', '38442551', '38442453', '38440101', '38437649', '38437495', '38437493', '38436603', '38436214', '38433484', '38432750', '38432628', '38431983', '38431978', '38431975', '38430933', '38429968', '38429849', '38429613', '38428899', '38428878', '38428844', '38428821', '38428008', '38427634', '38426614', '38426297', '38425737', '38424288', '38423096', '38421578', '38416448', '38416447', '38415952', '38415671', '38410840', '38410034', '38408879', '38403254', '38401198', '38394635', '38387361', '38385776', '38385734', '38383989', '38382678', '38379261', '38378031', '38377983', '38376955', '38376754', '38375817', '38373574', '38372052', '38368071', '38368058', '38367812', '38367481', '38367457', '38367456', '38366642', '38364915', '38364033', '38364032', '38363447', '38363313', '38363312', '38361365', '38361289', '38361026', '38359729', '38354090', '38353351', '38351344', '38350370', '38350282', '38347803', '38346365', '38345620', '38344882', '38343114', '38341930', '38341322', '38336536', '38336277', '38335829', '38334921', '38334041', '38333367', '38331129', '38329532', '38325754', '38325566', '38325262', '38322149', '38321233', '38320424', '38320418', '38318931', '38316956', '38316343', '38316078', '38315183', '38310923', '38310831', '38309805', '38309798', '38308923', '38307320', '38306891', '38306782', '38306763', '38304924', '38301376', '38299680', '38297441', '38295905', '38294706', '38294671', '38294660', '38294248', '38294094', '38291564', '38290603', '38290572', '38289618', '38287722', '38286940', '38286038', '38285440', '38284126', '38281827', '38281731', '38281452', '38281348', '38280817', '38280816', '38280815', '38280814', '38280813', '38280812', '38280811', '38280810', '38280809', '38280271', '38278608', '38278565', '38277884', '38276928', '38272617', '38272152', '38270054', '38267015', '38266328', '38265244', '38265014', '38263895', '38263216', '38262506', '38261333', '38261251', '38253904', '38253697', '38252158', '38251093', '38247371', '38246231', '38246086', '38245936', '38244776', '38243025', '38242245', '38241942', '38241009', '38241008', '38240467', '38237831', '38233673', '38233498', '38233285', '38232921', '38232907', '38232185', '38230890', '38230805', '38227210', '38225369', '38224981', '38220510', '38220061', '38219705', '38219415', '38218651', '38218268', '38217973', '38217738', '38217074', '38214906', '38214904', '38214556', '38214031', '38211501', '38207325', '38206489', '38206444', '38205721', '38205546', '38205537', '38199592', '38197925', '38195300', '38193301', '38193299', '38190958', '38190019', '38189128', '38184285', '38184131', '38183851', '38181950', '38181878', '38181570', '38181123', '38180809', '38180500', '38180448', '38180409', '38180277', '38177874', '38177003', '38176451', '38175461', '38174848', '38173251', '38172484', '38172483', '38172478', '38172477', '38172475', '38169203', '38168908', '38165482', '38164044', '38163513', '38159524', '38159428', '38158151', '38157685', '38155593', '38154612', '38154313', '38151611', '38151482', '38150115', '38147872', '38147807', '38147783', '38147773', '38142038', '38141750', '38135724', '38135533', '38133622', '38133565', '38128709', '38128349', '38128253', '38127092', '38126248', '38124294', '38117229', '38116748', '38114053', '38114042', '38114041', '38113614', '38113392', '38112937', '38112921', '38111141', '38109961', '38105398', '38105311', '38105113', '38103720', '38103189', '38101914', '38101129', '38100766', '38099844', '38095707', '38093145', '38092227', '38087846', '38086902', '38084789', '38084591', '38083826', '38081576', '38079080', '38070100', '38069631', '38063810', '38059536', '38059530', '38051495', '38051123', '38050448', '38048764', '38048517', '38042755', '38042514', '38041702', '38041616', '38038901', '38038791', '38035773', '38032585', '38032099', '38031812', '38030118', '38030052', '38029504', '38017152', '38015997', '38015240', '38012971', '38012812', '38012098', '38009414', '38007970', '37997627', '37994506', '37994044', '37993313', '37992241', '37991282', '37990629', '37990078', '37989833', '37989830', '37987959', '37982857', '37982856', '37982455', '37981501', '37980173', '37976078', '37975988', '37975904', '37974532', '37971071', '37967731', '37964040', '37955683', '37950433', '37950343', '37948036', '37939367', '37933719', '37932228', '37930501', '37930043', '37925646', '37925343', '37925162', '37924337', '37923116', '37921913', '37921200', '37918699', '37914617', '37908084', '37907804', '37899532', '37898417', '37897637', '37897636', '37889449', '37879516', '37878770', '37874045', '37866484', '37866398', '37866374', '37861705', '37859567', '37850567', '37843618', '37840156', '37839335', '37838984', '37830455', '37823725', '37817392', '37816469', '37788790', '37779323', '37752827', '37752350', '37751310', '37751146', '37750181', '37740061', '37735006', '37725352', '37715644', '37714806', '37697012', '37695334', '37690907', '37678559', '37665701', '37652788', '37648900', '37643948', '37640261', '37635056', '37607565', '37604983', '37602483', '37597837', '37589927', '37589755', '37583297', '37582398', '37579956', '37574913', '37567857', '37566185', '37558161', '37555455', '37552242', '37548920', '37548237', '37539669', '37537869', '37528546', '37475695', '37474686', '37474082', '37466245', '37464172', '37419235', '37408367', '37406452', '37394146', '37394026', '37378718', '37369101', '37356965', '37345289', '37335202', '37331421', '37329113', '37327492', '37326544', '37326145', '37316416', '37306060', '37302121', '37301370', '37282546', '37259954', '37257203', '37255275', '37243880', '37202276', '37186275', '37183988', '37183593', '37171724', '37150427', '37132203', '37129097', '37088897', '37076127', '37067701', '37059965', '37022676', '36908114', '36898525', '36892807', '36892523', '36867049', '36840770', '36811829', '36748347', '36727881', '36722423', '36697394', '36640114', '36632776', '36582142', '36367246', '35856556', '35282937', '34121062', '33470832', '33433269', '33428558', '38565002', '38563037', '38535733', '38505041', '38481866', '38481860', '38474838', '38433512', '38425190', '38424716', '38424653', '38424641', '38424491', '38424483', '38423772', '38423527', '38421970', '38421265', '38421117', '38420953', '38420877', '38419099', '38418800', '38375303', '38290796', '38048912', '38018252', '20301791', '20301636', '38535916', '38534511', '38508996', '38482202', '38481844', '38481839', '38474807', '38474806', '38456155', '38426678', '38418428', '38417770', '38417737', '38417456', '38417175', '38416705', '38416337', '38416259', '38415871', '38415680', '38413501', '38413496', '38413488', '38336461', '38323651', '38220200', '38569384', '38539322', '38476445', '38474799', '38474376', '38473990', '38473988', '38473961', '38436006', '38423235', '38417772', '38417771', '38417767', '38417279', '38414293', '38414186', '38414161', '38413875', '38413870', '38410074', '38408919', '38408142', '38326130', '38303662', '38159046', '37837204', '38541118', '38540701', '38474787', '38474786', '38474784', '38469231', '38455095', '38445318', '38417551', '38409966', '38408931', '38407751', '38407314', '38186283', '37678819', '37419866', '38540696', '38474766', '38473911', '38444741', '38444138', '38412899', '38403949', '38369825', '38159763', '37848047', '38505623', '38473898', '38473887', '38472962', '38422805', '38408693', '38402486', '38400984', '38510783', '38473855', '38473847', '38473840', '38465261', '38464510', '38463944', '38463938', '38410801', '38403193', '38396030', '38395913', '38395902', '38394550', '38394496', '38394484', '38394189', '38393658', '38393630', '38391316', '38475436', '38474734', '38456010', '38456008', '38447495', '38411976', '38388497', '38388342', '38387507', '38386981', '38386173', '38383822', '38383445', '38383436', '38336466', '38061000', '37696602', '20301456', '38541088', '38515954', '38474719', '38450162', '38395082', '38387987', '38387825', '38383364', '38381659', '38381514', '38381490', '38381237', '38381189', '38372528', '38290517', '38474907', '38474710', '38473732', '38473714', '38445207', '38430616', '38404480', '38382948', '38381946', '38378941', '38378686', '38378596', '38378573', '38378496', '38376718', '38376694', '38375882', '38374448', '38355248', '38353229', '38264914', '37967297', '37708365', '37536275', '38510905', '38440785', '38440246', '38440178', '38439762', '38406601', '38400498', '38398895', '38377645', '38373997', '38373986', '38373966', '38373957', '38372809', '38372785', '38316033', '38306664', '37873931', '37591497', '38510875', '38400474', '38397072', '38368573', '38398778', '38398635', '38398052', '38377028', '38367035', '38366174', '38365672', '38252923', '38533455', '38436417', '38405352', '38398867', '38397722', '38397004', '38392073', '38366385', '38365828', '38365699', '38363913', '38363237', '38362610', '38359092', '38251663', '38426096', '38398618', '38397000', '38396994', '38395675', '38371982', '38366560', '38361439', '38361353', '38360664', '38360028', '38359911', '38357796', '38356571', '38356405', '38356360', '38355767', '38242495', '38219382', '38165904', '38125621', '38109720', '38103769', '38029711', '37979970', '37979796', '36804178', '30489717', '30000253', '30000154', '38420363', '38420028', '38419912', '38398403', '38397714', '38392036', '38375525', '38374703', '38371294', '38360453', '38359751', '38355590', '38355534', '38355438', '38355154', '38355150', '38353791', '38353691', '38353301', '38353263', '38353251', '38353102', '38320607', '38193670', '37837615', '37641937', '38487145', '38426783', '38420024', '38414762', '38414660', '38399606', '38399605', '38396904', '38392069', '38351580', '38350736', '38349519', '38348647', '38347597', '38347298', '38181313', '38410247', '38388305', '38350303', '38347592', '38347564', '38347523', '38347519', '38347486', '38346808', '38346687', '38345907', '38345905', '38345832', '38345732', '38345653', '38345651', '38345352', '38345098', '38219491', '37931169', '37931168', '37931167', '37788489', '37319363', '27809434', '38396855', '38392633', '38343087', '38396825', '38393176', '38393175', '38367367', '38341569', '38340182', '38340172', '38336761', '38336636', '38300788', '38406496', '38406307', '38405155', '38405119', '38391932', '38344213', '38341137', '38336959', '38336843', '38336789', '38336748', '38335413', '38334888', '38334807', '38334147', '38331984', '38170903', '38396741', '38396729', '38391814', '38390570', '38390330', '38389941', '38370116', '38332472', '38332156', '38332127', '38331884', '38331590', '38330039', '38329701', '38329549', '38329533', '38329498', '38326795', '37804235', '25719192', '20301599', '20301309', '38449450', '38390860', '38385025', '38385009', '38384362', '38384333', '38347861', '38336099', '38331364', '38327187', '38326919', '38326630', '38324557', '38323587', '38228375', '38216323', '38216322', '38571676', '38495064', '38397324', '38396646', '38396640', '38390196', '38387947', '38379701', '38379671', '38379550', '38331114', '38324011', '38321631', '38321477', '38321432', '38321380', '38321248', '38321142', '38319926', '38319914', '38218187', '38211591', '38183980', '38567480', '38399562', '38397198', '38397196', '38393727', '38392061', '38375361', '38339185', '38337740', '38337614', '38332806', '38317165', '38315040', '38314928', '38300618', '37995320', '37956966', '37837614', '38420792', '38399559', '38397967', '38338286', '38391539', '38339142', '38316235', '38311096', '38308660', '38308258', '38244561', '38416527', '38399548', '38371924', '38370462', '38360462', '38339689', '38337728', '38334669', '38333536', '38309753', '38308368', '38308213', '38308207', '38308006', '38307980', '38306543', '38306410', '38306156', '38305910', '38305822', '38302921', '38276881', '38577754', '38557455', '38536196', '38505529', '38495062', '38488099', '38488093', '38485381', '38485380', '38471285', '38464707', '38457236', '38456102', '38456087', '38440948', '38436356', '38436327', '38433640', '38433005', '38427706', '38415522', '38401981', '38397664', '38395419', '38392197', '38392054', '38389140', '38388187', '38388108', '38377454', '38376673', '38375695', '38374592', '38372730', '38372059', '38363707', '38363706', '38363705', '38363704', '38363703', '38363702', '38363701', '38363700', '38363699', '38363698', '38362101', '38361919', '38361773', '38359172', '38356688', '38355974', '38354343', '38346832', '38343204', '38343009', '38342999', '38339381', '38339067', '38339038', '38339035', '38339031', '38337720', '38334917', '38332471', '38331557', '38330972', '38330970', '38330969', '38329098', '38325133', '38324785', '38324179', '38323434', '38322293', '38321349', '38320492', '38318649', '38311515', '38310891', '38307679', '38307678', '38307186', '38306221', '38304215', '38303000', '38302945', '38302926', '38302911', '38300818', '38300694', '38300308', '38300010', '38299552', '38297445', '38295842', '38294715', '38294178', '38294103', '38294080', '38293948', '38293790', '38293720', '38291856', '38290862', '38290399', '38289530', '38288646', '38288598', '38286829', '38285985', '38285428', '38285083', '38281447', '38280331', '38278022', '38277070', '38275267', '38275140', '38272714', '38272266', '38272037', '38271413', '38270848', '38270365', '38270223', '38267098', '38266140', '38265520', '38264853', '38264129', '38263111', '38258963', '38258962', '38258459', '38252762', '38247325', '38245992', '38245473', '38245348', '38244897', '38243151', '38242041', '38241880', '38241507', '38241506', '38241499', '38237369', '38236511', '38236510', '38236509', '38234206', '38233312', '38232949', '38231415', '38227178', '38227177', '38225472', '38221578', '38220372', '38219913', '38219498', '38219352', '38218463', '38218331', '38217928', '38217911', '38217755', '38216806', '38216757', '38215954', '38215694', '38215613', '38212542', '38211505', '38211435', '38205894', '38204399', '38200213', '38198857', '38198032', '38194216', '38193855', '38191918', '38187123', '38185223', '38185028', '38184198', '38184138', '38184001', '38182963', '38182100', '38181716', '38181657', '38181632', '38181586', '38180690', '38178558', '38177557', '38174736', '38174410', '38173138', '38171246', '38171052', '38169278', '38167783', '38167710', '38161032', '38160640', '38158766', '38158275', '38157713', '38157051', '38156611', '38154026', '38152056', '38151583', '38150950', '38149359', '38142891', '38142623', '38142467', '38141926', '38141863', '38141514', '38141497', '38141322', '38134724', '38134482', '38133764', '38128631', '38128611', '38128150', '38127010', '38122854', '38113856', '38113292', '38110652', '38110000', '38108960', '38108091', '38105752', '38104183', '38103823', '38103481', '38103083', '38097687', '38097210', '38096964', '38096860', '38095849', '38095828', '38093031', '38092252', '38091850', '38091232', '38090981', '38088913', '38088908', '38087661', '38086772', '38086351', '38085883', '38085880', '38085326', '38084597', '38081926', '38081545', '38081421', '38081106', '38071925', '38070720', '38070208', '38069976', '38063136', '38062879', '38061417', '38061234', '38060107', '38059982', '38057537', '38056774', '38056586', '38056059', '38054898', '38051494', '38051386', '38051379', '38049681', '38049643', '38049207', '38049177', '38048905', '38048651', '38043858', '38043115', '38040114', '38040113', '38039843', '38038740', '38036025', '38035975', '38033311', '38030440', '38029633', '38021217', '38018793', '38017087', '38016138', '38015317', '38012886', '38010050', '38009189', '38008952', '38008476', '38008038', '38007280', '38007174', '38006755', '38006438', '38000713', '38000662', '38000567', '38000508', '37999798', '37999750', '37999701', '37997820', '37996722', '37995990', '37994532', '37994414', '37993759', '37992867', '37992866', '37990953', '37990512', '37990449', '37989831', '37987799', '37987113', '37984015', '37983768', '37980627', '37980182', '37979992', '37979985', '37979982', '37977266', '37976498', '37975798', '37973702', '37973674', '37973289', '37972921', '37972793', '37972708', '37970801', '37970797', '37968775', '37966424', '37963574', '37962223', '37962076', '37956633', '37955181', '37951029', '37950372', '37950340', '37949734', '37949537', '37949535', '37948020', '37947013', '37944663', '37943253', '37941472', '37940058', '37936516', '37933682', '37933440', '37933425', '37927223', '37926865', '37926010', '37925822', '37925311', '37924459', '37916514', '37915259', '37909359', '37908101', '37906060', '37902936', '37902898', '37897844', '37897843', '37897544', '37897525', '37890526', '37890009', '37888298', '37884798', '37879533', '37878791', '37877969', '37875611', '37874300', '37872808', '37872373', '37861741', '37854007', '37851002', '37849383', '37847373', '37845840', '37845377', '37845118', '37844833', '37844569', '37843752', '37843692', '37842905', '37839993', '37839705', '37839038', '37838530', '37837304', '37831102', '37822138', '37821423', '37819397', '37816931', '37816804', '37815580', '37814427', '37814373', '37813764', '37812334', '37811741', '37803106', '37801082', '37798828', '37796168', '37793947', '37792272', '37792100', '37791830', '37787909', '37783743', '37783626', '37783425', '37779491', '37778507', '37777626', '37776465', '37774828', '37772471', '37772407', '37770064', '37769242', '37768370', '37755391', '37751765', '37750859', '37749418', '37749210', '37746832', '37741135', '37740051', '37737543', '37734462', '37734170', '37731365', '37731155', '37731091', '37728057', '37724488', '37718195', '37713935', '37709558', '37704775', '37703284', '37700141', '37697480', '37694895', '37694736', '37690072', '37684502', '37682344', '37675453', '37668276', '37658244', '37652215', '37650988', '37650491', '37648014', '37644379', '37635047', '37634878', '37632655', '37624925', '37622723', '37619663', '37614051', '37598797', '37598012', '37589901', '37584856', '37580429', '37578673', '37577934', '37573929', '37566806', '37566148', '37558082', '37545015', '37542118', '37542014', '37541356', '37535636', '37535085', '37532166', '37530545', '37515513', '37507646', '37499756', '37498482', '37497796', '37487582', '37477576', '37450931', '37450209', '37443521', '37432898', '37423470', '37417996', '37414586', '37395322', '37394151', '37387357', '37355191', '37354318', '37331468', '37330413', '37326760', '37326668', '37307822', '37294202', '37252803', '37230187', '37183580', '37165627', '37146663', '37128159', '37116553', '37104493', '37079208', '37079036', '37075282', '37074792', '37071967', '37071550', '37042969', '37042308', '36960920', '36940706', '36876736', '36867050', '36863413', '36779774', '36757080', '36724203', '36710007', '36705274', '36698053', '36644928', '36633385', '36548943', '36418660', '36398938', '36398452', '36121037', '36082954', '36062583', '36062580', '38435930', '38391726', '38357445', '38357265', '38357009', '38337711', '38337703', '38334659', '38312845', '38297359', '38296655', '38296345', '38294516', '38291995', '38410605', '38338960', '38337694', '38337689', '38334647', '38312990', '38298697', '38296285', '38293478', '38293413', '38291447', '38291381', '38289257', '38288855', '38288722', '38286919', '37827301', '37739100', '38397910', '38390858', '38348420', '38348134', '38348029', '38339316', '38337676', '38334644', '38292295', '38287352', '38284139', '38282598', '38183876', '38149605', '37738507', '37697643', '37459114', '38338885', '38312348', '38281246', '37559383', '38399676', '38399509', '38389845', '38399504', '38344661', '38344230', '38343878', '38339541', '38338835', '38337645', '38292460', '38279150', '38277431', '38277195', '38275009', '38399960', '38393259', '38391067', '38374961', '38338783', '38338751', '38337644', '38337640', '38333426', '38333212', '38333081', '38332941', '38279715', '38278085', '38273271', '38273243', '38271551', '38271440', '38271008', '38270792', '38270702', '38269417', '37721158', '37585608', '34785586', '34544961', '38397384', '38328537', '38327517', '38310484', '38283764', '38267989', '38267975', '38267849', '38265999', '38264794', '38263483', '37832940', '37816542', '37758242', '37738511', '38558551', '38399361', '38392040', '38389612', '38338653', '38337338', '38287839', '38263220', '38262990', '38261356', '38142398', '38135498', '38088350', '37877514', '37788492', '37708432', '36722165', '36661225', '38464628', '38344385', '38318291', '38276564', '38276562', '38276141', '38261398', '38253590', '38252665', '38252639', '38252615', '38165220', '38314129', '38253366', '38247029', '38327725', '38253300', '38245773', '38245757', '38245749', '38245729', '38245704', '38245248', '38313837', '38312894', '38279217', '38246521', '38244922', '38243252', '38242137', '38242114', '38241335', '38240903', '38236950', '38236689', '37816146', '38469342', '38390600', '38304178', '38257711', '38256228', '38255326', '38255133', '38255007', '38252773', '38248572', '38244986', '38244921', '38242500', '38238823', '38238658', '38238348', '38236928', '38236381', '37713810', '37610985', '37437247', '36528816', '28402615', '38391128', '38298194', '38298189', '38256432', '38256223', '38255430', '38249099', '38233942', '38233743', '38233032', '38232346', '38231402', '38229476', '38229088', '37669565', '38288474', '38255107', '38247859', '38239811', '38231146', '38229172', '38229123', '38229114', '38229063', '38229041', '38228159', '38227061', '38227053', '38226724', '38226651', '38225600', '38225444', '38199713', '38059362', '37286515', '37286503', '38376433', '38288351', '38288343', '38256796', '38247849', '38234920', '38232793', '38225850', '38225573', '38221822', '38176522', '38158005', '38134564', '38123007', '38081447', '38007059', '37963536', '37952856', '37852587', '30000527', '30000397', '38221714', '38219269', '38219250', '38219230', '26247089', '38256574', '38256087', '38255085', '38251306', '38218933', '38218874', '38218744', '38217744', '38327998', '38284530', '38283744', '38257141', '38256036', '38254701', '38251305', '38247834', '38218667', '38218174', '38216921', '38216688', '38216286', '38215098', '38214778', '37873664', '37130339', '38333558', '38274886', '38274429', '38257543', '38256005', '38255976', '38255971', '38255069', '38247830', '38212747', '38206927', '37923366', '33661592', '38292772', '38257122', '38257114', '38255955', '38248542', '38247816', '38215969', '38211761', '38200520', '38200481', '38200473', '38200035', '38198570', '38198235', '38197143', '37956956', '37832672', '37433660', '37290426', '38264649', '38264279', '38264193', '38263961', '38248281', '38195493', '38195442', '38195174', '38194261', '38194191', '38193465', '38165374', '37929589', '38264192', '38260146', '38260129', '38260072', '38260060', '38259872', '38259770', '38259444', '38257100', '38254676', '38207201', '38191307', '38190022', '38189479', '38189223', '38189218', '38052003', '37095695', '38257446', '38185790', '38185708', '38254965', '38191016', '38183493', '38183149', '38183054', '38257424', '38255703', '38249794', '38249743', '38249418', '38249363', '38247798', '38196837', '38183083', '38182977', '38182421', '38181107', '38181000', '38180964', '38180729', '38180584', '38180112', '38177946', '38175910', '37968131', '37791999', '37783346', '38289711', '38258936', '38258935', '38254669', '38239194', '38203837', '38203836', '38202006', '38202001', '38201996', '38190471', '38183160', '38178577', '38178230', '38178175', '38178026', '37607003', '38256355', '38239346', '38235143', '38234593', '38203802', '38179261', '38177010', '38172976', '38172934', '38172867', '38172823', '38172769', '38172738', '38172696', '38168663', '38167170', '38097353', '37989539', '37972149', '37931079', '38287703', '38277149', '38179580', '38167051', '38167021', '38166968', '38166819', '38166812', '38166778', '38166185', '38165989', '38154976', '38073448', '36927642', '35833387', '38564546', '38564544', '38557830', '38557481', '38556420', '38546174', '38538191', '38538187', '38527990', '38522876', '38514212', '38504551', '38502616', '38497190', '38494291', '38494288', '38494286', '38494285', '38494283', '38488568', '38476845', '38462479', '38448135', '38444385', '38439687', '38439192', '38432935', '38432919', '38432833', '38432828', '38432827', '38432821', '38432813', '38432793', '38432790', '38427502', '38426896', '38425973', '38415228', '38390252', '38389351', '38385158', '38383974', '38383972', '38376026', '38375998', '38374007', '38372023', '38363613', '38360004', '38358480', '38353446', '38351701', '38351582', '38350409', '38349684', '38343352', '38343072', '38342555', '38336507', '38335974', '38334735', '38329809', '38328614', '38327630', '38317049', '38316438', '38312013', '38307674', '38307645', '38306066', '38305595', '38305291', '38305275', '38294947', '38291835', '38289879', '38287938', '38287719', '38286120', '38285995', '38285766', '38284685', '38284670', '38282393', '38282217', '38280808', '38277805', '38277309', '38277301', '38277294', '38274199', '38271065', '38270856', '38269518', '38269502', '38268891', '38268280', '38268066', '38266055', '38263554', '38261207', '38255196', '38251069', '38247252', '38246709', '38242596', '38242593', '38239114', '38238107', '38235869', '38235773', '38232688', '38231082', '38229462', '38228090', '38228014', '38227872', '38226741', '38226729', '38226710', '38225199', '38225101', '38219544', '38219522', '38218665', '38217982', '38217620', '38214680', '38212553', '38211547', '38211359', '38207227', '38206116', '38205574', '38199320', '38197384', '38193836', '38193635', '38191141', '38191139', '38191134', '38190162', '38189713', '38189442', '38189146', '38188119', '38185993', '38185371', '38183999', '38183823', '38183820', '38181722', '38181458', '38181386', '38181382', '38180691', '38180686', '38180071', '38180040', '38176820', '38176683', '38174000', '38173376', '38172629', '38170459', '38169614', '38169594', '38169578', '38168817', '38166517', '38166310', '38165245', '38165117', '38164688', '38160120', '38159477', '38158295', '38157747', '38157070', '38155468', '38154476', '38154275', '38153429', '38149896', '38149632', '38148094', '38145410', '38143387', '38143369', '38143196', '38142525', '38141865', '38141488', '38140991', '38134649', '38129255', '38128086', '38126402', '38126401', '38126105', '38124300', '38117990', '38117427', '38112769', '38109948', '38109221', '38109007', '38105089', '38104638', '38104437', '38103537', '38103367', '38103150', '38103003', '38101688', '38098144', '38092270', '38091812', '38091036', '38090927', '38087819', '38087715', '38086924', '38086348', '38085630', '38085629', '38085298', '38084053', '38078940', '38071927', '38070411', '38070272', '38065433', '38065015', '38063866', '38063057', '38060425', '38060102', '38059891', '38054428', '38054275', '38052139', '38052114', '38051676', '38051432', '38051317', '38047423', '38043178', '38043101', '38043100', '38042767', '38042498', '38042379', '38042281', '38042245', '38042113', '38041911', '38041786', '38037846', '38036402', '38036384', '38036104', '38036102', '38035561', '38035435', '38032257', '38031766', '38030993', '38030947', '38030092', '38021206', '38019069', '38018392', '38016892', '38016834', '38016614', '38016244', '38016243', '38014480', '38008091', '38008079', '38008065', '38007907', '38007054', '38006666', '38001066', '38000591', '37999738', '37999703', '37999643', '37996688', '37996272', '37996246', '37994416', '37993401', '37993028', '37992478', '37990820', '37990374', '37989119', '37988971', '37985429', '37982855', '37982498', '37982172', '37981047', '37980779', '37980679', '37980189', '37980184', '37980095', '37980060', '37979245', '37978969', '37977327', '37976961', '37976559', '37975707', '37975316', '37975205', '37973224', '37972981', '37972483', '37972443', '37962245', '37962178', '37957284', '37956895', '37956875', '37955832', '37955281', '37955075', '37953025', '37952702', '37952700', '37952699', '37951680', '37951670', '37951649', '37951446', '37951110', '37949516', '37949515', '37949514', '37949513', '37949512', '37949511', '37949510', '37949509', '37949508', '37949507', '37949506', '37949505', '37949504', '37949383', '37949307', '37948969', '37948028', '37945143', '37945078', '37945076', '37945075', '37945071', '37944544', '37942825', '37941469', '37940802', '37940467', '37940390', '37939921', '37939878', '37938877', '37938210', '37935249', '37931717', '37929823', '37927271', '37926719', '37926438', '37926070', '37925758', '37925256', '37925241', '37925228', '37925059', '37923862', '37923858', '37923631', '37923028', '37923001', '37922021', '37921993', '37921669', '37921341', '37917919', '37917377', '37914611', '37914040', '37913886', '37913716', '37909882', '37907965', '37907642', '37906426', '37905829', '37903419', '37902798', '37902108', '37898461', '37897197', '37897184', '37891003', '37890546', '37884459', '37883822', '37882972', '37882242', '37879500', '37879144', '37877893', '37877199', '37874465', '37874047', '37873578', '37872033', '37871966', '37871708', '37867399', '37866686', '37858453', '37856396', '37855274', '37854011', '37852312', '37852189', '37848591', '37846179', '37845351', '37844547', '37838337', '37837495', '37837351', '37833225', '37830398', '37828823', '37828763', '37823952', '37823613', '37823547', '37820856', '37820382', '37820074', '37817370', '37812920', '37806640', '37805092', '37804313', '37804083', '37802670', '37802386', '37802214', '37802177', '37802139', '37802082', '37797336', '37796329', '37796292', '37796290', '37796224', '37793461', '37793446', '37792792', '37792014', '37789591', '37787846', '37787845', '37775520', '37774899', '37772615', '37771079', '37770233', '37767816', '37766573', '37766416', '37758867', '37757905', '37757596', '37755666', '37755498', '37755478', '37754676', '37751076', '37750993', '37750510', '37749615', '37746888', '37743815', '37743019', '37742680', '37741636', '37741350', '37737631', '37734548', '37734191', '37729554', '37728939', '37728896', '37726968', '37725293', '37718825', '37718136', '37718126', '37716840', '37716082', '37714318', '37712496', '37707365', '37703782', '37703308', '37702935', '37702170', '37700522', '37698149', '37696332', '37695075', '37694792', '37691606', '37691440', '37691274', '37690535', '37689377', '37689376', '37688572', '37688286', '37682412', '37681938', '37679204', '37678805', '37676620', '37676619', '37673844', '37671726', '37670429', '37667569', '37661339', '37660893', '37660179', '37659995', '37659224', '37658966', '37658636', '37657596', '37654247', '37652254', '37650845', '37649253', '37648062', '37644750', '37644333', '37640177', '37640176', '37640026', '37634998', '37634495', '37632197', '37626471', '37625532', '37625283', '37625216', '37620596', '37619434', '37607091', '37604361', '37603077', '37602930', '37599518', '37594505', '37591727', '37589736', '37586358', '37586104', '37582455', '37582194', '37578535', '37577825', '37571923', '37563812', '37563774', '37563454', '37561820', '37561195', '37561138', '37560913', '37557094', '37555597', '37552316', '37551161', '37539633', '37531983', '37530658', '37526457', '37526456', '37497698', '37495458', '37495074', '37491857', '37490624', '37487957', '37483053', '37483043', '37481735', '37475709', '37475698', '37458315', '37442721', '37433667', '37424380', '37417654', '37408131', '37403989', '37394418', '37393892', '37391195', '37387258', '37385345', '37382889', '37381598', '37368198', '37366280', '37365423', '37355192', '37355015', '37350486', '37343648', '37335820', '37322848', '37318587', '37318586', '37315898', '37306161', '37288953', '37278034', '37276096', '37272709', '37272228', '37264660', '37263590', '37247514', '37231867', '37230869', '37224377', '37204267', '37191618', '37191494', '37184472', '37170640', '37167368', '37165923', '37163211', '37161267', '37160638', '37149283', '37147265', '37143238', '37138437', '37114936', '37097092', '37083139', '37070935', '37069785', '37059654', '37038296', '37036152', '37031014', '37029664', '37022919', '37014971', '36973869', '36972206', '36965010', '36960926', '36946876', '36933040', '36920532', '36918791', '36894187', '36892022', '36883673', '36872593', '36872589', '36858944', '36840629', '36825699', '36788688', '36779579', '36751865', '36748221', '36736727', '36707977', '36695372', '36651026', '36650898', '36648389', '36617965', '36597658', '36572065', '36572064', '36562352', '36545729', '36539388', '36539212', '36539062', '36523132', '36502296', '36470703', '36415109', '36411557', '36395520', '36377346', '36333540', '36253950', '36229224', '36178302', '36178297', '36150629', '36111369', '36106474', '36100601', '36066814', '36052404', '36036968', '36004623', '35959701', '35927921', '35894639', '35815646', '35738324', '35633081', '35620889', '35613308', '35584288', '35459429', '35387527', '35290247', '35151622', '35118721', '34474938', '33870872', '38255685', '38247683', '38123233', '38115589', '37995565', '37993126', '37981460', '37976836', '37963203', '37948991', '37852660', '37742894', '37496386', '37078597', '37021717', '38292961', '38254650', '38201964', '38014425', '38288234', '38206739', '38203683', '38203681', '38203642', '38165749', '38158369', '38254642', '38248744', '38203600', '38159640', '38158180', '38158179', '38153542', '38152899', '38256312', '38256310', '38203552', '38203019', '38201920', '38179757', '38151723', '38150056', '38149986', '38019155', '38274915', '38255166', '38250812', '38229837', '38203517', '38163957', '38150194', '38149942', '38146925', '38061062', '38203460', '38201893', '38151352', '38151351', '38151344', '38145485', '37812446', '38254920', '38142273', '38203416', '38203407', '38152078', '38141117', '38140841', '37786366', '37717957', '38255640', '38249228', '38248382', '38203919', '38202926', '38161738', '38141782', '38134210', '38129368', '38126603', '37973403', '37952223', '38276803', '38276229', '38276052', '38275983', '38201864', '38200928', '38188334', '38188303', '38187796', '38145223', '38144179', '38135056', '38129787', '38129770', '38129348', '38128047', '37555441', '38406380', '38276792', '38276221', '38275828', '38213807', '38202035', '38201848', '38201463', '38124233', '38124185', '38124110', '38124026', '38123347', '38117924', '38116818', '38116803', '38114854', '37045807', '37022309', '38203205', '38187136', '38174070', '38169800', '38148987', '38128862', '38115778', '38115056', '38115016', '38114961', '38114897', '38113097', '38113062', '38110646', '37402547', '38186688', '38164448', '38164444', '38140395', '38126439', '38115872', '38110958', '38110908', '38110859', '38110842', '37899020', '38139404', '38139400', '38138293', '38104307', '38140385', '38104108', '38102631', '38102373', '38290198', '38187050', '38132551', '38132064', '38116304', '38115266', '38111665', '38102800', '38102715', '38102385', '38101929', '38100429', '38087786', '37995461', '37963039', '37903500', '37797753', '37791506', '37711399', '37696583', '37652377', '35852130', '38130738', '38107569', '38101857', '38098064', '38097998', '38097956', '38096224', '38095576', '37698160', '37668011', '22319799', '38350472', '38140360', '38140356', '38137938', '38132050', '38108442', '38093253', '38091370', '38091282', '38091275', '38090800', '38350483', '38187790', '38162697', '38149260', '38137157', '38136651', '38136649', '38132661', '38124127', '38092276', '38090077', '38087275', '38087218', '38086582', '38085134', '38082340', '38082199', '38044044', '38137689', '38131785', '38084027', '38082316', '38082282', '38082258', '38082233', '38082217', '38081839', '38079495', '38079014', '37997693', '37991468', '37988580', '37675799', '37605554', '37120152', '37085157', '38132132', '38081360', '38071599', '38139116', '38139115', '38131953', '38071341', '38533439', '38145077', '38143759', '38140303', '38138238', '38133193', '38088726', '38088665', '38066892', '38066609', '38066577', '38066535', '38066531', '38066427', '38066425', '38066326', '38065914', '38065911', '38065900', '38065086', '38064433', '38063441', '38149427', '38145084', '38140290', '38132327', '38132107', '38131778', '38070674', '38069917', '38062765', '38062495', '38062372', '38062268', '38060569', '38060501', '38060053', '38059909', '37884354', '34215567', '38186498', '38145067', '38139030', '38138997', '38138230', '38133108', '38107823', '38084146', '38057333', '38056919', '38055158', '38055087', '37478464', '38138968', '38138226', '38132710', '38132317', '38089541', '38088118', '38058676', '38053468', '38053128', '38052976', '37866746', '36789751', '38111482', '38068543', '38049873', '38049792', '38047752', '37947390', '37897910', '38042909', '38042802', '38042780', '38042771', '38042758', '38041768', '38041049', '35652939', '38515470', '38446499', '38374822', '38355238', '38353087', '38350022', '38325321', '38325314', '38314050', '38314044', '38305252', '38303184', '38277632', '38251624', '38239252', '38239246', '38214047', '38214046', '38214045', '38213859', '38213858', '38187113', '38186068', '38176031', '38166341', '38163013', '38163012', '38161681', '38157872', '38156975', '38156834', '38155388', '38150557', '38147151', '38140948', '38135807', '38130407', '38127802', '38126284', '38125661', '38125453', '38117446', '38116284', '38112939', '38109410', '38107814', '38102522', '38100052', '38095396', '38091619', '38083921', '38083869', '38081957', '38075415', '38072577', '38069361', '38069357', '38068842', '38066823', '38065635', '38065632', '38064214', '38063651', '38063359', '38062600', '38060134', '38059995', '38059203', '38058136', '38057023', '38056996', '38054411', '38054051', '38053536', '38052933', '38051842', '38051339', '38050592', '38050249', '38046441', '38045742', '38045588', '38042607', '38041827', '38041774', '38041526', '38041188', '38040837', '38038979', '38038894', '38038652', '38038426', '38038382', '38038379', '38038376', '38038371', '38037752', '38037711', '38037364', '38037333', '38037331', '38036770', '38035603', '38034858', '38033524', '38031572', '38019345', '38018376', '38016038', '38015740', '38015738', '38012408', '38011051', '38006478', '38000341', '37999992', '37999882', '37999828', '37999825', '37991651', '37991648', '37991647', '37991646', '37991534', '37990969', '37989266', '37987727', '37984695', '37982993', '37982659', '37981054', '37980835', '37980282', '37979728', '37979700', '37978889', '37977514', '37976817', '37974862', '37973676', '37973672', '37971665', '37971640', '37971303', '37969131', '37968365', '37968169', '37967653', '37962833', '37962614', '37962197', '37962193', '37957297', '37956971', '37956646', '37956522', '37955831', '37955654', '37955121', '37952487', '37951313', '37950027', '37949790', '37948884', '37948008', '37947868', '37945995', '37945774', '37944798', '37944707', '37944706', '37944293', '37944194', '37942509', '37942504', '37941313', '37941311', '37937812', '37937691', '37935209', '37935208', '37933821', '37932151', '37931847', '37931512', '37927181', '37927059', '37926920', '37925994', '37925806', '37925805', '37925804', '37925094', '37924980', '37923947', '37923099', '37922976', '37922635', '37922234', '37919443', '37919337', '37919024', '37919018', '37918628', '37918626', '37918322', '37918298', '37918019', '37917388', '37916929', '37914492', '37913798', '37910562', '37910242', '37909689', '37909372', '37909314', '37909205', '37908148', '37907138', '37907014', '37906291', '37905557', '37904016', '37903410', '37902161', '37899527', '37898446', '37897906', '37897858', '37897326', '37897211', '37897117', '37890602', '37890552', '37890290', '37889357', '37888895', '37885822', '37884821', '37884467', '37884200', '37882807', '37879837', '37878211', '37877954', '37877797', '37877224', '37877037', '37874501', '37874381', '37871879', '37871831', '37871348', '37867162', '37866818', '37866692', '37866405', '37866153', '37865855', '37865850', '37865846', '37865516', '37865439', '37865227', '37864956', '37864773', '37863532', '37863531', '37863375', '37863328', '37863016', '37862825', '37862820', '37861197', '37860866', '37858683', '37855034', '37852802', '37852469', '37851375', '37850554', '37850321', '37850298', '37849316', '37848647', '37848567', '37845798', '37844764', '37843643', '37840378', '37839954', '37839315', '37838013', '37837575', '37831498', '37831357', '37831110', '37831092', '37827444', '37827244', '37826898', '37824760', '37824059', '37823790', '37823207', '37820568', '37820073', '37819274', '37817022', '37816445', '37816259', '37816229', '37813823', '37813238', '37813005', '37812896', '37812414', '37812347', '37812251', '37807921', '37807828', '37806487', '37804345', '37802002', '37801933', '37801267', '37800576', '37798219', '37798160', '37797568', '37796678', '37796390', '37796291', '37795948', '37795424', '37794736', '37792313', '37792158', '37792156', '37792116', '37791386', '37788151', '37787844', '37783446', '37779474', '37779155', '37778707', '37778090', '37776665', '37776580', '37775540', '37774944', '37773930', '37772882', '37771958', '37771116', '37771007', '37771002', '37769694', '37768873', '37768506', '37768356', '37759413', '37758933', '37758907', '37757659', '37756313', '37752311', '37750475', '37750390', '37749855', '37749782', '37747534', '37746869', '37743111', '37742232', '37740410', '37739518', '37737920', '37737780', '37737767', '37737048', '37734428', '37734236', '37732940', '37732463', '37730486', '37728719', '37728018', '37726217', '37725130', '37721574', '37718223', '37717881', '37717656', '37716877', '37716639', '37716338', '37716136', '37715061', '37715007', '37712844', '37710421', '37709903', '37709652', '37709258', '37708835', '37707784', '37707757', '37704502', '37704195', '37704054', '37702557', '37700080', '37698832', '37698784', '37698766', '37698343', '37696253', '37695493', '37691047', '37689321', '37688748', '37684016', '37682410', '37682409', '37678618', '37678492', '37678276', '37677995', '37673709', '37673295', '37673126', '37673101', '37672893', '37671719', '37668895', '37668660', '37668346', '37666300', '37665602', '37661635', '37657502', '37656392', '37654128', '37652435', '37652306', '37651982', '37651080', '37649455', '37649239', '37648598', '37648543', '37648411', '37647675', '37646503', '37646204', '37643935', '37643934', '37643281', '37642478', '37641529', '37641476', '37640886', '37639896', '37639305', '37634898', '37633762', '37633644', '37633336', '37632665', '37625917', '37620126', '37619969', '37615752', '37611870', '37608442', '37608244', '37607265', '37606283', '37605296', '37605071', '37603306', '37603201', '37603200', '37598586', '37596376', '37596130', '37594654', '37594616', '37594566', '37594550', '37594504', '37593731', '37589872', '37587575', '37586849', '37586760', '37586412', '37584843', '37584390', '37581293', '37579837', '37578094', '37577814', '37574261', '37573934', '37573015', '37566528', '37563072', '37562188', '37560166', '37558853', '37555833', '37553234', '37548782', '37548025', '37544627', '37544621', '37543337', '37543206', '37542545', '37541335', '37541330', '37540270', '37539959', '37538002', '37535226', '37533152', '37526688', '37526570', '37524113', '37518887', '37518829', '37517471', '37516331', '37515375', '37507575', '37506763', '37505229', '37501580', '37497737', '37496259', '37496163', '37495893', '37485972', '37481845', '37481215', '37480404', '37474262', '37473906', '37465973', '37462747', '37462680', '37462346', '37454031', '37452683', '37451706', '37443459', '37440424', '37439698', '37434488', '37434350', '37434321', '37434046', '37432902', '37432506', '37424506', '37424501', '37422038', '37421586', '37418349', '37418220', '37414959', '37407790', '37395344', '37387235', '37381707', '37378712', '37368234', '37367210', '37358750', '37356823', '37355229', '37354057', '37353997', '37348598', '37345574', '37341797', '37339859', '37339698', '37337026', '37336649', '37335850', '37334485', '37332054', '37328323', '37325908', '37321521', '37321295', '37314014', '37310194', '37300589', '37287318', '37279874', '37263591', '37259180', '37257496', '37253386', '37249643', '37249382', '37248110', '37237146', '37236291', '37233848', '37231179', '37226648', '37225947', '37225132', '37221858', '37221843', '37219708', '37218069', '37207922', '37204936', '37199584', '37193874', '37193777', '37188939', '37184039', '37183941', '37171583', '37166381', '37157163', '37155582', '37154780', '37150425', '37147852', '37142178', '37132606', '37127815', '37121905', '37103601', '37096381', '37092822', '37086380', '37081773', '37076632', '37075778', '37074335', '37073473', '37070268', '37044125', '37036583', '37029890', '37016743', '37010495', '37010244', '37004999', '36991541', '36967568', '36966492', '36946542', '36938586', '36929054', '36917841', '36905418', '36883577', '36876746', '36864184', '36862943', '36849842', '36827455', '36808693', '36803328', '36790384', '36788023', '36730839', '36729651', '36725385', '36723801', '36705623', '36702249', '36642864', '36636799', '36629534', '36607152', '36598154', '36576686', '36562660', '36545815', '36538042', '36522674', '36514828', '36508135', '36472466', '36458738', '36447398', '36445683', '36398698', '36397660', '36373406', '36373398', '36369692', '36341578', '36329564', '36325613', '36315414', '36217607', '36174656', '36154853', '36122693', '36062826', '36057684', '36040610', '35970620', '35968809', '35968693', '35915996', '35762134', '35757862', '35754344', '35670156', '35656623', '35611658', '35535443', '35471754', '35438071', '35235957', '35019825', '34908177', '34766533', '34533081', '34423742', '34402417', '34372755', '38161931', '38098865', '38069345', '38069340', '38069339', '38069329', '38068836', '38068833', '38068832', '38067895', '38050164', '38040564', '38037042', '38035637', '38033028', '38032964', '38032886', '38032694', '38032134', '38031876', '38031255', '37898507', '37814532', '37814530', '37721548', '37721539', '37683765', '38161897', '38132860', '38069274', '38069224', '38068822', '38050640', '38042164', '38040089', '38036167', '38030985', '38030693', '38030217', '38019841', '38019759', '38019545', '38017151', '37409582', '37154798', '38156174', '38138193', '38132645', '38090565', '38089880', '38089606', '38069198', '38068803', '38068801', '38068415', '38045022', '38017585', '38017541', '38017250', '38015889', '38015369', '38015216', '38014846', '38012463', '38136063', '38089605', '38069154', '38068107', '38067820', '38033420', '38018621', '38013229', '38012769', '38012688', '38012659', '38012563', '38012218', '38011585', '38011304', '38011139', '38010624', '38009317', '37708421', '37620010', '38138874', '38068783', '38240831', '38136053', '38107789', '38068780', '37997219', '37438051', '38146576', '38140548', '38084331', '38074675', '38068774', '38034468', '38013295', '38001499', '37997928', '37996879', '37996656', '38511105', '38176936', '38136565', '38132925', '38078229', '38077284', '38068323', '38068305', '38067121', '38026516', '38020454', '37997783', '37997428', '37994431', '37993895', '37977807', '38243695', '38077332', '38076541', '38074329', '38040490', '37993843', '37992031', '37991599', '35241622', '38074742', '38068890', '38067673', '38063580', '38063576', '37990284', '37990277', '37990239', '37990225', '37987178', '37813577', '38054068', '38053746', '38029393', '38024090', '38006189', '38004096', '38004093', '38003706', '37999447', '37998313', '37989384', '37986146', '37986101', '37986015', '37986004', '37983561', '37983216', '37981676', '37980602', '37923089', '37879420', '38004231', '37998049', '37984510', '38022834', '38004226', '38004223', '38003687', '37980530', '37980497', '38046952', '38046946', '38035307', '37991091', '37986380', '37986368', '37986335', '37986313', '37986312', '37978449', '37978411', '37978338', '37975811', '38034547', '38028975', '38028974', '38028973', '38028968', '38028967', '38003607', '38003594', '38002447', '37999253', '37998304', '37974282', '37974199', '37974180', '37973902', '37972201', '37972063', '37971556', '37971551', '37968370', '37865883', '37738668', '38058391', '38034286', '38033997', '38033992', '38004186', '38003548', '38002550', '38002335', '37968679', '37966116', '37965937', '37965929', '37858716', '37805167', '37802278', '37648188', '37479147', '37302312', '30000958', '30000045', '38154398', '38045141', '38022764', '38005929', '38005310', '38002696', '38002334', '37990813', '37972664', '37964709', '37964336', '37964328', '37964316', '37964288', '37964253', '37963125', '37962709', '37871328', '36876592', '38098896', '38003453', '37968225', '37967617', '37957759', '37957671', '37956176', '37955960', '37955949', '37953634', '38090453', '38003403', '38003385', '37998343', '37952744', '38197041', '38090460', '38005718', '38002654', '37998667', '37998282', '37987287', '37970880', '37950902', '37948405', '37948111', '37947891', '37656468', '37029915', '37016937', '38005713', '37998333', '37946502', '37946247', '37946186', '37943308', '37941072', '37940959', '37486178', '36322138', '38062841', '38002603', '37998660', '37948205', '37938638', '37938306', '37909384', '37909083', '37812574', '37218706', '38077158', '38073986', '38023587', '38023152', '38004732', '38004014', '38003234', '38003230', '37936249', '37936227', '37936168', '37934319', '37934220', '37933742', '37933733', '38027186', '38026130', '38022783', '38020153', '38008570', '38004008', '37987326', '37960696', '37960356', '37932689', '37932667', '37930130', '37929840', '37998066', '37958948', '37926223', '37925414', '37924500', '37658777', '38054151', '38034780', '38034735', '38027723', '38022593', '37999430', '37960649', '37960319', '37933054', '37933009', '37933004', '37932986', '37932976', '37925072', '37924127', '37923779', '37922315', '37922014', '37921996', '37919486', '37917875', '35419586', '38028790', '38028783', '38019207', '37993405', '37979183', '37958442', '37958026', '37955937', '37937295', '37927610', '37920560', '37919746', '37917715', '37327376', '37326042', '37280055', '35645164', '20301505', '20301438', '38467459', '38467458', '38453266', '38453265', '38406779', '38341865', '38326239', '38305379', '38290812', '38251534', '38238070', '38236121', '38236101', '38235691', '38226745', '38197036', '38149555', '38116627', '38108466', '38108465', '38108034', '38108027', '38106557', '38105205', '38105197', '38099011', '38065665', '38062980', '38058030', '38056192', '38043979', '38043978', '38032494', '38029430', '38027557', '38026861', '38026681', '38020109', '38018603', '38017595', '38012907', '38011301', '38010007', '38003987', '37999502', '37997231', '37997144', '37997132', '37997078', '37997068', '37997057', '37997055', '37994763', '37987710', '37987137', '37980716', '37976480', '37976479', '37976478', '37975766', '37973739', '37972538', '37966213', '37962306', '37960298', '37958255', '37952993', '37952473', '37952296', '37947638', '37946741', '37944473', '37943554', '37943263', '37939447', '37938706', '37937084', '37935146', '37935145', '37932186', '37931232', '37928995', '37926637', '37921943', '37918844', '37918842', '37916407', '37915051', '37915044', '37910312', '37909704', '37909694', '37909692', '37907497', '37898519', '37891144', '37890639', '37890100', '37889466', '37889242', '37884432', '37884018', '37883406', '37883405', '37881206', '37880997', '37880966', '37880850', '37879421', '37877500', '37876996', '37875329', '37875146', '37872128', '37871760', '37870685', '37866009', '37863589', '37863582', '37863021', '37862081', '37858728', '37857035', '37856049', '37856048', '37855883', '37846818', '37844768', '37844435', '37843880', '37840142', '37839355', '37837559', '37832608', '37832607', '37831388', '37831366', '37831101', '37831100', '37828753', '37827603', '37827601', '37827590', '37826848', '37821756', '37821280', '37821199', '37820651', '37820519', '37820456', '37819369', '37819193', '37818711', '37816903', '37816084', '37813648', '37813596', '37813179', '37806725', '37806720', '37806699', '37806696', '37806694', '37806693', '37806688', '37806684', '37806179', '37806176', '37805337', '37805054', '37804848', '37804128', '37803506', '37803104', '37803078', '37802205', '37801794', '37801793', '37801756', '37801212', '37798481', '37797377', '37797362', '37796408', '37794101', '37793243', '37792207', '37792085', '37792032', '37789193', '37788944', '37787859', '37787581', '37783986', '37783774', '37783149', '37782318', '37781738', '37778293', '37778187', '37777161', '37777160', '37774931', '37774509', '37773215', '37773214', '37772607', '37772383', '37770311', '37770310', '37769808', '37769371', '37768551', '37768540', '37759417', '37758359', '37758322', '37757999', '37757673', '37755621', '37752635', '37751658', '37751453', '37750867', '37749774', '37747622', '37747281', '37746696', '37743572', '37743098', '37742748', '37742309', '37741958', '37741659', '37741157', '37741092', '37739162', '37739138', '37738805', '37738794', '37738787', '37737887', '37737436', '37735814', '37735765', '37735235', '37734709', '37734434', '37733834', '37732477', '37732418', '37731079', '37730854', '37729825', '37728933', '37728838', '37728616', '37726964', '37726046', '37725997', '37725862', '37724991', '37723922', '37720997', '37717550', '37717178', '37716255', '37716254', '37715927', '37715884', '37715729', '37712322', '37709601', '37709502', '37709056', '37708984', '37708822', '37708624', '37706263', '37704052', '37703686', '37702789', '37700168', '37699779', '37698112', '37696693', '37695398', '37694528', '37690429', '37688716', '37688429', '37683774', '37682236', '37678877', '37678874', '37676191', '37676185', '37675564', '37672776', '37667883', '37667530', '37666944', '37666432', '37665940', '37665939', '37665930', '37660427', '37657521', '37657493', '37656661', '37652974', '37652312', '37652311', '37648200', '37646894', '37646795', '37646620', '37642283', '37640926', '37639179', '37639015', '37635447', '37634999', '37634653', '37633799', '37632512', '37632155', '37625452', '37624095', '37622530', '37620552', '37619764', '37616483', '37615803', '37615677', '37611618', '37610428', '37607837', '37606593', '37602932', '37602494', '37597346', '37597100', '37595697', '37595504', '37595358', '37594481', '37592045', '37591342', '37584745', '37584348', '37582051', '37579659', '37578669', '37578383', '37574129', '37574099', '37572143', '37567576', '37567516', '37567245', '37564014', '37562709', '37561133', '37561100', '37557979', '37557905', '37556026', '37555985', '37555459', '37553958', '37549689', '37543998', '37542375', '37542006', '37541453', '37535340', '37526813', '37522804', '37522629', '37519253', '37517585', '37517329', '37507092', '37499428', '37495838', '37495770', '37491636', '37490791', '37490213', '37481219', '37480990', '37480454', '37479030', '37475663', '37468032', '37466900', '37451925', '37451341', '37449413', '37448350', '37435847', '37433909', '37433414', '37432388', '37430003', '37430002', '37429217', '37422047', '37422041', '37421382', '37414520', '37413763', '37410116', '37406964', '37405612', '37402873', '37401512', '37399886', '37395855', '37394208', '37390692', '37387511', '37378892', '37369553', '37357830', '37357103', '37348528', '37341736', '37341019', '37340115', '37336616', '37328546', '37321921', '37318012', '37316343', '37314198', '37308343', '37307618', '37302950', '37288972', '37288650', '37287442', '37271830', '37259249', '37258363', '37257214', '37231172', '37230460', '37221153', '37220027', '37204591', '37196672', '37185890', '37183720', '37169245', '37166275', '37154871', '37148253', '37146664', '37139743', '37132030', '37128884', '37119045', '37115014', '37104873', '37104869', '37104619', '37103649', '37100224', '37098358', '37095254', '37076597', '37071253', '37068494', '37067051', '37066798', '37061107', '37059937', '37058352', '37038632', '37032538', '37029311', '37027064', '37014453', '36988385', '36988238', '36965750', '36965013', '36963709', '36944852', '36929699', '36928478', '36907953', '36899068', '36872844', '36856919', '36821561', '36808288', '36802826', '36799499', '36787183', '36764945', '36736726', '36729341', '36723827', '36715226', '36692532', '36691685', '36689374', '36680403', '36680310', '36661128', '36642673', '36622442', '36609119', '36607355', '36571209', '36562820', '36539077', '36533945', '36517614', '36458692', '36380243', '36369923', '36367314', '36352126', '36345726', '36325612', '36287234', '36285337', '36269332', '36256871', '36201828', '36183901', '36150009', '36094621', '36018492', '35916765', '35866515', '35852223', '35852135', '35815648', '35794840', '35786986', '35770615', '35724360', '35715333', '35678607', '35645145', '35348208', '34609098', '34272141', '34256981', '31030527', '38091412', '38028771', '38027178', '38022644', '38022578', '38003878', '37969282', '37960276', '37947561', '37907943', '37907292', '37906337', '37906212', '37905402', '37877226', '37738580', '37202219', '38176929', '38124726', '38005864', '38003972', '37998867', '37969941', '37960520', '37954883', '37947622', '37904259', '37902510', '37960254', '37947619', '37898977', '38432886', '38021258', '37960234', '37958686', '37902524', '37902521', '37902512', '37898790', '37898755', '37897034', '37891692', '37431156', '38029252', '38022185', '38021526', '38004267', '38002268', '37965515', '37964970', '37964950', '37947609', '37915750', '37907066', '37904481', '37904413', '37891688', '37891569', '37891477', '37888805', '38010252', '38002264', '37964928', '37960199', '37960187', '37958612', '37957974', '37954586', '37954052', '37954044', '37884563', '37884557', '37884496', '37884387', '37883151', '37880763', '37261845', '37154363', '37964772', '37959457', '37880607', '37877390', '37876013', '37751281', '38002251', '37999373', '37998498', '37960383', '37959190', '37958499', '37941602', '37933182', '37923553', '37885466', '37879713', '37879689', '37875941', '37875706', '37874571', '37874417', '37872633', '37596043', '37969938', '37941908', '37937288', '37901464', '37895174', '37895161', '37892559', '37880051', '37874551', '37872544', '37872230', '37871155', '37871152', '37870739', '37870684', '37870600', '37875170', '37892962', '37892543', '37885621', '37864632', '37864388', '37832573', '38022148', '37929211', '37928553', '37928533', '37896708', '37893854', '37892531', '37864268', '37861509', '37861505', '37859501', '37736043', '37649421', '37406694', '37928732', '37895059', '37895020', '37894411', '37893837', '37892517', '37892516', '37892226', '37887678', '37876660', '37872945', '37858278', '37858243', '37858206', '37858176', '37858035', '37857686', '37856187', '37855247', '37921372', '37920737', '37920579', '37920575', '37920561', '37920473', '37920255', '37900966', '37896650', '37896640', '37853489', '37853472', '37853456', '37851627', '37851492', '37851271', '37851104', '37849400', '37186550', '37916701', '37915814', '37894959', '37893825', '37892218', '37849008', '37848829', '37848374', '37848293', '37847803', '37827541', '37815057', '37941693', '37897382', '37897377', '37895295', '37893173', '37892454', '37892452', '37887667', '37887497', '37868832', '37849987', '37846789', '37845721', '37845189', '37845187', '37844107', '37843688', '37894881', '37893553', '37887299', '37776985', '37769825', '37735993', '37683571', '37634741', '37586455', '37545696', '37459970', '37437728', '37437664', '37379938', '37279168', '37900583', '37895437', '37895289', '37895286', '37894859', '37892662', '37892442', '37838695', '37838675', '37838661', '36645258', '38444514', '37901246', '37901242', '37900128', '37900047', '37894843', '37892917', '37892437', '37892201', '37840866', '37833784', '37833672', '37833510', '37833048', '37832060', '37831667', '37220644', '37895561', '37892421', '37867827', '37828541', '37828488', '37827741', '37824694', '37824499', '37823335', '37821940', '37901413', '37900029', '37892406', '37886647', '37832643', '37821984', '37821966', '37821932', '37821677', '37819220', '37818936', '37818636', '37817595', '37786984', '38028882', '38025444', '37892395', '37887643', '37886646', '37885474', '37875457', '37817281', '37817136', '37815928', '37597610', '36943279', '36644912', '38021800', '37888088', '37876923', '37876848', '37837173', '37836083', '37830636', '37814320', '37812676', '37811711', '37811598', '37873884', '37835050', '37937009', '37896840', '37887382', '37835161', '37900999', '37868267', '37867730', '37867516', '37803373', '37803342', '37800835', '37800777', '37800765', '37800752', '37798676', '37797260', '38465750', '37933353', '37893490', '37869183', '37834383', '37798739', '37798455', '37797042', '37796428', '37795783', '37795766', '37794119', '37794109', '37740361', '37643740', '37953997', '37892892', '37860792', '37860068', '37859981', '37841330', '37794694', '37794469', '37794358', '37794344', '37794338', '37792469', '37791545', '37791429', '37789463', '37624908', '37853577', '37830612', '37808165', '37799500', '37789338', '37788394', '37536278', '37115631', '35481794', '37931118', '37906073', '37906065', '37889490', '37849892', '37849722', '37834293', '37808461', '37801316', '37793111', '37784162', '37784111', '37784084', '37784065', '37524496', '37522298', '37452676', '38498643', '38442218', '38442215', '38415714', '38406956', '38322636', '38269189', '38184831', '38164433', '38096539', '38096517', '38086700', '38076494', '38024172', '38020843', '38000925', '37990537', '37980192', '37971484', '37971480', '37949605', '37949603', '37949575', '37949572', '37949567', '37949564', '37949560', '37949559', '37942680', '37933625', '37929629', '37927356', '37922188', '37916580', '37916332', '37907331', '37907226', '37883831', '37881819', '37877785', '37876036', '37869954', '37868944', '37868930', '37867748', '37861263', '37854170', '37852708', '37852290', '37851270', '37847923', '37847471', '37838402', '37838373', '37834270', '37821165', '37818767', '37818016', '37816344', '37813493', '37811533', '37811518', '37804516', '37802688', '37802585', '37800271', '37798097', '37794291', '37794253', '37787672', '37782922', '37782124', '37780768', '37779568', '37779567', '37777925', '37777291', '37777250', '37775410', '37775083', '37772567', '37772327', '37768511', '37755656', '37751903', '37751854', '37751268', '37750226', '37747964', '37745043', '37742361', '37739718', '37739660', '37739653', '37739647', '37739628', '37739626', '37739576', '37734775', '37732509', '37729824', '37728852', '37728724', '37726634', '37726039', '37725127', '37721585', '37721465', '37721459', '37721373', '37721006', '37718108', '37718084', '37718024', '37716747', '37716745', '37716737', '37716734', '37716733', '37716732', '37716731', '37716730', '37716729', '37716728', '37716727', '37716726', '37716725', '37716724', '37716723', '37716722', '37716721', '37716720', '37714618', '37714615', '37714613', '37714589', '37713744', '37710987', '37710377', '37709948', '37709399', '37708919', '37707731', '37705493', '37704347', '37704328', '37704114', '37703719', '37701124', '37700620', '37695366', '37689551', '37689042', '37684361', '37683310', '37683100', '37678711', '37678619', '37678512', '37678337', '37676321', '37675939', '37675809', '37675780', '37672821', '37671529', '37669703', '37668278', '37667992', '37667838', '37666474', '37666263', '37665492', '37661921', '37660762', '37660684', '37660646', '37660472', '37656417', '37656407', '37656226', '37655702', '37651841', '37651799', '37651091', '37650948', '37650892', '37650634', '37647717', '37647539', '37646976', '37646901', '37646703', '37643561', '37643484', '37642760', '37639862', '37639489', '37639480', '37639402', '37638399', '37633507', '37632517', '37625777', '37625674', '37625315', '37624474', '37619645', '37615786', '37615592', '37611886', '37611645', '37611143', '37610981', '37609957', '37608491', '37608232', '37607721', '37607329', '37606202', '37604769', '37604360', '37604292', '37602412', '37599201', '37598085', '37597700', '37597604', '37597200', '37597048', '37596196', '37596181', '37595498', '37595409', '37591710', '37591444', '37591303', '37591046', '37586848', '37586711', '37586435', '37586309', '37586299', '37586031', '37584691', '37582313', '37581772', '37581264', '37579705', '37575082', '37573754', '37567792', '37562946', '37561941', '37561389', '37560145', '37558131', '37556768', '37555798', '37552001', '37549591', '37549538', '37544389', '37544379', '37543452', '37543251', '37543176', '37542684', '37542503', '37542382', '37542012', '37541677', '37541578', '37540288', '37536984', '37535913', '37535248', '37533754', '37531844', '37531593', '37526373', '37525932', '37523952', '37522951', '37520931', '37519445', '37516986', '37516029', '37505470', '37501556', '37501284', '37499846', '37499798', '37498247', '37497761', '37495840', '37495266', '37494141', '37493228', '37491461', '37491419', '37490237', '37490203', '37490188', '37490138', '37486407', '37486368', '37483080', '37481367', '37477649', '37475516', '37474029', '37471273', '37471272', '37470944', '37470189', '37469187', '37467627', '37466117', '37464229', '37463628', '37460164', '37458979', '37454548', '37453806', '37452830', '37452800', '37451615', '37451055', '37449989', '37441827', '37437748', '37437466', '37436501', '37436340', '37432872', '37428807', '37428435', '37428393', '37423139', '37416977', '37415284', '37414349', '37410455', '37410446', '37410128', '37405530', '37402955', '37402074', '37401765', '37400326', '37395951', '37395943', '37395304', '37394226', '37393032', '37392827', '37392357', '37391897', '37389782', '37385916', '37384998', '37384946', '37382939', '37381660', '37380895', '37380011', '37379967', '37369861', '37369087', '37368373', '37368020', '37352743', '37348849', '37347443', '37347281', '37345725', '37345473', '37343777', '37341907', '37340586', '37340220', '37338810', '37336311', '37330935', '37330133', '37329513', '37329370', '37328556', '37328021', '37326298', '37326297', '37319441', '37318562', '37316693', '37314454', '37308079', '37302646', '37301638', '37300526', '37295704', '37292033', '37288965', '37286924', '37286663', '37285917', '37284879', '37278660', '37278322', '37269267', '37269142', '37268791', '37265074', '37252887', '37248629', '37247776', '37245067', '37244879', '37236533', '37236268', '37235495', '37235209', '37232695', '37226414', '37226325', '37222277', '37217810', '37212287', '37211649', '37211302', '37210672', '37208461', '37207921', '37204257', '37195008', '37193823', '37171611', '37169958', '37169370', '37166394', '37166021', '37162651', '37157877', '37150951', '37148904', '37148467', '37148365', '37145388', '37145320', '37142892', '37140606', '37132077', '37129610', '37119954', '37119288', '37105550', '37105549', '37103465', '37101408', '37097470', '37088889', '37073864', '37070664', '37070142', '37051860', '37044381', '37036501', '37031381', '37026833', '37026733', '37014595', '36999226', '36996412', '36977553', '36973566', '36972746', '36963405', '36944829', '36940904', '36940234', '36932015', '36928889', '36922021', '36920553', '36920267', '36917046', '36898384', '36895173', '36882314', '36881535', '36878886', '36869912', '36861780', '36854391', '36841909', '36815679', '36808615', '36803322', '36802822', '36779973', '36752949', '36730164', '36727304', '36725048', '36692247', '36682410', '36647916', '36627529', '36622013', '36622005', '36598748', '36577619', '36574212', '36542221', '36541434', '36513849', '36512164', '36459575', '36453705', '36331993', '36329308', '36322934', '36269059', '36243276', '36239088', '36205554', '36156804', '36018543', '36001507', '35976405', '35942640', '35861914', '35834004', '35811207', '35697347', '35654087', '35640839', '35596558', '35583477', '35549610', '35521976', '35466819', '35377825', '35373697', '35315518', '35272518', '35168467', '35077662', '34853909', '33944536', '33739902', '33706633', '33651961', '33249871', '33239324', '38090544', '37836520', '37835510', '37834950', '37830605', '37777748', '37718302', '37718301', '37558263', '37437913', '37437911', '37319335', '36796830', '37854936', '37841264', '37841233', '37834937', '37795043', '37777066', '37775647', '37774094', '37773873', '37773801', '37773337', '37773065', '37771141', '37369030', '37118876', '38283087', '37905265', '37900540', '37900433', '37893455', '37892872', '37887542', '37842305', '37842295', '37841888', '37836984', '37836486', '37836475', '37835128', '37834132', '37815907', '37791231', '37781504', '37771154', '37770960', '37770821', '37768967', '37768953', '37768438', '37768429', '37768420', '37759194', '37386922', '37245960', '36484095', '20301762', '20301382', '37886939', '37836444', '37829729', '37829593', '37786350', '37780130', '37759317', '37758672', '37756390', '37753791', '37752861', '37500541', '37836433', '37829342', '37822605', '37822534', '37771507', '37753768', '37752526', '37752507', '37677154', '37487796', '37308346', '37267310', '37184941', '35508445', '37941827', '37895213', '37893429', '37873989', '37835404', '37835096', '37834829', '37818093', '37780389', '37751712', '37749587', '37747766', '37747653', '37746736', '37743495', '37738467', '37735087', '37633537', '37417894', '37833942', '37836399', '37835084', '37835083', '37834787', '37896758', '37841728', '37836384', '37834783', '37747004', '37746983', '37746962', '37740180', '37740174', '37737261', '37736825', '37378597', '37868488', '37808999', '37766376', '37764870', '37760634', '37759546', '37745815', '37739122', '37735702', '37735413', '37735390', '37735285', '37733723', '37799161', '37766365', '37764858', '37762629', '37755864', '37730762', '37730648', '37730552', '37728727', '37415547', '37257623', '37799778', '37764843', '37762582', '37762572', '37759814', '37759809', '37726719', '37726655', '37725296', '37725246', '37723455', '37859911', '37814709', '37790808', '37790607', '37762976', '37762520', '37755224', '37729226', '37761951', '37718249', '37717264', '37764795', '37715871', '37715867', '37715366', '37904265', '37781401', '37780608', '37780172', '37731961', '37729448', '37724253', '37720354', '37715234', '37713603', '37713405', '37636054', '37612123', '37574268', '37553785', '37541793', '37487405', '37481194', '37348696', '37339694', '37307856', '37244543', '36881719', '37780965', '37764771', '37764750', '37764397', '37759498', '37727681', '37720817', '37710321', '37710147', '37709824', '37709770', '37709316', '37709309', '37678251', '37463856', '37780628', '37771347', '37762322', '37759491', '37705030', '37625030', '37539625', '37809539', '37772067', '37772038', '37767210', '37765094', '37764730', '37763770', '37762866', '37762850', '37711431', '37709593', '37700303', '37699053', '37496207', '37328938', '37780117', '37763760', '37762829', '37759471', '37753070', '37697343', '37697310', '37697072', '37696598', '37695526', '37695306', '37695299', '37670662', '37606590', '37587867', '37523234', '37482784', '37482781', '36779907', '37818522', '37760170', '37753495', '37753494', '37719894', '37689701', '37688407', '37688400', '37759463', '37744608', '37744363', '37683025', '37683021', '37682962', '37682939', '37682909', '37682813', '37682184', '37682178', '37681564', '37681443', '37679672', '37764686', '37764681', '37762773', '37762102', '37761677', '37760929', '37760927', '37759758', '37754583', '37744476', '37743922', '37679785', '37679708', '37679377', '37679331', '37676098', '37675638', '37674248', '37289549', '20301479', '37765752', '37764660', '37763726', '37762053', '37762045', '37762023', '37744337', '37700929', '37674187', '37595779', '37765724', '37761801', '37731775', '37725376', '37670506', '37670378', '37670316', '37668130', '37648352', '37581603', '37414350', '37262996', '37809132', '37769136', '37763715', '37760141', '37759742', '37731546', '37731525', '37688117', '37686886', '37675058', '37672427', '37667353', '37667291', '37666869', '37666564', '37212037', '36815443', '37669706', '37781788', '37688071', '37660119', '37660050', '37658864', '37650166', '35403547', '35345979', '38527164', '38320576', '38310408', '38251499', '38167190', '38126085', '38124253', '38085036', '38071026', '38037792', '38008661', '37992222', '37976129', '37976128', '37976127', '37938077', '37935242', '37934589', '37933628', '37930935', '37925996', '37922433', '37877877', '37874005', '37859959', '37856625', '37851283', '37845498', '37842956', '37840295', '37824683', '37817698', '37809566', '37808951', '37788600', '37753607', '37753429', '37752010', '37752007', '37752006', '37752005', '37752004', '37752002', '37751760', '37750525', '37750517', '37744200', '37736087', '37726111', '37720221', '37716800', '37714119', '37712158', '37711709', '37711702', '37711701', '37711259', '37711255', '37710120', '37708523', '37703785', '37701185', '37699203', '37694593', '37691297', '37680097', '37678350', '37676473', '37673758', '37673442', '37672676', '37672448', '37670603', '37670602', '37670601', '37670600', '37670599', '37670597', '37670595', '37670594', '37670593', '37669799', '37668461', '37666689', '37661104', '37659064', '37659063', '37658448', '37658422', '37658290', '37658016', '37656420', '37654192', '37653412', '37652780', '37650849', '37650369', '37643873', '37639962', '37639720', '37639535', '37639180', '37637777', '37633681', '37633154', '37632671', '37632535', '37625238', '37619907', '37619299', '37616540', '37616539', '37610124', '37609066', '37607381', '37607373', '37606793', '37604359', '37603868', '37603859', '37603321', '37598432', '37598426', '37597667', '37587859', '37587629', '37585731', '37579605', '37577926', '37574203', '37573027', '37566211', '37563062', '37561611', '37561605', '37559504', '37558305', '37558301', '37558300', '37558299', '37553542', '37552451', '37549793', '37549590', '37549507', '37548846', '37547184', '37543737', '37542997', '37542986', '37542832', '37542786', '37541907', '37541813', '37541718', '37541175', '37541063', '37540913', '37540486', '37540325', '37539450', '37537984', '37537983', '37537981', '37537696', '37536892', '37536826', '37536825', '37536823', '37536820', '37536819', '37536817', '37536814', '37536563', '37536504', '37536169', '37536026', '37535967', '37535437', '37533169', '37532374', '37532007', '37531071', '37527566', '37525073', '37524956', '37524627', '37523950', '37523037', '37522801', '37522701', '37522184', '37518822', '37517369', '37516953', '37516563', '37515744', '37507592', '37507533', '37506306', '37506272', '37500926', '37499463', '37499277', '37495508', '37495340', '37494855', '37493929', '37493006', '37491835', '37491653', '37491014', '37490803', '37488952', '37487440', '37487365', '37486571', '37486464', '37486385', '37485605', '37482699', '37482497', '37482367', '37482238', '37482041', '37481342', '37480799', '37480796', '37480750', '37480223', '37479894', '37477289', '37473679', '37470956', '37469128', '37468084', '37467710', '37466849', '37464184', '37464088', '37463862', '37460079', '37458175', '37453852', '37453474', '37453339', '37452915', '37452855', '37452811', '37452553', '37451353', '37451081', '37450377', '37450290', '37450038', '37448158', '37442370', '37442369', '37441929', '37441882', '37436594', '37435888', '37433911', '37433883', '37433880', '37433369', '37432696', '37429319', '37429097', '37428341', '37428331', '37427672', '37423378', '37423079', '37422267', '37422012', '37421743', '37421681', '37421541', '37421488', '37421387', '37417877', '37417876', '37415548', '37414917', '37414875', '37414662', '37414459', '37414405', '37413736', '37413662', '37410387', '37410360', '37409656', '37409533', '37407856', '37407728', '37406460', '37406444', '37401520', '37400668', '37395933', '37395512', '37393968', '37393883', '37393765', '37393517', '37393412', '37391095', '37390707', '37390541', '37389636', '37389587', '37389468', '37389459', '37385857', '37385566', '37385369', '37385212', '37382828', '37382676', '37382465', '37380575', '37380041', '37380015', '37378417', '37369934', '37366616', '37365103', '37364729', '37364478', '37357443', '37357041', '37356738', '37356467', '37355722', '37355415', '37354454', '37353049', '37352971', '37352918', '37350033', '37349084', '37347807', '37344125', '37343343', '37343232', '37341662', '37341530', '37341018', '37340168', '37338774', '37335395', '37335189', '37334435', '37331921', '37331156', '37330933', '37330829', '37329476', '37327577', '37326491', '37318776', '37318646', '37318272', '37316632', '37314438', '37312417', '37309215', '37300737', '37300600', '37295475', '37295133', '37294322', '37294100', '37294042', '37290744', '37290538', '37289331', '37289324', '37286114', '37286098', '37285976', '37278844', '37278730', '37277011', '37271780', '37271298', '37268250', '37267468', '37265341', '37263531', '37263276', '37263063', '37258305', '37257755', '37257393', '37256367', '37255252', '37253884', '37253363', '37249818', '37249222', '37248728', '37248438', '37247780', '37246477', '37246359', '37245787', '37245621', '37244637', '37244350', '37243491', '37236384', '37236346', '37236131', '37232485', '37230885', '37230191', '37226936', '37226691', '37226493', '37225892', '37225254', '37225053', '37224570', '37221314', '37218539', '37216563', '37213049', '37212863', '37211304', '37211221', '37211151', '37209908', '37209803', '37209231', '37204620', '37203301', '37201741', '37199992', '37198042', '37191867', '37191855', '37188592', '37186016', '37184978', '37183814', '37183161', '37179171', '37178960', '37177800', '37173204', '37172878', '37172876', '37172557', '37165743', '37164909', '37164187', '37161602', '37160445', '37158423', '37156127', '37155740', '37155731', '37150313', '37150286', '37149742', '37148971', '37146320', '37144623', '37138344', '37133758', '37132057', '37126034', '37126027', '37121456', '37118934', '37116545', '37104741', '37093753', '37087896', '37084601', '37083977', '37072509', '37069454', '37067763', '37060372', '37060200', '37057804', '37055710', '37054777', '37052644', '37046104', '37045982', '37044317', '37043838', '37042174', '37040849', '37039814', '37023893', '37013947', '37010885', '37010094', '37005940', '37002488', '36995541', '36995473', '36975841', '36975543', '36974690', '36972590', '36949167', '36938798', '36932728', '36917418', '36912349', '36907938', '36905797', '36894518', '36894356', '36892103', '36871173', '36868494', '36868491', '36863015', '36854995', '36853902', '36849840', '36825992', '36807607', '36799995', '36796860', '36790543', '36787475', '36786859', '36781320', '36781319', '36775886', '36753452', '36752353', '36750309', '36730180', '36723611', '36722407', '36701755', '36697266', '36690424', '36653265', '36648536', '36647210', '36637478', '36629887', '36606334', '36606326', '36592635', '36577497', '36576386', '36573064', '36572576', '36541901', '36522493', '36517977', '36509935', '36472354', '36437210', '36416467', '36415041', '36400563', '36379974', '36356640', '36307732', '36289392', '36284049', '36260209', '36244018', '36227293', '36189967', '36162426', '36106644', '36093619', '36031691', '35997579', '35929897', '35787246', '35701235', '35575303', '35524038', '35438607', '35382707', '35272523', '35196211', '35034481', '34961336', '34154914', '37970325', '37791169', '37791151', '37760131', '37744587', '37727793', '37720534', '37719769', '37687202', '37686844', '37685741', '37651448', '37651377', '37650554', '20301335', '37779809', '37765218', '37761875', '37711402', '37711232', '37681915', '37681821', '37675299', '37649113', '37649088', '37649080', '37649076', '37648401', '37647303', '37646932', '37646872', '37646368', '37687353', '37686177', '37686169', '37681899', '37681815', '37675243', '37647463', '37644424', '37643992', '37642999', '37641150', '37687943', '37686787', '37654722', '37641151', '37641146', '37641130', '37641101', '37641007', '37640559', '37559553', '37147918', '37000185', '36852605', '36695353', '36423897', '37767244', '37686106', '37300461', '37760114', '37686770', '37686060', '37686045', '37685638', '37632387', '37626396', '37759703', '37693707', '37693644', '37693006', '37687876', '37687080', '37686758', '37686757', '37686011', '37685995', '37685615', '37681791', '37653834', '37653827', '37653766', '37643985', '37626365', '37626339', '37626066', '37621241', '37548250', '37507352', '37791022', '37760809', '37754484', '37693897', '37692777', '37691942', '37687834', '37686735', '37681777', '37638264', '37637849', '37620920', '37620629', '37620411', '37616466', '37615928', '37615643', '37437697', '37256279', '36849238', '37761807', '37687795', '37686721', '37686720', '37685903', '37685409', '37681770', '37664417', '37612708', '37612686', '37612616', '37610777', '37566389', '37199636', '37685856', '37685522', '37681861', '37681854', '37680972', '37675102', '37662531', '37638265', '37608400', '37608386', '37746426', '37671141', '37630855', '37630852', '37629463', '37628426', '37626825', '37622919', '37615388', '37610923', '37606397', '37605235', '37605197', '37605156', '37603072', '37561919', '37307855', '36806917', '36806613', '37630177', '37598365', '37629443', '37629435', '37628539', '37626915', '37598153', '37596954', '37596619', '37392421', '37664850', '37662948', '37662661', '37629100', '37624266', '37596591', '37596488', '37071658', '37719576', '37630803', '37629772', '37628525', '37596074', '37590404', '37590312', '37590226', '37589270', '36991214', '37735124', '37662911', '37629047', '37629039', '37626887', '37595189', '37592854', '37587464', '37587421', '37587411', '37664938', '37654673', '37654497', '37642459', '37626767', '37622909', '37598304', '37586804', '37582807', '37582096', '37580820', '37429465', '37427996', '37392607', '37385479', '37301321', '37201611', '37071881', '37630768', '37630765', '37626764', '37626763', '37580705', '37580497', '37578955', '37578611', '36268726', '37574536', '37530097', '37630750', '37629744', '37627841', '37623156', '37631637', '37628880', '37622892', '37568196', '37568165', '37568130', '37568122', '37567744', '37565888', '37565842', '37248131', '37661627', '37638322', '37635963', '37635959', '37631608', '37630716', '37629738', '37585698', '37561316', '36882046', '37631323', '37630702', '37628786', '37628785', '37624130', '37624129', '37621855', '37621760', '37621703', '37593110', '37559028', '37558992', '37556576', '37556480', '37556477', '37556184', '37554056', '37427687', '37629722', '37628736', '37628725', '37626720', '37614712', '37614711', '37588100', '37588008', '37553624', '37553224', '37552669', '37552398', '37549241', '37629720', '37626710', '37608837', '37569079', '37569078', '37557005', '37550257', '37548809', '37410969', '37627713', '37571761', '37570455', '37569864', '37629547', '37571410', '37571408', '37568541', '37543607', '37542543', '37541969', '37207825', '37662612', '37626699', '37601628', '37601221', '37601107', '37600697', '37600508', '37599868', '37571723', '37571387', '37569815', '37543799', '37543774', '37542343', '37542055', '36562563', '37664402', '37601180', '37600769', '37539604', '37537529', '37536966', '37535597', '37534947', '37534936', '37489903', '37664395', '37601630', '37601207', '37593337', '37571361', '37569724', '37569711', '37569043', '37568485', '37547356', '37531583', '37529940', '37528436', '37528241', '37486224', '37352110', '37311136', '36504134', '36378500', '38193174', '38183292', '38085842', '37933506', '37900548', '37871150', '37855652', '37847805', '37820334', '37793708', '37787257', '37758490', '37753771', '37748463', '37737155', '37734873', '37695037', '37691311', '37675710', '37667948', '37667944', '37667599', '37664383', '37661116', '37654858', '37652555', '37648398', '37647124', '37645261', '37641413', '37633695', '37632438', '37624125', '37620113', '37606571', '37606142', '37604639', '37596922', '37595368', '37595070', '37590826', '37588118', '37581501', '37579755', '37577771', '37575136', '37569683', '37562455', '37560977', '37558288', '37554839', '37553934', '37552087', '37549214', '37542783', '37541741', '37541114', '37537745', '37537509', '37537459', '37537134', '37536669', '37536179', '37532469', '37529197', '37529196', '37528486', '37528400', '37528135', '37527173', '37526793', '37526698', '37526541', '37526027', '37526007', '37523934', '37507197', '37503550', '37500121', '37494122', '37494121', '37490785', '37490155', '37490136', '37489966', '37488749', '37486575', '37484990', '37482754', '37482046', '37481864', '37480161', '37479951', '37479561', '37479377', '37479374', '37473409', '37466066', '37463556', '37463542', '37462453', '37460753', '37458809', '37458252', '37458178', '37455013', '37454478', '37453769', '37453768', '37453230', '37452714', '37451208', '37451009', '37437974', '37437973', '37437972', '37437971', '37437970', '37437967', '37437646', '37437458', '37436811', '37436498', '37434307', '37431304', '37429539', '37423882', '37423678', '37423095', '37422984', '37422309', '37422299', '37419842', '37419534', '37419529', '37419040', '37417918', '37416483', '37414481', '37414226', '37411023', '37410905', '37410332', '37409426', '37407865', '37407715', '37405422', '37404053', '37402892', '37400332', '37395890', '37394323', '37391676', '37391675', '37390769', '37389806', '37387696', '37387410', '37385531', '37385306', '37385157', '37385068', '37382963', '37382827', '37380118', '37378698', '37369899', '37369874', '37369364', '37369281', '37366218', '37365088', '37364506', '37357053', '37356728', '37355247', '37354308', '37354304', '37352818', '37351757', '37351614', '37349622', '37348985', '37348821', '37348597', '37348448', '37348290', '37344079', '37343679', '37339388', '37339377', '37338939', '37338731', '37336498', '37336252', '37335282', '37335014', '37334836', '37334782', '37331926', '37331729', '37331636', '37331466', '37331133', '37327802', '37327753', '37327601', '37327512', '37327347', '37323026', '37321693', '37321468', '37321382', '37321061', '37318780', '37315903', '37315379', '37315339', '37314651', '37314650', '37314012', '37313725', '37311402', '37310449', '37309068', '37307525', '37306898', '37306537', '37306474', '37306196', '37302757', '37302693', '37302244', '37301672', '37301059', '37301055', '37300988', '37300656', '37300443', '37295474', '37295277', '37295241', '37294437', '37290594', '37290417', '37290188', '37289381', '37288711', '37286435', '37286132', '37282804', '37280448', '37280374', '37280366', '37277594', '37277507', '37277506', '37277308', '37277293', '37277279', '37273528', '37273161', '37271072', '37270897', '37270760', '37270753', '37270145', '37269784', '37269693', '37269187', '37268300', '37266728', '37264762', '37264231', '37261663', '37261639', '37260116', '37258941', '37256476', '37254526', '37253461', '37249708', '37248409', '37247583', '37246971', '37246236', '37244080', '37243909', '37243568', '37236843', '37236042', '37235914', '37231582', '37231127', '37230312', '37230270', '37229847', '37227500', '37227346', '37227116', '37227071', '37225062', '37224749', '37222864', '37222019', '37221116', '37220858', '37219566', '37217783', '37217637', '37217434', '37216845', '37213050', '37212050', '37211636', '37210805', '37209044', '37207920', '37207417', '37202717', '37202314', '37202309', '37202251', '37201591', '37191613', '37190896', '37188907', '37186060', '37183681', '37183339', '37182542', '37178349', '37173175', '37172326', '37171753', '37169546', '37167802', '37165881', '37163788', '37163437', '37163368', '37162027', '37161850', '37160786', '37160563', '37157882', '37156538', '37156345', '37156170', '37156089', '37156010', '37154861', '37149553', '37149509', '37146983', '37146917', '37146665', '37145131', '37144567', '37144494', '37129643', '37127520', '37127239', '37125766', '37121934', '37121344', '37119098', '37116385', '37115231', '37106252', '37105544', '37100256', '37099193', '37099153', '37097296', '37094727', '37093291', '37093273', '37093236', '37088663', '37086002', '37085034', '37084588', '37083218', '37080421', '37079125', '37078176', '37075937', '37074457', '37071283', '37068624', '37067434', '37062042', '37061182', '37060292', '37058336', '37058321', '37057959', '37043038', '37038019', '37036438', '37030583', '37029249', '37026802', '37024639', '37020032', '37019219', '37017424', '37016177', '37014171', '37014078', '37005933', '37004891', '37003449', '37002838', '37000243', '36999687', '36998166', '36990189', '36990186', '36988280', '36977852', '36975092', '36967072', '36964814', '36963807', '36963410', '36961538', '36958460', '36945188', '36934792', '36928720', '36924919', '36924828', '36924331', '36922023', '36917833', '36917270', '36917254', '36914852', '36913129', '36896705', '36890105', '36888543', '36884294', '36878820', '36877229', '36868960', '36864530', '36856868', '36854652', '36851863', '36847430', '36826591', '36811209', '36802239', '36794631', '36794517', '36792854', '36788653', '36781435', '36780111', '36775697', '36764428', '36758896', '36752769', '36750450', '36735272', '36731907', '36725060', '36718598', '36710086', '36709453', '36705690', '36701192', '36682906', '36680488', '36669870', '36669504', '36657559', '36653465', '36653172', '36649826', '36648569', '36637714', '36637491', '36633312', '36632745', '36629040', '36623512', '36596990', '36593155', '36587750', '36585983', '36581773', '36577709', '36573359', '36539675', '36538934', '36534212', '36524311', '36520199', '36513777', '36511106', '36507598', '36471123', '36463360', '36459244', '36459193', '36454289', '36451289', '36449260', '36444948', '36411538', '36401630', '36380456', '36380189', '36326999', '36323498', '36308547', '36307618', '36220377', '36202637', '36152318', '36150705', '36088570', '35972516', '35943832', '35943567', '35931101', '35931094', '35915574', '35913269', '35870769', '35856620', '35767218', '35761144', '35749344', '35723017', '35722814', '35707991', '35700979', '35620979', '35591786', '35581484', '35460680', '35398362', '35395330', '35354074', '35306924', '35259483', '35255757', '35254210', '35245597', '35196740', '35181472', '35150849', '35040085', '35038885', '34931233', '34879419', '34677682', '34609159', '34392738', '34057881', '34030512', '33908809', '33749355', '33593752', '32677587', '31961724', '30636462', '37588123', '37583429', '37571349', '37568712', '37547859', '37529357', '37525195', '37525154', '37523477', '37523092', '37461189', '37291077', '37627676', '37516906', '37516893', '37629680', '37571311', '37516827', '37120728', '37624121', '37571308', '37571307', '37571287', '37569491', '37569137', '37507692', '37507690', '37505803', '37505142', '28121117', '37630983', '37629661', '37628591', '37577356', '37576338', '37575449', '37575094', '37569390', '37566027', '37501138', '37501089', '37499045', '37498655', '37497794', '20301578', '37630975', '37571268', '37569379', '37569314', '37568327', '37568315', '37565183', '37564915', '37564637', '37496073', '37495991', '37494111', '37494100', '37429293', '37133355', '37627482', '37606398', '37571232', '37570598', '37569275', '37568290', '37560300', '37560094', '37559704', '37491261', '37491135', '37490254', '37490166', '37440353', '37257327', '36342779', '37555019', '37514928', '37513679', '37511615', '37510983', '37510969', '37510547', '37488623', '37488501', '37486390', '37482613', '37369193', '37207354', '36922749', '37510665', '37482587', '37481699', '37514897', '37513141', '37511555', '37511554', '37481594', '37481537', '37547750', '37547314', '37547244', '37545715', '37545638', '37545581', '37534139', '37511498', '37510943', '37508569', '37508567', '37504467', '37480028', '37480017', '37479727', '37478304', '37478075', '37477966', '37474928', '37474899', '37470328', '37456835', '37546326', '37546310', '37546302', '37545490', '37513645', '37513631', '37511460', '37511453', '37510654', '37510651', '37475014', '37474188', '37471127', '37471125', '37469109', '37100141', '37538378', '37514485', '37512567', '37468931', '37468923', '37468853', '37467026', '37466877', '37466866', '37195909', '37854288', '37533576', '37533470', '37513354', '37505624', '37464155', '37463024', '37462808', '37462761', '37462759', '37462324', '37459417', '37438010', '37593303', '37505620', '37504355', '37463440', '37461112', '37461108', '37461044', '37460987', '37459333', '37458858', '37338993', '38158998', '37588324', '37588314', '37510827', '37461430', '37559773', '37559766', '37511275', '37510603', '37454056', '37452978', '37093978', '35680515', '35241367', '35168898', '37583730', '37534209', '37511225', '37511207', '37450424', '37450202', '37449467', '37443101', '37197945', '37554258', '37522127', '37513550', '37512552', '37512108', '37511174', '37505863', '37504930', '37443075', '37440543', '37440300', '37439598', '37075881', '20301763', '37513538', '37511128', '37511104', '37509144', '37508497', '37504123', '37504026', '37501942', '37501786', '37438059', '37437012', '37434199', '36929832', '36790838', '36718569', '36702539', '37514599', '37514591', '37513525', '37513524', '37510721', '37497013', '37456063', '37434362', '37434264', '37434149', '37433795', '37433730', '37431855', '37408430', '37288568', '36725366', '37542472', '37514393', '37510714', '37510432', '37510329', '37492583', '37492580', '37448972', '37430271', '37430259', '37428532', '37368379', '37339247', '37114766', '37001242', '35959691', '37513503', '37513494', '37511903', '36000920', '37551242', '37484951', '37483632', '37476587', '37476582', '37447398', '37447397', '37446402', '37440783', '37436254', '37420229', '37418170', '37417630', '37417593', '37519646', '37511715', '37509560', '37504428', '37504181', '37483946', '37447376', '37446354', '37446334', '37445562', '37435096', '37415253', '37415185', '37415182', '37415132', '37415057', '37414810', '37410739', '37410678', '37410542', '37410534', '37410181', '37191647', '37512058', '37509111', '37476691', '37476161', '37446287', '37406002', '37405818', '37166398', '36930945', '36749015', '36727500', '37534029', '37469755', '37447989', '37447354', '37443814', '37403864', '37403180', '37403125', '37403075', '37477916', '37471086', '37465675', '37465175', '37465122', '37445502', '37400877', '37400510', '37399200', '37395837', '37395678', '36848323', '36546554', '35230216', '35225753', '35212247', '37405940', '37400129', '37385808', '38312763', '38251553', '38251550', '38116637', '38101448', '38099334', '38088256', '38009300', '38009256', '37994875', '37991821', '37943011', '37931775', '37925668', '37916684', '37905778', '37905552', '37904510', '37900890', '37861098', '37817419', '37792768', '37753554', '37740660', '37715979', '37713414', '37712242', '37691294', '37668168', '37665872', '37665869', '37651773', '37646222', '37642407', '37632430', '37624997', '37602688', '37597491', '37587644', '37572081', '37549407', '37545460', '37545063', '37542214', '37540092', '37534022', '37530349', '37528591', '37526079', '37524514', '37524411', '37521225', '37508236', '37507209', '37507150', '37499079', '37497520', '37497394', '37496492', '37494833', '37494064', '37486028', '37482790', '37481290', '37479496', '37477241', '37477127', '37474275', '37469060', '37465863', '37465470', '37460269', '37459746', '37450863', '37444121', '37440737', '37436316', '37431073', '37427701', '37426912', '37425375', '37425212', '37423505', '37420059', '37417663', '37417662', '37417661', '37417573', '37415033', '37407335', '37407301', '37407226', '37407153', '37400288', '37398971', '37398968', '37398956', '37398950', '37394783', '37393554', '37393409', '37393356', '37393280', '37393260', '37393235', '37392523', '37392038', '37391992', '37391285', '37390846', '37382919', '37379771', '37369514', '37366552', '37366143', '37365840', '37364393', '37358712', '37348244', '37348207', '37345383', '37341735', '37340789', '37339541', '37335024', '37334023', '37331899', '37331747', '37330807', '37330805', '37330800', '37330798', '37330793', '37330783', '37330781', '37330777', '37330773', '37330772', '37330771', '37330767', '37330763', '37330758', '37330756', '37329941', '37329463', '37328359', '37321113', '37316563', '37315310', '37314443', '37309619', '37307762', '37306751', '37306390', '37300970', '37300969', '37293804', '37291054', '37290839', '37290541', '37290109', '37289215', '37286853', '37286802', '37286624', '37286621', '37285167', '37285067', '37278865', '37276984', '37272982', '37271867', '37271708', '37271600', '37271560', '37271553', '37269474', '37267738', '37267610', '37266929', '37266821', '37265268', '37265101', '37265093', '37264491', '37261463', '37257367', '37256489', '37256481', '37254447', '37254441', '37249349', '37247820', '37245774', '37245246', '37245147', '37244753', '37244713', '37244703', '37244391', '37243896', '37243682', '37236717', '37236685', '37236683', '37236678', '37236211', '37233923', '37232429', '37230552', '37228857', '37227472', '37224933', '37222927', '37222863', '37222563', '37222426', '37222399', '37217141', '37216702', '37212548', '37211254', '37209143', '37208063', '37208062', '37208061', '37208060', '37208059', '37208058', '37208057', '37208056', '37208055', '37208054', '37208053', '37208052', '37208051', '37208050', '37207436', '37207374', '37204619', '37204154', '37202260', '37201475', '37201435', '37199784', '37199688', '37196876', '37195040', '37193929', '37193903', '37193822', '37191819', '37191603', '37188586', '37187453', '37185958', '37183715', '37183312', '37179226', '37178578', '37178372', '37172915', '37172366', '37171666', '37171619', '37169993', '37169101', '37169077', '37164310', '37163784', '37162736', '37161915', '37161909', '37160473', '37160160', '37156540', '37156410', '37156342', '37156341', '37156118', '37156115', '37155129', '37150030', '37149429', '37149139', '37148846', '37148809', '37148676', '37146985', '37146984', '37146731', '37146660', '37146421', '37146391', '37146098', '37144460', '37144457', '37142535', '37142457', '37142195', '37142194', '37142167', '37142161', '37142059', '37141734', '37140722', '37140024', '37138366', '37137733', '37134251', '37133652', '37130547', '37130217', '37127451', '37127228', '37127187', '37127186', '37127094', '37126801', '37126103', '37126093', '37121880', '37121530', '37121147', '37120119', '37119738', '37117764', '37117121', '37116408', '37115856', '37114503', '37106278', '37106240', '37105046', '37104694', '37101094', '37100008', '37097996', '37094636', '37093254', '37086934', '37085092', '37085091', '37085009', '37083654', '37083194', '37082887', '37080889', '37080543', '37080353', '37074676', '37072899', '37070657', '37068162', '37067246', '37062847', '37061112', '37060819', '37060397', '37059810', '37059387', '37057671', '37056252', '37056203', '37053206', '37052948', '37052869', '37051894', '37039472', '37038064', '37036632', '37032191', '37031829', '37031750', '37031380', '37031061', '37031010', '37029710', '37029663', '37029592', '37029208', '37029069', '37028582', '37026526', '37024033', '37023969', '37021936', '37021332', '37019693', '37019620', '37018859', '37017903', '37014379', '37012428', '37011140', '37010899', '37010113', '37005473', '37004882', '37004531', '37003424', '37000463', '36997475', '36995495', '36991199', '36990337', '36987655', '36972017', '36965699', '36965520', '36964966', '36963479', '36961254', '36958647', '36958633', '36951177', '36951176', '36944353', '36941142', '36940683', '36934832', '36934385', '36931294', '36930218', '36930205', '36928373', '36928171', '36927772', '36921794', '36921714', '36918310', '36917398', '36914431', '36914383', '36913992', '36913661', '36907769', '36907247', '36898768', '36897200', '36893510', '36882587', '36882048', '36881547', '36879173', '36878756', '36870583', '36870438', '36869882', '36868374', '36853855', '36853492', '36849125', '36841374', '36841315', '36840585', '36825928', '36825511', '36813537', '36811635', '36811546', '36787803', '36781068', '36763330', '36763123', '36762849', '36759960', '36758717', '36755104', '36750220', '36749350', '36735155', '36731030', '36727896', '36715739', '36715025', '36708287', '36705333', '36705005', '36702926', '36702704', '36692699', '36683416', '36680662', '36680614', '36669871', '36661857', '36655898', '36649927', '36640777', '36628495', '36624067', '36609604', '36604155', '36603158', '36600204', '36585305', '36583383', '36581002', '36549585', '36542131', '36540949', '36538658', '36537108', '36534142', '36529986', '36528289', '36521172', '36515733', '36515582', '36513787', '36473985', '36472094', '36469121', '36463364', '36450440', '36449047', '36448720', '36445750', '36441213', '36426821', '36422993', '36411399', '36398336', '36395350', '36379466', '36377815', '36372845', '36370446', '36334160', '36323976', '36316089', '36310426', '36280537', '36210719', '36164677', '36115662', '36111666', '36103031', '36063396', '35996322', '35986815', '35971803', '35925814', '35918843', '35897160', '35871286', '35855519', '35853235', '35834724', '35831758', '35819519', '35815568', '35802487', '35802264', '35792085', '35758338', '35736251', '35726183', '35695464', '35692077', '35689372', '35679204', '35658631', '35658629', '35658623', '35643907', '35619586', '35612823', '35465851', '35446727', '35438011', '35414266', '35413208', '35272369', '35192444', '35164617', '35044869', '34897609', '34855565', '34711091', '34661496', '34633255', '34544215', '34433369', '33784928', '33751919', '38550927', '38043070', '37457987', '37457720', '37457267', '37455897', '37446095', '37445466', '37443785', '37441514', '37391745', '37391743', '37391571', '37391436', '37390277', '37390231', '37389826', '37389673', '37389584', '37386554', '37286219', '37198926', '37076176', '36808109', '37564167', '37512035', '37502095', '37483321', '37457976', '37457855', '37457076', '37457037', '37456992', '37455902', '37447274', '37446036', '37446024', '37386374', '37386321', '37386114', '37384377', '37384367', '37382855', '37093679', '37511841', '37510268', '37492122', '37449015', '37447252', '37446003', '37445383', '37380733', '37380205', '37379057', '37316469', '37279603', '37248992', '37171063', '37140354', '36995249', '37512502', '37508348', '37443761', '37443759', '37441560', '37441501', '37368943', '37368906', '37344046', '37455928', '37447782', '37445852', '37444223', '37444074', '37441512', '37435300', '37434737', '37434721', '37404774', '37397027', '37369418', '37365651', '37312576', '37583008', '37508786', '37476950', '37340651', '37492829', '37447189', '37356803', '37355661', '37355623', '37355573', '37354261', '37489567', '37444423', '37426092', '37425176', '37424859', '37424781', '37424749', '37366186', '37355261', '37352028', '37351947', '37351641', '36694981', '36349697', '37512486', '37447164', '37445689', '37444051', '37427405', '37349734', '37347880', '37347733', '37347534', '37345873', '37508325', '37447158', '37445635', '37445634', '37445602', '37443712', '37416323', '37415826', '37344902', '37344901', '37344767', '37344764', '37341512', '37340969', '37164906', '36927039', '36690341', '38529240', '37485153', '37420916', '37400414', '37374202', '37373536', '37372922', '37372775', '37372774', '37371858', '37339240', '37222169', '37144479', '37075262', '37405136', '37404720', '37376212', '37375708', '37374197', '37373500', '37362621', '37337621', '37336582', '37331930', '37272297', '37122224', '37122223', '36424872', '37375696', '37375694', '37373444', '37330701', '37375691', '37374372', '37372912', '37371585', '37371124', '37330490', '37398907', '37396887', '37374362', '37372746', '37367246', '37346078', '37332609', '37329120', '37328781', '37328734', '37328182', '37327307', '37326065', '37325966', '37325962', '37325961', '37325955', '37325954', '37185773', '37162283', '37140245', '37036780', '36738276', '36738253', '37677754', '37397711', '37397456', '37396767', '37376340', '37372720', '37372717', '37372149', '37367914', '37342788', '37321994', '37321678', '37318696', '37317929', '37184459', '37156445', '37146891', '37146733', '37121334', '37085128', '37079932', '37003372', '36940816', '21563328', '37389274', '37388549', '37388207', '37375645', '37371091', '37370364', '37326258', '37315096', '37315078', '37314059', '36639227', '35211753', '37383400', '37371796', '37368568', '37366914', '37334131', '37312019', '37310970', '37378077', '37375629', '37371077', '37308880', '37308839', '37308714', '37307332', '37307045', '37306570', '37278179', '37235454', '36731808', '37448400', '37375615', '37375058', '37372826', '37367420', '37264582', '37301953', '37301857', '37375605', '37372810', '37370906', '37368692', '37366908', '37361172', '37335644', '37335639', '37325077', '37296390', '37294546', '37289903', '37289900', '36367832', '36367830', '36250794', '37663199', '37424769', '37396804', '37373042', '37373038', '37371060', '37368565', '37363728', '37362440', '37361407', '37361170', '37323162', '37313499', '37294864', '37291629', '37291604', '37291598', '37289826', '37289046', '36854259', '37484400', '37420578', '37375562', '37375172', '37372987', '37371254', '37371041', '37293983', '37287036', '37286965', '37286937', '37285331', '37198019', '36971283', '37425590', '37372945', '37372656', '37367062', '37366729', '37280599', '37280586', '37280512', '37280033', '37280028', '37278947', '37157221', '37059260', '38249766', '37384639', '37347023', '37346231', '37342769', '37342327', '37342273', '37300067', '37297659', '37283365', '37279691', '37277875', '37277575', '37276273', '37272778', '37272509', '37272501', '37104852', '36762751', '36705238', '36200244', '36173056', '37324573', '37271808', '37404420', '37370613', '37299588', '37299584', '37270500', '37268930', '37371378', '37371240', '37364877', '37364871', '37333555', '37333527', '37304892', '37299582', '37299579', '37298604', '37296656', '37269095', '37267154', '37266649', '37265424', '38251602', '37960998', '37924547', '37904862', '37832141', '37797096', '37732562', '37675157', '37659890', '37649463', '37620236', '37603709', '37537860', '37524622', '37501548', '37501546', '37494508', '37490570', '37464997', '37452656', '37448224', '37427651', '37425102', '37422344', '37418173', '37418172', '37414718', '37409697', '37407216', '37407215', '37403313', '37401310', '37397615', '37393593', '37390033', '37389875', '37378487', '37369560', '37356874', '37353286', '37349122', '37349121', '37346234', '37339494', '37334839', '37330882', '37330861', '37326994', '37325472', '37322648', '37318806', '37318455', '37316970', '37316969', '37316968', '37316213', '37316210', '37316204', '37316188', '37316187', '37316186', '37316184', '37316183', '37316182', '37316181', '37311581', '37302928', '37299566', '37299557', '37297632', '37295266', '37294200', '37294198', '37294197', '37294196', '37294194', '37293426', '37293420', '37290358', '37290181', '37290160', '37290034', '37288652', '37285780', '37283893', '37279474', '37278069', '37275661', '37272325', '37270272', '37270225', '37268392', '37266938', '37264687', '37263075', '37261728', '37261528', '37260361', '37260151', '37259917', '37259811', '37259665', '37259542', '37258887', '37253528', '37250370', '37249611', '37247445', '37245950', '37244210', '37236820', '37235543', '37235540', '37233738', '37231573', '37230133', '37230131', '37230128', '37227880', '37222759', '37221379', '37221259', '37220261', '37219861', '37219562', '37219444', '37216936', '37212306', '37210923', '37210774', '37210318', '37210300', '37210028', '37209456', '37209146', '37208097', '37207326', '37204304', '37202322', '37202025', '37201990', '37200329', '37199911', '37197690', '37194954', '37193499', '37188756', '37188615', '37187321', '37187221', '37186128', '37185448', '37185354', '37185117', '37184229', '37183382', '37182530', '37182296', '37180567', '37173143', '37170052', '37169601', '37169353', '37169308', '37169161', '37167807', '37166620', '37164280', '37161890', '37161889', '37161520', '37160641', '37159985', '37159980', '37155727', '37154965', '37154489', '37154097', '37150726', '37150705', '37150326', '37149408', '37148538', '37144397', '37142469', '37139947', '37137818', '37137745', '37137628', '37137626', '37137625', '37137624', '37137621', '37137620', '37137618', '37133679', '37132359', '37130444', '37129779', '37129759', '37128915', '37127408', '37127279', '37127247', '37126591', '37126578', '37126337', '37126137', '37121846', '37121645', '37121640', '37121638', '37121501', '37121066', '37120786', '37120162', '37119451', '37116895', '37116644', '37115301', '37105781', '37105656', '37105012', '37103749', '37099687', '37098746', '37097415', '37097414', '37095295', '37095233', '37094751', '37094510', '37088671', '37087835', '37087782', '37086928', '37086888', '37086246', '37085127', '37084758', '37084476', '37084080', '37084017', '37080945', '37079167', '37078649', '37078640', '37078571', '37076381', '37076241', '37076232', '37076231', '37076230', '37075554', '37075515', '37075273', '37074621']\n",
      "\n"
     ]
    }
   ],
   "source": [
    "df = result_dict[iteration].get_article_data_by_title()\n",
    "df"
   ]
  },
  {
   "cell_type": "markdown",
   "metadata": {},
   "source": [
    "# If needing to modify"
   ]
  },
  {
   "cell_type": "code",
   "execution_count": null,
   "metadata": {},
   "outputs": [],
   "source": [
    "class Pubmed_API:\n",
    "    def __init__(self, api_key=os.getenv('api_ncbi'), logger=None, logging_level=logging.INFO):\n",
    "        \"\"\"\n",
    "        Parameters:\n",
    "        - api_key (str): NCBI API key\n",
    "        ---\n",
    "        # Example usage\n",
    "\n",
    "        result_dict = dict()\n",
    "        iteration = 1\n",
    "        query = 'query string'\n",
    "        result_dict[iteration] = Pubmed_API()\n",
    "\n",
    "        ## Option 1\n",
    "\n",
    "        2 steps: Get list of PMIDs first, then get the article data.\n",
    "\n",
    "        ids_list = result_dict[iteration].search_article(query, retmax=5, ids_only=True)\n",
    "        df = result_dict[iteration].get_article_data_by_title()\n",
    "\n",
    "        ## Option 2\n",
    "\n",
    "        Get the PMIDs and then the article data in one step.\n",
    "\n",
    "        result_dict[iteration] = Pubmed_API()\n",
    "        df = result_dict[iteration].search_article(query, retmax=5, ids_only=False)\n",
    "\n",
    "        \"\"\"\n",
    "        self.api_key = api_key\n",
    "        self.logger = create_function_logger('Pubmed_API', logger, level=logging_level)\n",
    "        self.iteration = 0\n",
    "        self.responses_dict = {}\n",
    "        self.results_dict = {}\n",
    "        self.PMIDs_dict = {}\n",
    "        self.record_strings_dict = {}\n",
    "\n",
    "    def search_article(self, query, query_tag=None, publication=None, reldate=None, retmax=None,\n",
    "        systematic_only=False, review_only=False, period_filter=None,\n",
    "        additional_search_params=None, ids_only=False, \n",
    "        verbose=True\n",
    "        ):\n",
    "        \"\"\"\n",
    "        Search for article title in PubMed database.\n",
    "\n",
    "        Parameters:\n",
    "        - query (str): Pubmed search query.\n",
    "        - reldate (int, optional): The search returns only those items that have a date specified by datetype within the last n days.\n",
    "        - query_tag (str, optional): Query tag to append to the search query.\n",
    "        - publication (str, optional): Publication name.\n",
    "        - retmax (int, optional): Maximum number of results to return. \n",
    "            If None, default is 20. API returns a maximum of 9999 results. To get more results for Pubmed,\n",
    "            need to use the command line: https://www.ncbi.nlm.nih.gov/books/NBK179288/\n",
    "        - systematic_only (bool, optional): If True, filter for only systematic review articles.\n",
    "        - review_only (bool, optional): If True, filter for only systematic review or review articles.\n",
    "        - additional_search_params (dict, optional): Additional search parameters to pass to the esearch API.\n",
    "        - period_filter (1, 5, or 10, optional): Filter for articles published in the past 1, 5, or 10 years.\n",
    "            Note: To filter by other periods, use `reldate` parameter as that is how the API works.\n",
    "            \n",
    "        Returns:\n",
    "\n",
    "\n",
    "        API documentation: https://www.ncbi.nlm.nih.gov/books/NBK25499/#chapter4.ESearch\n",
    "        Pubmed User Guide including tags for filtering results: https://pubmed.ncbi.nlm.nih.gov/help/\n",
    "        \"\"\"\n",
    "        base_url = f'https://eutils.ncbi.nlm.nih.gov/entrez/eutils/esearch.fcgi'\n",
    "        if self.api_key:\n",
    "            base_url += f'&api_key={self.api_key}'\n",
    "        response = {}\n",
    "        results = pd.DataFrame()\n",
    "        search_term = f'{re.sub(r\"not\", \"\", query)}'  # Remove 'not' since it will be treated as a boolean\n",
    "        if query_tag:\n",
    "            search_term += f'{query_tag}'\n",
    "        if publication:\n",
    "            search_term = f'AND {publication} [ta]'\n",
    "        if systematic_only:\n",
    "            search_term += ' AND systematic[sb]'\n",
    "        elif review_only:\n",
    "            search_term += ' AND (systematic[sb] OR review[pt])'\n",
    "        if period_filter:\n",
    "            search_term += f' AND y_{period_filter}[Filter]'\n",
    "        params = {\n",
    "            'db': 'pubmed',\n",
    "            'term': search_term,\n",
    "            'retmode': 'json',\n",
    "            'datetype': 'edat',\n",
    "        }\n",
    "        if reldate:\n",
    "            params['reldate'] = reldate\n",
    "        if retmax:\n",
    "            params['retmax'] = retmax\n",
    "        if additional_search_params:\n",
    "            params.update(additional_search_params)\n",
    "        self.logger.info(f'Search term: {search_term}')\n",
    "        messages = []\n",
    "        try:\n",
    "            self.iteration += 1\n",
    "            response = requests.get(base_url, params=params)\n",
    "            response_dict = response.json()\n",
    "            id_list = response_dict['esearchresult']['idlist']\n",
    "            messages.append(f'{len(id_list)} PMIDs found.')\n",
    "            if verbose==True:\n",
    "                messages.append(f'{id_list}')\n",
    "            self.PMIDs_dict[self.iteration] = id_list\n",
    "            self.responses_dict[self.iteration] = response_dict\n",
    "            if ids_only==False:\n",
    "                results = self.get_article_data_by_title()\n",
    "            else:\n",
    "                results = id_list\n",
    "            self.logger.info('\\n'.join(messages))\n",
    "        except Exception as error:\n",
    "            error_messages = []\n",
    "            exc_type, exc_obj, tb = sys.exc_info()\n",
    "            file = tb.tb_frame\n",
    "            lineno = tb.tb_lineno\n",
    "            filename = file.f_code.co_filename\n",
    "            message = f'\\tAn error occurred on line {lineno} in {filename}: {error}'\n",
    "            error_messages.append(message)\n",
    "            self.logger.error('\\n'.join(error_messages))\n",
    "        \n",
    "        return results\n",
    "\n",
    "    def get_article_data_by_title(self, iteration=None):\n",
    "        result_df = pd.DataFrame()\n",
    "        try:\n",
    "            result_dict = {}\n",
    "            iteration = self.iteration if iteration == None else iteration\n",
    "            record_strings_list = self.batch_retrieve_citation(iteration)\n",
    "            self.record_strings_dict[iteration] = record_strings_list\n",
    "            for index, record_string in enumerate(record_strings_list):\n",
    "                result_dict[index] = self.extract_pubmed_details(record_string)\n",
    "            self.results_dict[iteration] = result_dict\n",
    "            result_df = pd.DataFrame(result_dict).transpose()\n",
    "        except Exception as error:\n",
    "            error_messages = []\n",
    "            error_messages.append(f'Response: \\n{self.PMIDs_dict.get(iteration)}')\n",
    "            exc_type, exc_obj, tb = sys.exc_info()\n",
    "            file = tb.tb_frame\n",
    "            lineno = tb.tb_lineno\n",
    "            filename = file.f_code.co_filename\n",
    "            message = f'\\tAn error occurred on line {lineno} in {filename}: {error}'\n",
    "            error_messages.append(message)\n",
    "            self.logger.error('\\n'.join(error_messages))\n",
    "        return result_df\n",
    "\n",
    "    def batch_retrieve_citation(self, iteration):\n",
    "        result_list = []\n",
    "        messages = []\n",
    "        try:\n",
    "            id_list = self.PMIDs_dict.get(iteration)\n",
    "            if id_list:\n",
    "                self.logger.info(f'Extracting these {len(id_list)} PMIDs: {id_list}')\n",
    "                for index, id in enumerate(id_list):\n",
    "                    result_list.append(self.retrieve_citation(id).decode('utf-8'))\n",
    "                    current_index, current_id = index+1, id\n",
    "            else:\n",
    "                self.logger.warning(f'No results found.')\n",
    "        except Exception as error:\n",
    "            messages.append(f'Response: \\n{self.responses_dict.get(iteration)}')\n",
    "            exc_type, exc_obj, tb = sys.exc_info()\n",
    "            file = tb.tb_frame\n",
    "            lineno = tb.tb_lineno\n",
    "            filename = file.f_code.co_filename\n",
    "            messages.append(f'\\tAn error occurred on line {lineno} in {filename}: {error}')\n",
    "            messages.append(f'Article {current_index} [{current_id}] not found.')\n",
    "        return result_list\n",
    "\n",
    "    def retrieve_citation(self, article_id):\n",
    "        base_url = f'https://eutils.ncbi.nlm.nih.gov/entrez/eutils/efetch.fcgi'\n",
    "        if self.api_key:\n",
    "            base_url += f'&api_key={self.api_key}'\n",
    "        params = {\n",
    "            'db': 'pubmed',\n",
    "            'id': article_id\n",
    "        }\n",
    "        response = requests.get(base_url, params=params)\n",
    "        return response.content\n",
    "\n",
    "    def extract_pubmed_details_df(self, iteration=None):\n",
    "        \"\"\"\n",
    "        Extract the Pubmed article details for the given list of record strings for the given iteration.\n",
    "\n",
    "        Returns:\n",
    "        DataFrame of the Pubmed article details.\n",
    "        \"\"\"\n",
    "        df = pd.DataFrame()\n",
    "        record_strings = pd.Series(self.record_strings_dict.get(iteration if iteration else self.iteration))\n",
    "        regex_dict = {\n",
    "            'article_title': r'<ArticleTitle>(.*?)</ArticleTitle>',\n",
    "            'pmid': r'<PMID.*?>(.*?)</PMID>',\n",
    "            'journal': r'<Title>(.*?)</Title>',\n",
    "            'volume': r'<Volume>(.*?)</Volume>',\n",
    "            'issue': r'<Issue>(.*?)</Issue>',\n",
    "            'year': r'<PubDate><Year>(\\d{4})</Year>',\n",
    "            'month': r'<PubDate>.*?<Month>(Aug)</Month>.*?</PubDate>',\n",
    "            'start_page': r'<StartPage>(.*?)</StartPage>',\n",
    "            'end_page': r'<EndPage>(.*?)</EndPage>',\n",
    "            'doi': r'<ELocationID.*?EIdType=\"doi\".*?>(.*?)</ELocationID>',\n",
    "        }\n",
    "        for column, regex in regex_dict.items():\n",
    "            df[column] = record_strings.str.extract(regex)\n",
    "        df['abstract'] = self.df_extractall(\n",
    "            record_strings, parent_regex=r'<Abstract>(.*?)</Abstract>',\n",
    "            regex = r'<AbstractText.*?(?: Label=\"(.*?)\")?.*?>(.*?)</AbstractText>',\n",
    "            logger=self.logger, sep=': ', join_strings=' '\n",
    "        )\n",
    "        df['mesh_headings'] = self.df_extractall(\n",
    "            record_strings, \n",
    "            parent_regex=r'<MeshHeadingList>(.*?)</MeshHeadingList>',\n",
    "            regex=r'<MeshHeading><DescriptorName.*?>(.*?)</DescriptorName>(<QualifierName.*?>.*?</QualifierName>)?</MeshHeading>',\n",
    "            nested_regex=r'<QualifierName.*?>(.*?)</QualifierName>', logger=self.logger\n",
    "        )\n",
    "        df['authors'] = self.df_extractall(\n",
    "            record_strings, sep=' ',\n",
    "            regex=r'<Author ValidYN=\"Y\".*?><LastName>(.*?)</LastName><ForeName>(.*?)</ForeName>',\n",
    "            logger=self.logger \n",
    "        )\n",
    "        df['keywords'] = self.df_extractall(\n",
    "            record_strings, parent_regex=r'<KeywordList.*?>(.*?)</KeywordList>',\n",
    "            regex=r'<Keyword.*?>(.*?)</Keyword>', \n",
    "            logger=self.logger\n",
    "        )\n",
    "        df['major_topics'] = self.df_extractall(\n",
    "            record_strings, \n",
    "            regex=r'<[^>]*MajorTopicYN=\"Y\"[^>]*>([^<]+)<\\/[^>]+>', \n",
    "            logger=self.logger\n",
    "        )\n",
    "        df['publication_type'] = self.df_extractall(\n",
    "            record_strings, parent_regex=r'<PublicationTypeList.*?>(.*?)</PublicationTypeList>',\n",
    "            regex=r'<PublicationType.*?>(.*?)</PublicationType>', \n",
    "            logger=self.logger\n",
    "        )\n",
    "        columns = [\n",
    "            'article_title',\n",
    "            'abstract',\n",
    "            'mesh_headings',\n",
    "            'keywords',\n",
    "            'major_topics',\n",
    "            'pmid',\n",
    "            'doi',\n",
    "            'journal',\n",
    "            'volume',\n",
    "            'issue',\n",
    "            'year',\n",
    "            'month',\n",
    "            'start_page',\n",
    "            'end_page',\n",
    "            'authors',\n",
    "            'publication_type'\n",
    "        ]\n",
    "        return df[columns]\n",
    "\n",
    "    def df_extractall(self, \n",
    "            series, regex, parent_regex=None, nested_regex=None, sep=[' ', ' / '], \n",
    "            join_strings=False, logger=None\n",
    "            ):\n",
    "        \"\"\"\n",
    "        Helper function called by `.search_article()` and `.get_article_data_by_title()` to parse \n",
    "        article metadata from PubMed database.\n",
    "\n",
    "        Parameters:\n",
    "        - series: pd.Series\n",
    "        - regex: Regular expression to extract from the series.\n",
    "        - parent_regex (optional): Regular expression from which to extract the `regex`.\n",
    "            If None, `regex` will be extracted from the series.\n",
    "        - nested_regex (optional): Regular expression that is nested within `regex` to extract.\n",
    "        - sep (str or list; optional): String or list of strings used to separate multiple capture groups.\n",
    "            If it is a list, then the first value is used to separate the main capture groups. \n",
    "            The second value is used to separate the nested capture groups. If the nested regex \n",
    "            has multiple capture groups, then the last value is used to separate them.\n",
    "        - join_strings (optional): Boolean indicating whether to join the extracted values.\n",
    "        - logger (optional): Instance of Custom_Logger class.\n",
    "\n",
    "        Returns:\n",
    "        - pd.Series with the extracted values.\n",
    "        \"\"\"\n",
    "        logger = create_function_logger('df_extractall', logger)\n",
    "        messages = []\n",
    "        messages.append(f'***Running `df_extractall` with regex {regex}***')\n",
    "        if parent_regex:\n",
    "            messages.append(f'\\tparent_regex: {parent_regex}')\n",
    "        if nested_regex:\n",
    "            messages.append(f'\\tnested_regex: {nested_regex}')\n",
    "        if parent_regex:\n",
    "            extracted = series.str.extract(parent_regex, expand=False)\n",
    "            series = extracted\n",
    "        extracted = series.str.extractall(regex).replace({np.nan: ''})\n",
    "        if extracted.shape[1] >= 1:\n",
    "            joined_values = extracted[0]\n",
    "        else:\n",
    "            messages.warning('No matches found.')\n",
    "            return series\n",
    "        if extracted.shape[1] > 1:\n",
    "            extracted.index.names = [f'{name if name else \"index\"}{index if index !=0 else \"\"}' for index, name in enumerate(extracted.index.names)]\n",
    "            for i in range(1, extracted.shape[1]):\n",
    "                if nested_regex:\n",
    "                    matches = extracted[i].str.extractall(nested_regex)#.replace({np.nan: ''})\n",
    "                    messages.append(f'Number of nested capture groups: {matches.shape[1]}')\n",
    "                    matches.columns = [f'nested_text{column}' for column in matches.columns]\n",
    "                    regex_df = extracted.merge(\n",
    "                        matches, how='left', left_index=True, right_index=True\n",
    "                    ).replace({np.nan: ''})\n",
    "                    nested_separator = sep if type(sep) == str else sep[1]\n",
    "                    if i == 1:\n",
    "                        root_column = 0 \n",
    "                        capture_group_separator = nested_separator\n",
    "                    else:\n",
    "                        root_column = 'Text'\n",
    "                        capture_group_separator = sep if type(sep) == str else sep[-1]\n",
    "                    regex_df = concat_columns(\n",
    "                        regex_df, [root_column, 'nested_text0'], 'Text', \n",
    "                        sep=capture_group_separator\n",
    "                    )\n",
    "                    joined_values = regex_df['Text']\n",
    "\n",
    "                else:\n",
    "                    separator = sep if type(sep) == str else sep[0]\n",
    "                    joined_values = joined_values + separator + extracted[i]\n",
    "        new_series = joined_values.groupby(level=0).apply(lambda groupby: [match for match in groupby])\n",
    "        if (type(join_strings) == str) | (join_strings == True):\n",
    "            new_series = new_series.apply(lambda x: f'{join_strings if type(join_strings) == str else \" \"}'.join(x))\n",
    "        logger.debug('\\n'.join(messages))\n",
    "        return new_series\n",
    "\n",
    "    def extract_pubmed_details(self, record_string):\n",
    "        \"\"\"\n",
    "        [Archived: Use `extract_pubmed_details_df` instead to perform regex operations on the entire dataframe.]\n",
    "        Helper function called by `pubmed_details_by_title` to parse article metadata from PubMed database.\n",
    "        \"\"\"\n",
    "        authors = re.findall(r'<Author ValidYN=\"Y\".*?><LastName>(.*?)</LastName><ForeName>(.*?)</ForeName>', record_string)\n",
    "        formatted_authors = ', '.join(['{} {}'.format(author[1], author[0]) for author in authors])\n",
    "\n",
    "        # Extract publication year\n",
    "        publication_year = re.search(r'<PubDate><Year>(\\d{4})</Year>', record_string)\n",
    "        publication_year = publication_year.group(1) if publication_year else ''\n",
    "        publication_month = re.search(r'<PubDate>.*?<Month>(Aug)</Month>.*?</PubDate>', record_string)\n",
    "        publication_month = publication_month.group(1) if publication_month else ''\n",
    "\n",
    "        # Extract article title\n",
    "        article_title = re.search(r'<ArticleTitle>(.*?)</ArticleTitle>', record_string)\n",
    "        article_title = article_title.group(1) if article_title else ''\n",
    "\n",
    "        # Extract journal title\n",
    "        journal_title = re.search(r'<Title>(.*?)</Title>', record_string)\n",
    "        journal_title = journal_title.group(1) if journal_title else ''\n",
    "\n",
    "        # Extract journal volume\n",
    "        journal_volume = re.search(r'<Volume>(.*?)</Volume>', record_string)\n",
    "        journal_volume = journal_volume.group(1) if journal_volume else ''\n",
    "\n",
    "        # Extract journal issue\n",
    "        journal_issue = re.search(r'<Issue>(.*?)</Issue>', record_string)\n",
    "        journal_issue = journal_issue.group(1) if journal_issue else ''\n",
    "\n",
    "        # Extract start page\n",
    "        start_page = re.search(r'<StartPage>(.*?)</StartPage>', record_string)\n",
    "        start_page = start_page.group(1) if start_page else ''\n",
    "\n",
    "        # Extract end page\n",
    "        end_page = re.search(r'<EndPage>(.*?)</EndPage>', record_string)\n",
    "        end_page = end_page.group(1) if end_page else ''\n",
    "\n",
    "        # Extract ELocationID\n",
    "        doi = re.search(r'<ELocationID.*?EIdType=\"doi\".*?>(.*?)</ELocationID>', record_string)\n",
    "        doi = doi.group(1) if doi else ''\n",
    "\n",
    "        # Extract PMID\n",
    "        pmid = re.search(r'<PMID.*?>(.*?)</PMID>', record_string)\n",
    "        pmid = pmid.group(1) if pmid else ''\n",
    "\n",
    "        abstract_matches = re.findall(r'(<AbstractText.*?>.*?</AbstractText>)', record_string)\n",
    "        # self.logger.debug(f'Number of abstract sections: {len(abstract_matches)}')\n",
    "        if len(abstract_matches) > 1:\n",
    "            cleaned_abstract_sections = []\n",
    "            for match in abstract_matches:\n",
    "                clean_match = re.sub(r'<AbstractText.*?((?:Label=\".*\")?.*?>.*)</AbstractText>', r'\\1', match)\n",
    "                clean_match = re.sub(r'(?: Label=\"(.*?)\")?.*?>(.*)', r'\\1: \\2', clean_match)\n",
    "                cleaned_abstract_sections.append(clean_match)\n",
    "                \n",
    "            abstract = ''.join([f'{group}<br>' for group in cleaned_abstract_sections])\n",
    "        else:\n",
    "            abstract = re.sub(r'<AbstractText.*?>(.*?)</AbstractText>', r'\\1', abstract_matches[0])  if abstract_matches else ''\n",
    "            \n",
    "        # Extract MeshHeadingList\n",
    "        MeshHeadingList = re.search(r'<MeshHeadingList>(.*?)</MeshHeadingList>', record_string)\n",
    "        MeshHeadingList = MeshHeadingList.group(1) if MeshHeadingList else ''\n",
    "\n",
    "        # Estract MeshHeading text and any QualifierName\n",
    "        mesh_headings = []\n",
    "        pattern = r'<MeshHeading><DescriptorName.*?>(.*?)</DescriptorName>(<QualifierName.*?>.*?</QualifierName>)?</MeshHeading>'\n",
    "        matches = re.findall(pattern, MeshHeadingList)\n",
    "        for match in matches:\n",
    "            heading = match[0]\n",
    "            if match[1]: # Estract Mesh QualifierName                \n",
    "                MeshQualifiers = re.findall(\n",
    "                    r'<QualifierName.*?>(.*?)</QualifierName>', match[1]\n",
    "                    )\n",
    "                print(f'mesh qualifiers: {MeshQualifiers}')\n",
    "                for qualifier in MeshQualifiers:\n",
    "                    heading = f\"{match[0]} / {qualifier}\"\n",
    "                    mesh_headings.append(heading)\n",
    "            else:\n",
    "                mesh_headings.append(heading)\n",
    "\n",
    "        # Extract keyword\n",
    "        Keyword_List = re.search(r'<KeywordList.*?>(.*?)</KeywordList>', record_string)\n",
    "        Keyword_List = Keyword_List.group(1) if Keyword_List else ''\n",
    "        Keywords = re.findall(\n",
    "            r'<Keyword.*?>(.*?)</Keyword>', Keyword_List\n",
    "            )\n",
    "        # Extract MajorTopic text\n",
    "        MajorTopics = re.findall(\n",
    "            r'<[^>]*MajorTopicYN=\"Y\"[^>]*>([^<]+)<\\/[^>]+>', record_string\n",
    "            )\n",
    "        # Extract Publication Type\n",
    "        PublicationTypeList = re.search(r'<PublicationTypeList.*?>(.*?)</PublicationTypeList>', record_string)\n",
    "        PublicationTypeList = PublicationTypeList.group(1) if PublicationTypeList else ''\n",
    "        PublicationType = re.findall(\n",
    "            r'<PublicationType.*?>(.*?)</PublicationType>', PublicationTypeList\n",
    "            )\n",
    "        return {\n",
    "            'pubmed_title': article_title,\n",
    "            'abstract': abstract,\n",
    "            'journal': journal_title,\n",
    "            'authors': formatted_authors,\n",
    "            'year': publication_year,\n",
    "            'month': publication_month,\n",
    "            'pub_volume': journal_volume,\n",
    "            'pub_issue': journal_issue,\n",
    "            'start_page': start_page,\n",
    "            'end_page': end_page,\n",
    "            'doi': doi,\n",
    "            'pmid': pmid,\n",
    "            'mesh_headings': mesh_headings,\n",
    "            'keywords': Keywords,\n",
    "            'major_topics': MajorTopics,\n",
    "            'publication_type': PublicationType\n",
    "        }\n",
    "\n"
   ]
  },
  {
   "cell_type": "code",
   "execution_count": null,
   "metadata": {},
   "outputs": [],
   "source": []
  },
  {
   "cell_type": "code",
   "execution_count": null,
   "metadata": {},
   "outputs": [],
   "source": []
  },
  {
   "cell_type": "code",
   "execution_count": null,
   "metadata": {},
   "outputs": [],
   "source": []
  },
  {
   "cell_type": "code",
   "execution_count": null,
   "metadata": {},
   "outputs": [],
   "source": []
  },
  {
   "cell_type": "code",
   "execution_count": null,
   "metadata": {},
   "outputs": [],
   "source": []
  },
  {
   "cell_type": "code",
   "execution_count": null,
   "metadata": {},
   "outputs": [],
   "source": []
  },
  {
   "cell_type": "code",
   "execution_count": null,
   "metadata": {},
   "outputs": [],
   "source": []
  },
  {
   "cell_type": "code",
   "execution_count": null,
   "metadata": {},
   "outputs": [],
   "source": []
  },
  {
   "cell_type": "code",
   "execution_count": null,
   "metadata": {},
   "outputs": [],
   "source": []
  },
  {
   "cell_type": "code",
   "execution_count": null,
   "metadata": {},
   "outputs": [],
   "source": []
  },
  {
   "cell_type": "code",
   "execution_count": null,
   "metadata": {},
   "outputs": [],
   "source": []
  },
  {
   "cell_type": "code",
   "execution_count": null,
   "metadata": {},
   "outputs": [],
   "source": []
  },
  {
   "attachments": {},
   "cell_type": "markdown",
   "metadata": {},
   "source": [
    "# *End of Page*"
   ]
  }
 ],
 "metadata": {
  "kernelspec": {
   "display_name": "pubmed",
   "language": "python",
   "name": "pubmed"
  },
  "language_info": {
   "codemirror_mode": {
    "name": "ipython",
    "version": 3
   },
   "file_extension": ".py",
   "mimetype": "text/x-python",
   "name": "python",
   "nbconvert_exporter": "python",
   "pygments_lexer": "ipython3",
   "version": "3.10.12"
  },
  "orig_nbformat": 4,
  "vscode": {
   "interpreter": {
    "hash": "11938c6bc6919ae2720b4d5011047913343b08a43b18698fd82dedb0d4417594"
   }
  }
 },
 "nbformat": 4,
 "nbformat_minor": 2
}
