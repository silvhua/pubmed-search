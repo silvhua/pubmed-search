{
 "cells": [
  {
   "attachments": {},
   "cell_type": "markdown",
   "metadata": {},
   "source": [
    "# Title\n",
    "[]()"
   ]
  },
  {
   "cell_type": "code",
   "execution_count": 1,
   "metadata": {},
   "outputs": [],
   "source": [
    "\n",
    "import sys\n",
    "sys.path.append('../src')\n",
    "sys.path.append(r\"/home/silvhua/custom_python\")\n",
    "from silvhua import *\n",
    "from Pubmed_API import *"
   ]
  },
  {
   "cell_type": "code",
   "execution_count": 2,
   "metadata": {},
   "outputs": [],
   "source": [
    "# set the option to wrap text within cells\n",
    "pd.set_option('display.max_colwidth', 100)\n",
    "# pd.set_option('display.max_colwidth', None)\n",
    "pd.set_option('display.max_rows', 20)\n",
    "pd.set_option('display.max_columns', None)\n",
    "pd.set_option('display.width', None)"
   ]
  },
  {
   "cell_type": "markdown",
   "metadata": {},
   "source": [
    "# Initialize"
   ]
  },
  {
   "cell_type": "code",
   "execution_count": 3,
   "metadata": {},
   "outputs": [],
   "source": [
    "api_key = os.getenv('api_ncbi') # Pubmed API key\n",
    "result_dict = dict()"
   ]
  },
  {
   "cell_type": "markdown",
   "metadata": {},
   "source": [
    "# Iteration 1"
   ]
  },
  {
   "cell_type": "code",
   "execution_count": 4,
   "metadata": {},
   "outputs": [
    {
     "name": "stderr",
     "output_type": "stream",
     "text": [
      "2024-04-06 16:41:39,531 - Pubmed_API - INFO:\n",
      "Search term: \"resistance train*\"\n",
      "\n",
      "2024-04-06 16:41:40,771 - Pubmed_API - INFO:\n",
      "20 PMIDs found.\n",
      "\n"
     ]
    }
   ],
   "source": [
    "iteration = 1\n",
    "# query = '(\"resistance train*\"[All Fields]) AND ((y_10[Filter]) AND (meta-analysis[Filter] OR review[Filter] OR systematicreview[Filter]))'\n",
    "# query = 'Factors associated with different types of hip fractures among elderly patients a tertiary hospital in Pahang: A retrospective cross-sectional study'\n",
    "query = '\"resistance train*\"'\n",
    "retmax=None\n",
    "result_dict[iteration] = Pubmed_API()\n",
    "ids_list = result_dict[iteration].search_article(\n",
    "    query, retmax=retmax, ids_only=True, verbose=False\n",
    "    )\n",
    "# df = result_dict[iteration].get_article_data_by_title()"
   ]
  },
  {
   "cell_type": "markdown",
   "metadata": {},
   "source": [
    "## 1.1"
   ]
  },
  {
   "cell_type": "code",
   "execution_count": 5,
   "metadata": {},
   "outputs": [
    {
     "name": "stderr",
     "output_type": "stream",
     "text": [
      "2024-04-06 16:52:26,845 - Pubmed_API - INFO:\n",
      "Search term: \"resistance train*\"\n",
      "\n",
      "2024-04-06 16:52:28,817 - Pubmed_API - INFO:\n",
      "9999 PMIDs found.\n",
      "\n"
     ]
    }
   ],
   "source": [
    "# iteration = 1.1\n",
    "# query = '(\"resistance train*\"[All Fields]) AND ((y_10[Filter]) AND (meta-analysis[Filter] OR review[Filter] OR systematicreview[Filter]))'\n",
    "# query = 'Factors associated with different types of hip fractures among elderly patients a tertiary hospital in Pahang: A retrospective cross-sectional study'\n",
    "query = '\"resistance train*\"'\n",
    "retmax = 10000\n",
    "# result_dict[iteration] = Pubmed_API()\n",
    "ids_list = result_dict[iteration].search_article(\n",
    "    query, retmax=retmax, ids_only=True, verbose=False\n",
    "    )\n",
    "# df = result_dict[iteration].get_article_data_by_title()"
   ]
  },
  {
   "cell_type": "markdown",
   "metadata": {},
   "source": [
    "For the same query, the number of results matches what is found through Pubmed website"
   ]
  },
  {
   "cell_type": "code",
   "execution_count": 6,
   "metadata": {},
   "outputs": [
    {
     "name": "stderr",
     "output_type": "stream",
     "text": [
      "2024-04-06 16:53:38,368 - Pubmed_API - INFO:\n",
      "Search term: (\"resistance train*\"[All Fields]) AND ((y_10[Filter]) AND (meta-analysis[Filter] OR review[Filter] OR systematicreview[Filter]))\n",
      "\n",
      "2024-04-06 16:53:39,299 - Pubmed_API - INFO:\n",
      "2541 PMIDs found.\n",
      "\n"
     ]
    }
   ],
   "source": [
    "# query = '(\"resistance train*\"[All Fields]) AND ((y_10[Filter]) AND (meta-analysis[Filter] OR review[Filter] OR systematicreview[Filter]))'\n",
    "# query = 'Factors associated with different types of hip fractures among elderly patients a tertiary hospital in Pahang: A retrospective cross-sectional study'\n",
    "query = '(\"resistance train*\"[All Fields]) AND ((y_10[Filter]) AND (meta-analysis[Filter] OR review[Filter] OR systematicreview[Filter]))'\n",
    "retmax = 10000\n",
    "# result_dict[iteration] = Pubmed_API()\n",
    "ids_list = result_dict[iteration].search_article(\n",
    "    query, retmax=retmax, ids_only=True, verbose=False\n",
    "    )\n",
    "# df = result_dict[iteration].get_article_data_by_title()"
   ]
  },
  {
   "cell_type": "markdown",
   "metadata": {},
   "source": [
    "# iteration 1 after kernel refresh"
   ]
  },
  {
   "cell_type": "code",
   "execution_count": 4,
   "metadata": {},
   "outputs": [
    {
     "name": "stderr",
     "output_type": "stream",
     "text": [
      "2024-04-06 17:14:15,819 - Pubmed_API - INFO:\n",
      "Search term: (\"resistance train*\"[All Fields]) AND (systematic[sb] OR review[pt])\n",
      "\n",
      "2024-04-06 17:14:20,912 - Pubmed_API - INFO:\n",
      "3250 PMIDs found.\n",
      "\n"
     ]
    }
   ],
   "source": [
    "iteration = 1\n",
    "# query = '(\"resistance train*\"[All Fields]) AND ((y_10[Filter]) AND (meta-analysis[Filter] OR review[Filter] OR systematicreview[Filter]))'\n",
    "# query = 'Factors associated with different types of hip fractures among elderly patients a tertiary hospital in Pahang: A retrospective cross-sectional study'\n",
    "query = '(\"resistance train*\"[All Fields])'\n",
    "retmax = 10000\n",
    "result_dict[iteration] = Pubmed_API()\n",
    "ids_list = result_dict[iteration].search_article(\n",
    "    query, retmax=retmax, ids_only=True, verbose=False,\n",
    "    review_only = True\n",
    "    )\n",
    "# df = result_dict[iteration].get_article_data_by_title()"
   ]
  },
  {
   "cell_type": "code",
   "execution_count": 5,
   "metadata": {},
   "outputs": [
    {
     "name": "stderr",
     "output_type": "stream",
     "text": [
      "2024-04-06 17:22:22,536 - Pubmed_API - INFO:\n",
      "Search term: (\"resistance train*\"[All Fields]) AND (systematic[sb] OR review[pt])\n",
      "\n",
      "2024-04-06 17:22:24,120 - Pubmed_API - INFO:\n",
      "3250 PMIDs found.\n",
      "\n"
     ]
    }
   ],
   "source": [
    "\n",
    "query = '(\"resistance train*\"[All Fields]) AND ((y_10[Filter]) AND (meta-analysis[Filter] OR review[Filter] OR systematicreview[Filter]))'\n",
    "# query = 'Factors associated with different types of hip fractures among elderly patients a tertiary hospital in Pahang: A retrospective cross-sectional study'\n",
    "query = '(\"resistance train*\"[All Fields])'\n",
    "retmax = 10000\n",
    "# result_dict[iteration] = Pubmed_API()\n",
    "ids_list = result_dict[iteration].search_article(\n",
    "    query, retmax=retmax, ids_only=True, verbose=False,\n",
    "    review_only = True\n",
    "    )\n",
    "# df = result_dict[iteration].get_article_data_by_title()"
   ]
  },
  {
   "cell_type": "code",
   "execution_count": 12,
   "metadata": {},
   "outputs": [
    {
     "data": {
      "text/plain": [
       "dict_keys([1, 2])"
      ]
     },
     "execution_count": 12,
     "metadata": {},
     "output_type": "execute_result"
    }
   ],
   "source": [
    "result_dict[iteration].PMIDs_dict.keys()"
   ]
  },
  {
   "cell_type": "code",
   "execution_count": 13,
   "metadata": {},
   "outputs": [
    {
     "name": "stderr",
     "output_type": "stream",
     "text": [
      "2024-04-06 17:25:23,220 - Pubmed_API - INFO:\n",
      "Search term: (\"resistance train*\"[All Fields]) AND (systematic[sb] OR review[pt])\n",
      "\n",
      "2024-04-06 17:25:24,307 - Pubmed_API - INFO:\n",
      "3250 PMIDs found.\n",
      "\n"
     ]
    }
   ],
   "source": [
    "\n",
    "query = '(\"resistance train*\"[All Fields]) AND ((y_1[Filter]) AND (meta-analysis[Filter] OR review[Filter] OR systematicreview[Filter]))'\n",
    "# query = 'Factors associated with different types of hip fractures among elderly patients a tertiary hospital in Pahang: A retrospective cross-sectional study'\n",
    "query = '(\"resistance train*\"[All Fields])'\n",
    "retmax = 10000\n",
    "# result_dict[iteration] = Pubmed_API()\n",
    "ids_list = result_dict[iteration].search_article(\n",
    "    query, retmax=retmax, ids_only=True, verbose=False,\n",
    "    review_only = True\n",
    "    )\n",
    "# df = result_dict[iteration].get_article_data_by_title()"
   ]
  },
  {
   "cell_type": "code",
   "execution_count": 14,
   "metadata": {},
   "outputs": [
    {
     "name": "stderr",
     "output_type": "stream",
     "text": [
      "2024-04-06 17:25:37,967 - Pubmed_API - INFO:\n",
      "Search term: (\"resistance train*\"[All Fields]) AND ((y_1[Filter]) AND (meta-analysis[Filter] OR review[Filter] OR systematicreview[Filter])) AND (systematic[sb] OR review[pt])\n",
      "\n",
      "2024-04-06 17:25:38,819 - Pubmed_API - INFO:\n",
      "361 PMIDs found.\n",
      "\n"
     ]
    }
   ],
   "source": [
    "\n",
    "query = '(\"resistance train*\"[All Fields]) AND ((y_1[Filter]) AND (meta-analysis[Filter] OR review[Filter] OR systematicreview[Filter]))'\n",
    "# query = 'Factors associated with different types of hip fractures among elderly patients a tertiary hospital in Pahang: A retrospective cross-sectional study'\n",
    "# query = '(\"resistance train*\"[All Fields])'\n",
    "retmax = 10000\n",
    "# result_dict[iteration] = Pubmed_API()\n",
    "ids_list = result_dict[iteration].search_article(\n",
    "    query, retmax=retmax, ids_only=True, verbose=False,\n",
    "    review_only = True\n",
    "    )\n",
    "# df = result_dict[iteration].get_article_data_by_title()"
   ]
  },
  {
   "cell_type": "code",
   "execution_count": 15,
   "metadata": {},
   "outputs": [
    {
     "name": "stderr",
     "output_type": "stream",
     "text": [
      "2024-04-06 17:25:52,957 - Pubmed_API - INFO:\n",
      "Search term: (\"resistance train*\"[All Fields]) AND ((y_2[Filter]) AND (meta-analysis[Filter] OR review[Filter] OR systematicreview[Filter])) AND (systematic[sb] OR review[pt])\n",
      "\n",
      "2024-04-06 17:25:53,746 - Pubmed_API - INFO:\n",
      "0 PMIDs found.\n",
      "\n"
     ]
    }
   ],
   "source": [
    "\n",
    "query = '(\"resistance train*\"[All Fields]) AND ((y_2[Filter]) AND (meta-analysis[Filter] OR review[Filter] OR systematicreview[Filter]))'\n",
    "# query = 'Factors associated with different types of hip fractures among elderly patients a tertiary hospital in Pahang: A retrospective cross-sectional study'\n",
    "# query = '(\"resistance train*\"[All Fields])'\n",
    "retmax = 10000\n",
    "# result_dict[iteration] = Pubmed_API()\n",
    "ids_list = result_dict[iteration].search_article(\n",
    "    query, retmax=retmax, ids_only=True, verbose=False,\n",
    "    review_only = True\n",
    "    )\n",
    "# df = result_dict[iteration].get_article_data_by_title()"
   ]
  },
  {
   "cell_type": "code",
   "execution_count": 16,
   "metadata": {},
   "outputs": [
    {
     "name": "stderr",
     "output_type": "stream",
     "text": [
      "2024-04-06 17:26:24,145 - Pubmed_API - INFO:\n",
      "Search term: (\"resistance train*\"[All Fields]) AND ((y_5[Filter]) AND (meta-analysis[Filter] OR review[Filter] OR systematicreview[Filter])) AND (systematic[sb] OR review[pt])\n",
      "\n",
      "2024-04-06 17:26:25,118 - Pubmed_API - INFO:\n",
      "1619 PMIDs found.\n",
      "\n"
     ]
    }
   ],
   "source": [
    "\n",
    "query = '(\"resistance train*\"[All Fields]) AND ((y_5[Filter]) AND (meta-analysis[Filter] OR review[Filter] OR systematicreview[Filter]))'\n",
    "# query = 'Factors associated with different types of hip fractures among elderly patients a tertiary hospital in Pahang: A retrospective cross-sectional study'\n",
    "# query = '(\"resistance train*\"[All Fields])'\n",
    "retmax = 10000\n",
    "# result_dict[iteration] = Pubmed_API()\n",
    "ids_list = result_dict[iteration].search_article(\n",
    "    query, retmax=retmax, ids_only=True, verbose=False,\n",
    "    review_only = True\n",
    "    )\n",
    "# df = result_dict[iteration].get_article_data_by_title()"
   ]
  },
  {
   "cell_type": "code",
   "execution_count": 17,
   "metadata": {},
   "outputs": [
    {
     "name": "stderr",
     "output_type": "stream",
     "text": [
      "2024-04-06 17:26:43,060 - Pubmed_API - INFO:\n",
      "Search term: (\"resistance train*\"[All Fields]) AND ((y_3[Filter]) AND (meta-analysis[Filter] OR review[Filter] OR systematicreview[Filter])) AND (systematic[sb] OR review[pt])\n",
      "\n",
      "2024-04-06 17:26:43,865 - Pubmed_API - INFO:\n",
      "0 PMIDs found.\n",
      "\n"
     ]
    }
   ],
   "source": [
    "\n",
    "query = '(\"resistance train*\"[All Fields]) AND ((y_3[Filter]) AND (meta-analysis[Filter] OR review[Filter] OR systematicreview[Filter]))'\n",
    "# query = 'Factors associated with different types of hip fractures among elderly patients a tertiary hospital in Pahang: A retrospective cross-sectional study'\n",
    "# query = '(\"resistance train*\"[All Fields])'\n",
    "retmax = 10000\n",
    "# result_dict[iteration] = Pubmed_API()\n",
    "ids_list = result_dict[iteration].search_article(\n",
    "    query, retmax=retmax, ids_only=True, verbose=False,\n",
    "    review_only = True\n",
    "    )\n",
    "# df = result_dict[iteration].get_article_data_by_title()"
   ]
  },
  {
   "cell_type": "markdown",
   "metadata": {},
   "source": [
    "# iteration 2 after updating py script and refreshing kernel\n",
    "Results from using the period_filter and the `review_only` parameter match what is found through Pubmed website"
   ]
  },
  {
   "cell_type": "code",
   "execution_count": 4,
   "metadata": {},
   "outputs": [
    {
     "name": "stderr",
     "output_type": "stream",
     "text": [
      "2024-04-06 17:32:43,167 - Pubmed_API - INFO:\n",
      "Search term: (\"resistance train*\"[All Fields]) AND (systematic[sb] OR review[pt]) AND y_10[Filter]\n",
      "\n",
      "2024-04-06 17:32:44,210 - Pubmed_API - INFO:\n",
      "2455 PMIDs found.\n",
      "\n"
     ]
    }
   ],
   "source": [
    "iteration = 2\n",
    "# query = '(\"resistance train*\"[All Fields]) AND ((y_10[Filter]) AND (meta-analysis[Filter] OR review[Filter] OR systematicreview[Filter]))'\n",
    "# query = 'Factors associated with different types of hip fractures among elderly patients a tertiary hospital in Pahang: A retrospective cross-sectional study'\n",
    "query = '(\"resistance train*\"[All Fields])'\n",
    "retmax = 10000\n",
    "result_dict[iteration] = Pubmed_API()\n",
    "ids_list = result_dict[iteration].search_article(\n",
    "    query, retmax=retmax, ids_only=True, verbose=False,\n",
    "    review_only = True, period_filter = 10\n",
    "    )\n",
    "# df = result_dict[iteration].get_article_data_by_title()"
   ]
  },
  {
   "cell_type": "markdown",
   "metadata": {},
   "source": []
  },
  {
   "cell_type": "code",
   "execution_count": null,
   "metadata": {},
   "outputs": [],
   "source": []
  },
  {
   "cell_type": "code",
   "execution_count": null,
   "metadata": {},
   "outputs": [],
   "source": []
  },
  {
   "cell_type": "code",
   "execution_count": null,
   "metadata": {},
   "outputs": [],
   "source": []
  },
  {
   "cell_type": "code",
   "execution_count": null,
   "metadata": {},
   "outputs": [],
   "source": []
  },
  {
   "cell_type": "code",
   "execution_count": null,
   "metadata": {},
   "outputs": [],
   "source": []
  },
  {
   "cell_type": "code",
   "execution_count": null,
   "metadata": {},
   "outputs": [],
   "source": []
  },
  {
   "cell_type": "code",
   "execution_count": null,
   "metadata": {},
   "outputs": [],
   "source": []
  },
  {
   "cell_type": "code",
   "execution_count": null,
   "metadata": {},
   "outputs": [],
   "source": []
  },
  {
   "cell_type": "code",
   "execution_count": null,
   "metadata": {},
   "outputs": [],
   "source": []
  },
  {
   "cell_type": "code",
   "execution_count": null,
   "metadata": {},
   "outputs": [],
   "source": []
  },
  {
   "cell_type": "code",
   "execution_count": null,
   "metadata": {},
   "outputs": [],
   "source": []
  },
  {
   "cell_type": "code",
   "execution_count": null,
   "metadata": {},
   "outputs": [],
   "source": []
  },
  {
   "cell_type": "code",
   "execution_count": null,
   "metadata": {},
   "outputs": [],
   "source": []
  },
  {
   "attachments": {},
   "cell_type": "markdown",
   "metadata": {},
   "source": [
    "# *End of Page*"
   ]
  }
 ],
 "metadata": {
  "kernelspec": {
   "display_name": "pubmed",
   "language": "python",
   "name": "pubmed"
  },
  "language_info": {
   "codemirror_mode": {
    "name": "ipython",
    "version": 3
   },
   "file_extension": ".py",
   "mimetype": "text/x-python",
   "name": "python",
   "nbconvert_exporter": "python",
   "pygments_lexer": "ipython3",
   "version": "3.10.12"
  },
  "orig_nbformat": 4,
  "vscode": {
   "interpreter": {
    "hash": "11938c6bc6919ae2720b4d5011047913343b08a43b18698fd82dedb0d4417594"
   }
  }
 },
 "nbformat": 4,
 "nbformat_minor": 2
}
