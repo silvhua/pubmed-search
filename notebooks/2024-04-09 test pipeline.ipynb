{
 "cells": [
  {
   "attachments": {},
   "cell_type": "markdown",
   "metadata": {},
   "source": [
    "# Title\n",
    "[]()"
   ]
  },
  {
   "cell_type": "code",
   "execution_count": 2,
   "metadata": {},
   "outputs": [],
   "source": [
    "\n",
    "import sys\n",
    "sys.path.append('../src')\n",
    "sys.path.append(r\"/home/silvhua/custom_python\")\n",
    "from silvhua import *"
   ]
  },
  {
   "cell_type": "code",
   "execution_count": 11,
   "metadata": {},
   "outputs": [],
   "source": [
    "# set the option to wrap text within cells\n",
    "pd.set_option('display.max_colwidth', 200)\n",
    "# pd.set_option('display.max_colwidth', None)\n",
    "pd.set_option('display.max_rows', 20)\n",
    "pd.set_option('display.max_columns', None)\n",
    "pd.set_option('display.width', None)"
   ]
  },
  {
   "cell_type": "markdown",
   "metadata": {},
   "source": [
    "# Iteration 1"
   ]
  },
  {
   "cell_type": "code",
   "execution_count": 2,
   "metadata": {},
   "outputs": [],
   "source": [
    "filename = 'pubmed_results_2024-04-06_235718.json'\n",
    "filepath = '/home/silvhua/repositories/pubmed-search/data/'\n",
    "dictionary_list = load_json(filename, filepath)"
   ]
  },
  {
   "cell_type": "code",
   "execution_count": 12,
   "metadata": {},
   "outputs": [
    {
     "data": {
      "text/html": [
       "<div>\n",
       "<style scoped>\n",
       "    .dataframe tbody tr th:only-of-type {\n",
       "        vertical-align: middle;\n",
       "    }\n",
       "\n",
       "    .dataframe tbody tr th {\n",
       "        vertical-align: top;\n",
       "    }\n",
       "\n",
       "    .dataframe thead th {\n",
       "        text-align: right;\n",
       "    }\n",
       "</style>\n",
       "<table border=\"1\" class=\"dataframe\">\n",
       "  <thead>\n",
       "    <tr style=\"text-align: right;\">\n",
       "      <th></th>\n",
       "      <th>article_title</th>\n",
       "      <th>keywords</th>\n",
       "    </tr>\n",
       "  </thead>\n",
       "  <tbody>\n",
       "    <tr>\n",
       "      <th>0</th>\n",
       "      <td>Exploring home rehabilitation therapists' experiences of supporting older persons to physical exercise after acute hospitalization: a qualitative interview study.</td>\n",
       "      <td>[Exercise, Older adults, Primary care, Qualitative study, Rehabilitation therapy, Transitional care]</td>\n",
       "    </tr>\n",
       "    <tr>\n",
       "      <th>1</th>\n",
       "      <td>Current awareness and use of transthoracic echocardiography in evaluation of valvular heart disease in Kumamoto Prefecture -a report from the Kumamoto cardiovascular echocardiography standardizati...</td>\n",
       "      <td>[Aortic stenosis, Transthoracic echocardiography, Valvular heart disease]</td>\n",
       "    </tr>\n",
       "    <tr>\n",
       "      <th>2</th>\n",
       "      <td>Clinical and ultrasonographic evaluation of uninjured dominant shoulder in amateur rugby players vs a control group: a pilot study.</td>\n",
       "      <td>[Clinical exam of the shoulder, Rotator cuff injuries, Rugby, Shoulder injuries, Tendon calcification, Ultrasonography]</td>\n",
       "    </tr>\n",
       "    <tr>\n",
       "      <th>3</th>\n",
       "      <td>A Letter to the Editor on \"Effect of Visual Biofeedback Obtained Using the Iowa Oral Performance Instrument on the Suprahyoid Muscle Activation Level During Effortful Swallowing Maneuver\".</td>\n",
       "      <td>[Attention, Effortful swallow, Electromyography]</td>\n",
       "    </tr>\n",
       "    <tr>\n",
       "      <th>4</th>\n",
       "      <td>Effects of sporadic inclusion body myositis on skeletal muscle fibre type specific morphology and markers of regeneration and inflammation.</td>\n",
       "      <td>[Immunology, Macrophages, Myonuclei, Myopathies, Satellite cells]</td>\n",
       "    </tr>\n",
       "    <tr>\n",
       "      <th>5</th>\n",
       "      <td>High-flow nasal cannula during pulmonary rehabilitation for people with chronic obstructive pulmonary disease: A&amp;#xa0;systematic review and meta-analysis.</td>\n",
       "      <td>[chronic obstructive pulmonary disease, exercise therapy, high flow nasal cannula, oxygen inhalation therapy, quality of life, rehabilitation, systematic review]</td>\n",
       "    </tr>\n",
       "    <tr>\n",
       "      <th>6</th>\n",
       "      <td>Non-Pharmacological Interventions for Treating Psoriatic Arthritis.</td>\n",
       "      <td>None</td>\n",
       "    </tr>\n",
       "    <tr>\n",
       "      <th>7</th>\n",
       "      <td>An integrative review of parent education approaches in sport: Considerations for program planning and evaluation.</td>\n",
       "      <td>[families, intervention, parent involvement, re&amp;#x2010;aim, youth sport]</td>\n",
       "    </tr>\n",
       "    <tr>\n",
       "      <th>8</th>\n",
       "      <td>The effects of telerehabilitation in adults with complex biventricular congenital heart conditions: protocol for a multi-centre, randomised controlled trial-CH-FIT.</td>\n",
       "      <td>[Aerobic fitness, Combined exercise, Complex congenital heart anomalies, Neurocognitive function, Telehealth]</td>\n",
       "    </tr>\n",
       "    <tr>\n",
       "      <th>9</th>\n",
       "      <td>Exercise transiently increases the density of incipient blood clots in antiplatelet-treated lacunar stroke patients.</td>\n",
       "      <td>[Clot microstructure, Coagulation, Exercise, Lacunar stroke patients, Thrombogenicity]</td>\n",
       "    </tr>\n",
       "    <tr>\n",
       "      <th>10</th>\n",
       "      <td>Longitudinal association between fitness and metabolic syndrome: a population-based study over 29 years follow-up.</td>\n",
       "      <td>[Exercise, Fitness, Health, Longitudinal study, Metabolic syndrome]</td>\n",
       "    </tr>\n",
       "    <tr>\n",
       "      <th>11</th>\n",
       "      <td>Feasibility of a novel eHealth intervention for Parkinson's disease targeting motor-cognitive function in the home.</td>\n",
       "      <td>[Cognition, Exercise, Motor-cognitive exercise, Parkinson&amp;#x2019;s disease, eHealth]</td>\n",
       "    </tr>\n",
       "    <tr>\n",
       "      <th>12</th>\n",
       "      <td>Association between changes in habitual stepping activity and cognition in older adults.</td>\n",
       "      <td>[Average-real variability, Community interventions, Executive function, Fitbit intervention, Personalized health, Processing speed]</td>\n",
       "    </tr>\n",
       "    <tr>\n",
       "      <th>13</th>\n",
       "      <td>Pre-frailty after blood or marrow transplantation and the risk of subsequent mortality.</td>\n",
       "      <td>None</td>\n",
       "    </tr>\n",
       "    <tr>\n",
       "      <th>14</th>\n",
       "      <td>Physical training attenuates systemic cytokine response and tissue damage triggered by apical periodontitis.</td>\n",
       "      <td>None</td>\n",
       "    </tr>\n",
       "  </tbody>\n",
       "</table>\n",
       "</div>"
      ],
      "text/plain": [
       "                                                                                                                                                                                              article_title  \\\n",
       "0                                        Exploring home rehabilitation therapists' experiences of supporting older persons to physical exercise after acute hospitalization: a qualitative interview study.   \n",
       "1   Current awareness and use of transthoracic echocardiography in evaluation of valvular heart disease in Kumamoto Prefecture -a report from the Kumamoto cardiovascular echocardiography standardizati...   \n",
       "2                                                                       Clinical and ultrasonographic evaluation of uninjured dominant shoulder in amateur rugby players vs a control group: a pilot study.   \n",
       "3              A Letter to the Editor on \"Effect of Visual Biofeedback Obtained Using the Iowa Oral Performance Instrument on the Suprahyoid Muscle Activation Level During Effortful Swallowing Maneuver\".   \n",
       "4                                                               Effects of sporadic inclusion body myositis on skeletal muscle fibre type specific morphology and markers of regeneration and inflammation.   \n",
       "5                                                High-flow nasal cannula during pulmonary rehabilitation for people with chronic obstructive pulmonary disease: A&#xa0;systematic review and meta-analysis.   \n",
       "6                                                                                                                                       Non-Pharmacological Interventions for Treating Psoriatic Arthritis.   \n",
       "7                                                                                        An integrative review of parent education approaches in sport: Considerations for program planning and evaluation.   \n",
       "8                                      The effects of telerehabilitation in adults with complex biventricular congenital heart conditions: protocol for a multi-centre, randomised controlled trial-CH-FIT.   \n",
       "9                                                                                      Exercise transiently increases the density of incipient blood clots in antiplatelet-treated lacunar stroke patients.   \n",
       "10                                                                                       Longitudinal association between fitness and metabolic syndrome: a population-based study over 29 years follow-up.   \n",
       "11                                                                                      Feasibility of a novel eHealth intervention for Parkinson's disease targeting motor-cognitive function in the home.   \n",
       "12                                                                                                                 Association between changes in habitual stepping activity and cognition in older adults.   \n",
       "13                                                                                                                  Pre-frailty after blood or marrow transplantation and the risk of subsequent mortality.   \n",
       "14                                                                                             Physical training attenuates systemic cytokine response and tissue damage triggered by apical periodontitis.   \n",
       "\n",
       "                                                                                                                                                             keywords  \n",
       "0                                                                [Exercise, Older adults, Primary care, Qualitative study, Rehabilitation therapy, Transitional care]  \n",
       "1                                                                                           [Aortic stenosis, Transthoracic echocardiography, Valvular heart disease]  \n",
       "2                                             [Clinical exam of the shoulder, Rotator cuff injuries, Rugby, Shoulder injuries, Tendon calcification, Ultrasonography]  \n",
       "3                                                                                                                    [Attention, Effortful swallow, Electromyography]  \n",
       "4                                                                                                   [Immunology, Macrophages, Myonuclei, Myopathies, Satellite cells]  \n",
       "5   [chronic obstructive pulmonary disease, exercise therapy, high flow nasal cannula, oxygen inhalation therapy, quality of life, rehabilitation, systematic review]  \n",
       "6                                                                                                                                                                None  \n",
       "7                                                                                            [families, intervention, parent involvement, re&#x2010;aim, youth sport]  \n",
       "8                                                       [Aerobic fitness, Combined exercise, Complex congenital heart anomalies, Neurocognitive function, Telehealth]  \n",
       "9                                                                              [Clot microstructure, Coagulation, Exercise, Lacunar stroke patients, Thrombogenicity]  \n",
       "10                                                                                                [Exercise, Fitness, Health, Longitudinal study, Metabolic syndrome]  \n",
       "11                                                                               [Cognition, Exercise, Motor-cognitive exercise, Parkinson&#x2019;s disease, eHealth]  \n",
       "12                                [Average-real variability, Community interventions, Executive function, Fitbit intervention, Personalized health, Processing speed]  \n",
       "13                                                                                                                                                               None  \n",
       "14                                                                                                                                                               None  "
      ]
     },
     "execution_count": 12,
     "metadata": {},
     "output_type": "execute_result"
    }
   ],
   "source": [
    "df = pd.DataFrame(dictionary_list)\n",
    "df[['article_title', 'keywords']]"
   ]
  },
  {
   "cell_type": "code",
   "execution_count": 16,
   "metadata": {},
   "outputs": [
    {
     "data": {
      "text/plain": [
       "0"
      ]
     },
     "execution_count": 16,
     "metadata": {},
     "output_type": "execute_result"
    }
   ],
   "source": [
    "# check the type of data contained in the 'article_title' column\n",
    "df['article_title'].apply(lambda x: isinstance(x, list)).sum()\n",
    "\n",
    "# df['keywords'] = df['keywords'].str.join(', ')\n",
    "# df[['article_title', 'keywords']]"
   ]
  },
  {
   "cell_type": "markdown",
   "metadata": {},
   "source": [
    "# add new files"
   ]
  },
  {
   "cell_type": "code",
   "execution_count": 3,
   "metadata": {},
   "outputs": [
    {
     "name": "stderr",
     "output_type": "stream",
     "text": [
      "/home/silvhua/.pubmed/lib/python3.10/site-packages/transformers/utils/generic.py:441: UserWarning: torch.utils._pytree._register_pytree_node is deprecated. Please use torch.utils._pytree.register_pytree_node instead.\n",
      "  _torch_pytree._register_pytree_node(\n"
     ]
    }
   ],
   "source": [
    "from indexing_pipeline import *"
   ]
  },
  {
   "cell_type": "code",
   "execution_count": 4,
   "metadata": {},
   "outputs": [
    {
     "name": "stderr",
     "output_type": "stream",
     "text": [
      "2024-04-09 16:03:33,324 - __main__ - INFO:\n",
      "***Instantiating `Index_Docs`***\n",
      "\n",
      "2024-04-09 16:03:33,327 - __main__ - INFO:\n",
      "Initialized Index_Docs with 5 documents\n",
      "\n",
      "2024-04-09 16:03:33,331 - __main__ - INFO:\n",
      "***Running indexing pipeline***\n",
      "\n",
      "/home/silvhua/.pubmed/lib/python3.10/site-packages/transformers/utils/generic.py:309: UserWarning: torch.utils._pytree._register_pytree_node is deprecated. Please use torch.utils._pytree.register_pytree_node instead.\n",
      "  _torch_pytree._register_pytree_node(\n",
      "/home/silvhua/.pubmed/lib/python3.10/site-packages/transformers/utils/generic.py:309: UserWarning: torch.utils._pytree._register_pytree_node is deprecated. Please use torch.utils._pytree.register_pytree_node instead.\n",
      "  _torch_pytree._register_pytree_node(\n"
     ]
    },
    {
     "data": {
      "application/vnd.jupyter.widget-view+json": {
       "model_id": "3cc9e3c057494056b18c65f00a859645",
       "version_major": 2,
       "version_minor": 0
      },
      "text/plain": [
       "Batches:   0%|          | 0/2 [00:00<?, ?it/s]"
      ]
     },
     "metadata": {},
     "output_type": "display_data"
    },
    {
     "name": "stderr",
     "output_type": "stream",
     "text": [
      "2024-04-09 16:04:16,932 - __main__ - INFO:\n",
      "Finished indexing pipeline\n",
      "\n"
     ]
    }
   ],
   "source": [
    "class Index_Docs():\n",
    "\n",
    "    def __init__(\n",
    "            self, json_filename, json_filepath, content_key='abstract', meta_keys=[\n",
    "                'article_title', 'journal',\n",
    "                # 'keywords', 'mesh_headings', 'major_topics'\n",
    "                ], logger=None, logging_level=logging.INFO\n",
    "            ):\n",
    "        self.logger = create_function_logger(__name__, parent_logger=logger, level=logging_level)\n",
    "        dictionary_list = load_json(json_filename, json_filepath)[:5]\n",
    "        raw_docs = []\n",
    "        self.logger.info(f'***Instantiating `Index_Docs`***')\n",
    "        for dictionary in dictionary_list:\n",
    "            doc = Document(content=dictionary[content_key], meta={key: dictionary[key] for key in meta_keys})\n",
    "            raw_docs.append(doc)\n",
    "        self.raw_docs = raw_docs\n",
    "        self.logger.info(f'Initialized Index_Docs with {len(raw_docs)} documents')\n",
    "    \n",
    "    def run_pipeline(self, indexing_pipeline, first_component_name='cleaner'):\n",
    "        self.logger.info(f'***Running indexing pipeline***')\n",
    "        indexing_pipeline.run({first_component_name: {\"documents\": self.raw_docs}})\n",
    "\n",
    "if __name__ == \"__main__\":\n",
    "    logger = create_function_logger(__name__, parent_logger=None, level=logging.INFO)\n",
    "    filename = 'prod_pubmed_results_2024-04-07_112508.json'\n",
    "    collection_name = 'prod_subset'\n",
    "    filepath = '/home/silvhua/repositories/pubmed-search/data/'\n",
    "    document_store = ChromaDocumentStore( # https://docs.haystack.deepset.ai/reference/integrations-chroma#chromadocumentstore\n",
    "        collection_name=collection_name, \n",
    "        persist_path='../data/processed/'\n",
    "        )\n",
    "    \n",
    "    metadata_fields = ['article_title', 'journal']\n",
    "    \n",
    "    indexer = Index_Docs(\n",
    "        filename, filepath, meta_keys=metadata_fields\n",
    "        )\n",
    "    indexing_pipeline = create_indexing_pipeline(\n",
    "        document_store, metadata_fields=metadata_fields\n",
    "        )\n",
    "    indexer.run_pipeline(indexing_pipeline, first_component_name='cleaner')\n",
    "    logger.info(f'Finished indexing pipeline')"
   ]
  },
  {
   "cell_type": "code",
   "execution_count": 5,
   "metadata": {},
   "outputs": [
    {
     "data": {
      "text/plain": [
       "{'_collection_name': 'prod_subset',\n",
       " '_embedding_function': 'default',\n",
       " '_embedding_function_params': {},\n",
       " '_persist_path': '../data/processed/',\n",
       " '_chroma_client': <chromadb.api.client.Client at 0x7f8ffa9cf4f0>,\n",
       " '_collection': Collection(name=prod_subset)}"
      ]
     },
     "execution_count": 5,
     "metadata": {},
     "output_type": "execute_result"
    }
   ],
   "source": [
    "vars(document_store)"
   ]
  },
  {
   "cell_type": "code",
   "execution_count": 7,
   "metadata": {},
   "outputs": [
    {
     "data": {
      "text/plain": [
       "{'_identifier': '../data/processed/',\n",
       " 'tenant': 'default_tenant',\n",
       " 'database': 'default_database',\n",
       " '_admin_client': <chromadb.api.client.AdminClient at 0x7f8ffa9cf130>,\n",
       " '_server': <chromadb.api.segment.SegmentAPI at 0x7f8ffa9cf1f0>}"
      ]
     },
     "execution_count": 7,
     "metadata": {},
     "output_type": "execute_result"
    }
   ],
   "source": [
    "vars(document_store._chroma_client)"
   ]
  },
  {
   "cell_type": "markdown",
   "metadata": {},
   "source": [
    "## retrieval pipeline"
   ]
  },
  {
   "cell_type": "code",
   "execution_count": 9,
   "metadata": {},
   "outputs": [],
   "source": [
    "from haystack_integrations.components.retrievers.chroma import ChromaEmbeddingRetriever\n",
    "from haystack.components.embedders import SentenceTransformersTextEmbedder\n",
    "\n",
    "# https://docs.haystack.deepset.ai/docs/chromaembeddingretriever\n",
    "retriever = ChromaEmbeddingRetriever(document_store=document_store, top_k=3)\n",
    "\n",
    "retrieval_pipeline = Pipeline()\n",
    "retrieval_pipeline.add_component(\"text_embedder\", SentenceTransformersTextEmbedder(\n",
    "    # model=\"thenlper/gte-large\"\n",
    "    ))\n",
    "retrieval_pipeline.add_component(\"retriever_with_embeddings\", retriever)\n",
    "\n",
    "retrieval_pipeline.connect(\"text_embedder\", \"retriever_with_embeddings\")"
   ]
  },
  {
   "cell_type": "code",
   "execution_count": 11,
   "metadata": {},
   "outputs": [
    {
     "data": {
      "text/plain": [
       "{'_collection_name': 'prod_subset',\n",
       " '_embedding_function': 'default',\n",
       " '_embedding_function_params': {},\n",
       " '_persist_path': '../data/processed/',\n",
       " '_chroma_client': <chromadb.api.client.Client at 0x7f8ffa9cf4f0>,\n",
       " '_collection': Collection(name=prod_subset)}"
      ]
     },
     "execution_count": 11,
     "metadata": {},
     "output_type": "execute_result"
    }
   ],
   "source": [
    "vars(retriever.document_store)"
   ]
  },
  {
   "cell_type": "markdown",
   "metadata": {},
   "source": [
    "### Chroma Collections\n",
    "https://docs.trychroma.com/api-reference#methods-related-to-collections"
   ]
  },
  {
   "cell_type": "code",
   "execution_count": 14,
   "metadata": {},
   "outputs": [
    {
     "data": {
      "text/plain": [
       "37"
      ]
     },
     "execution_count": 14,
     "metadata": {},
     "output_type": "execute_result"
    }
   ],
   "source": [
    "retriever.document_store._collection.count()"
   ]
  },
  {
   "cell_type": "code",
   "execution_count": 17,
   "metadata": {},
   "outputs": [
    {
     "data": {
      "text/plain": [
       "'{\"title\": \"Collection\", \"type\": \"object\", \"properties\": {\"name\": {\"title\": \"Name\", \"type\": \"string\"}, \"id\": {\"title\": \"Id\", \"type\": \"string\", \"format\": \"uuid\"}, \"metadata\": {\"title\": \"Metadata\", \"type\": \"object\"}, \"tenant\": {\"title\": \"Tenant\", \"type\": \"string\"}, \"database\": {\"title\": \"Database\", \"type\": \"string\"}}, \"required\": [\"name\", \"id\"]}'"
      ]
     },
     "execution_count": 17,
     "metadata": {},
     "output_type": "execute_result"
    }
   ],
   "source": [
    "retriever.document_store._collection.schema_json()"
   ]
  },
  {
   "cell_type": "code",
   "execution_count": 18,
   "metadata": {},
   "outputs": [
    {
     "data": {
      "text/plain": [
       "{'ids': ['a9e557662d691b0f57b0c98af171d81e0e0fb6aec823174d980a61a1fb2c624d',\n",
       "  'eae58438bfc0db3c361a2ece7cc420afb6247aee2f3994455ec3220116047cf8',\n",
       "  '714dcebf7b99e5461c1d367d8538d730c05a31b02cdd5eb1c2a9b0c096191940',\n",
       "  '8f4af2cc72f92907c1d49574246e588f72b818c316a435aeb536e152d8d18eee',\n",
       "  '1c637f819e8bfb8c8c8af91c01b67de5a533381e06f16d7c11a63ae85bfe3171',\n",
       "  'c1dddb2fcd6b25fbe0874713f9d4f7a71da2faaf48dfe97fe2965879097f29a4',\n",
       "  '279b64718528f9d5d220a96eb68cc2c56d9a9917d2b1cc43ecc633eb84cd9e25',\n",
       "  '3c76f724bbe4094739c212ff4e4ea71931ad255553d980399636c62e91061091',\n",
       "  '87bf10a918f3d21420f4f399f66fe21a3f935c33ce438608d7cb8df7bc319a52',\n",
       "  'df7127e8f9106edf69a63f61c6752720e2c8487e84d02a3a1214ffa15f7137bc',\n",
       "  '8ef027115421c5eacc754d09ee4a352003027c97543b82c2db3b9f16a94b84de',\n",
       "  '47b00388908a01042a4b0e956536cd3f579f5421e3d9ca388aa0d7a2e48c77f3',\n",
       "  '5d8e91a1f379760a9106d6bcf1778161e2f54709fd8d56024c5d802d1141b810',\n",
       "  'dc69d2178b6590633a5f659cd9c767e3a5bf6d70f0f140e519c849428130ebb9',\n",
       "  '8fae425c3f3b6a2f82b0183edcb4d9cc0c655e52767f90fd1335ef8fb9e30c92',\n",
       "  '49057eb1cc000dcb92047b94a989d4f0f589d520322817d60f29738c4f38d63d',\n",
       "  '52e783b9bc3a106ea518ed12af06af9c67ef810734231e6dae735cdead6ce996',\n",
       "  '4a91a91772c6f5b8f35aab4b993d148d149d2f505f96ffcaee691e0f12f0f061',\n",
       "  '4196fe530c9c1e57d0e513bf5300b20b387e85006a19ce8c2975f77a0b9f1410',\n",
       "  '7a317144cbe1667e4ee7174991772d969b0ea483190ffa9e17b3c95ccbaab1a7',\n",
       "  '5ac649d74c47fb248abbf5acc3d8bab7770777685ebf3de686b75da703cb8105',\n",
       "  '41eb1df039ee2279819c65fd99f51a17df5ce069345f814b3ae49514e9803e52',\n",
       "  '2ee3f8db8304b8b7117343ded247512fc655f3b0ceebb1edd79469c0ae3261e9',\n",
       "  'd59833493a7c17274207eefca19fb2fbf919a5bc72283dc1c17c93c91c8dfa50',\n",
       "  'ae6b63c605bed8d0f1877728af53a051b19a586ff7336947f04e791ae58290f5',\n",
       "  'f8b8f7acae17c7ab18f0e333f3401283a2e79c1096dc4a26128e14a0dbdce17a',\n",
       "  '342a5e2dddf7f67385a3db92c4bb1725f451c54a87426a8ccb2ac2559c3a739b',\n",
       "  '35294919ca7052cc7a7ddeda89b210f2f6f63a6297e33505a70f04e9cd37ecc8',\n",
       "  '113192d01f905d66baaab4a19f1f87ffad92c9999c5da0a3e2512e670b50b131',\n",
       "  '03bba441aaee897786e54c3d401e46304d88f2bcca43645965776951f23b304c',\n",
       "  '83969228afaba227e69be4ddb02c3490765f1c089353b62d6c0bc2f8eb399a89',\n",
       "  'c7c8745d7a27f18baf82dd6b8e222ffc64ecc3233e023e791ae2103d9c2a6a02',\n",
       "  'e7a3825a5c12f23c579963562c9d95bebdcd82392400eba97e16b794fc2c3ec5',\n",
       "  '0b0ef78b23eb48fc3a757d0ce9fd8de56bdc6e7b81e85b02bfdd3ec38c8d6cb1',\n",
       "  '61080cb736026ca463b332f5af1d65611261d813d4e8b450576564781b530a3b',\n",
       "  'ed6023e1ed3378323da8f19e9239d9d05c369cd2b63b7b639901e90c05a530c6',\n",
       "  '14e8ec172a1f7ac5debb82a07d468fe44fb4c9fa2be85b06cccd7b56d14125bf'],\n",
       " 'embeddings': None,\n",
       " 'metadatas': [{'article_title': 'Recent advances in the application of Mendelian randomization to chronic kidney disease.',\n",
       "   'journal': 'Renal failure',\n",
       "   'source_id': 'd638df53465cee1101fab31eb2143e56b021fd3787831609d9ca4aad39ef279a'},\n",
       "  {'article_title': 'Recent advances in the application of Mendelian randomization to chronic kidney disease.',\n",
       "   'journal': 'Renal failure',\n",
       "   'source_id': 'd638df53465cee1101fab31eb2143e56b021fd3787831609d9ca4aad39ef279a'},\n",
       "  {'article_title': 'Recent advances in the application of Mendelian randomization to chronic kidney disease.',\n",
       "   'journal': 'Renal failure',\n",
       "   'source_id': 'd638df53465cee1101fab31eb2143e56b021fd3787831609d9ca4aad39ef279a'},\n",
       "  {'article_title': 'Recent advances in the application of Mendelian randomization to chronic kidney disease.',\n",
       "   'journal': 'Renal failure',\n",
       "   'source_id': 'd638df53465cee1101fab31eb2143e56b021fd3787831609d9ca4aad39ef279a'},\n",
       "  {'article_title': 'Recent advances in the application of Mendelian randomization to chronic kidney disease.',\n",
       "   'journal': 'Renal failure',\n",
       "   'source_id': 'd638df53465cee1101fab31eb2143e56b021fd3787831609d9ca4aad39ef279a'},\n",
       "  {'article_title': 'Recent advances in the application of Mendelian randomization to chronic kidney disease.',\n",
       "   'journal': 'Renal failure',\n",
       "   'source_id': 'd638df53465cee1101fab31eb2143e56b021fd3787831609d9ca4aad39ef279a'},\n",
       "  {'article_title': 'Common questions and misconceptions about caffeine supplementation: what does the scientific evidence really show?',\n",
       "   'journal': 'Journal of the International Society of Sports Nutrition',\n",
       "   'source_id': 'd00ab0adad19cc741b3a4ad3bacdd4b30ee4b769e9f3d36a4b462b7afefde07a'},\n",
       "  {'article_title': 'Common questions and misconceptions about caffeine supplementation: what does the scientific evidence really show?',\n",
       "   'journal': 'Journal of the International Society of Sports Nutrition',\n",
       "   'source_id': 'd00ab0adad19cc741b3a4ad3bacdd4b30ee4b769e9f3d36a4b462b7afefde07a'},\n",
       "  {'article_title': 'Common questions and misconceptions about caffeine supplementation: what does the scientific evidence really show?',\n",
       "   'journal': 'Journal of the International Society of Sports Nutrition',\n",
       "   'source_id': 'd00ab0adad19cc741b3a4ad3bacdd4b30ee4b769e9f3d36a4b462b7afefde07a'},\n",
       "  {'article_title': 'Common questions and misconceptions about caffeine supplementation: what does the scientific evidence really show?',\n",
       "   'journal': 'Journal of the International Society of Sports Nutrition',\n",
       "   'source_id': 'd00ab0adad19cc741b3a4ad3bacdd4b30ee4b769e9f3d36a4b462b7afefde07a'},\n",
       "  {'article_title': 'Common questions and misconceptions about caffeine supplementation: what does the scientific evidence really show?',\n",
       "   'journal': 'Journal of the International Society of Sports Nutrition',\n",
       "   'source_id': 'd00ab0adad19cc741b3a4ad3bacdd4b30ee4b769e9f3d36a4b462b7afefde07a'},\n",
       "  {'article_title': 'Common questions and misconceptions about caffeine supplementation: what does the scientific evidence really show?',\n",
       "   'journal': 'Journal of the International Society of Sports Nutrition',\n",
       "   'source_id': 'd00ab0adad19cc741b3a4ad3bacdd4b30ee4b769e9f3d36a4b462b7afefde07a'},\n",
       "  {'article_title': 'Common questions and misconceptions about caffeine supplementation: what does the scientific evidence really show?',\n",
       "   'journal': 'Journal of the International Society of Sports Nutrition',\n",
       "   'source_id': 'd00ab0adad19cc741b3a4ad3bacdd4b30ee4b769e9f3d36a4b462b7afefde07a'},\n",
       "  {'article_title': 'Common questions and misconceptions about caffeine supplementation: what does the scientific evidence really show?',\n",
       "   'journal': 'Journal of the International Society of Sports Nutrition',\n",
       "   'source_id': 'd00ab0adad19cc741b3a4ad3bacdd4b30ee4b769e9f3d36a4b462b7afefde07a'},\n",
       "  {'article_title': 'Common questions and misconceptions about caffeine supplementation: what does the scientific evidence really show?',\n",
       "   'journal': 'Journal of the International Society of Sports Nutrition',\n",
       "   'source_id': 'd00ab0adad19cc741b3a4ad3bacdd4b30ee4b769e9f3d36a4b462b7afefde07a'},\n",
       "  {'article_title': 'Common questions and misconceptions about caffeine supplementation: what does the scientific evidence really show?',\n",
       "   'journal': 'Journal of the International Society of Sports Nutrition',\n",
       "   'source_id': 'd00ab0adad19cc741b3a4ad3bacdd4b30ee4b769e9f3d36a4b462b7afefde07a'},\n",
       "  {'article_title': 'Common questions and misconceptions about caffeine supplementation: what does the scientific evidence really show?',\n",
       "   'journal': 'Journal of the International Society of Sports Nutrition',\n",
       "   'source_id': 'd00ab0adad19cc741b3a4ad3bacdd4b30ee4b769e9f3d36a4b462b7afefde07a'},\n",
       "  {'article_title': 'Structural modeling of ion channels using AlphaFold2, RoseTTAFold2, and ESMFold.',\n",
       "   'journal': 'Channels (Austin, Tex.)',\n",
       "   'source_id': 'd6ba0fe860bb48a012e0979973cdc5c170cc1d8962ab4e5148eb555f209887ec'},\n",
       "  {'article_title': 'Structural modeling of ion channels using AlphaFold2, RoseTTAFold2, and ESMFold.',\n",
       "   'journal': 'Channels (Austin, Tex.)',\n",
       "   'source_id': 'd6ba0fe860bb48a012e0979973cdc5c170cc1d8962ab4e5148eb555f209887ec'},\n",
       "  {'article_title': 'Structural modeling of ion channels using AlphaFold2, RoseTTAFold2, and ESMFold.',\n",
       "   'journal': 'Channels (Austin, Tex.)',\n",
       "   'source_id': 'd6ba0fe860bb48a012e0979973cdc5c170cc1d8962ab4e5148eb555f209887ec'},\n",
       "  {'article_title': 'Structural modeling of ion channels using AlphaFold2, RoseTTAFold2, and ESMFold.',\n",
       "   'journal': 'Channels (Austin, Tex.)',\n",
       "   'source_id': 'd6ba0fe860bb48a012e0979973cdc5c170cc1d8962ab4e5148eb555f209887ec'},\n",
       "  {'article_title': 'Structural modeling of ion channels using AlphaFold2, RoseTTAFold2, and ESMFold.',\n",
       "   'journal': 'Channels (Austin, Tex.)',\n",
       "   'source_id': 'd6ba0fe860bb48a012e0979973cdc5c170cc1d8962ab4e5148eb555f209887ec'},\n",
       "  {'article_title': 'Structural modeling of ion channels using AlphaFold2, RoseTTAFold2, and ESMFold.',\n",
       "   'journal': 'Channels (Austin, Tex.)',\n",
       "   'source_id': 'd6ba0fe860bb48a012e0979973cdc5c170cc1d8962ab4e5148eb555f209887ec'},\n",
       "  {'article_title': 'Preventing type 2 diabetes among Indigenous youth: A systematic review of community-based interventions.',\n",
       "   'journal': 'International journal of circumpolar health',\n",
       "   'source_id': '721ab3e04ecc57045735760540552446a7eba5b4105c583b988c061fcf5e1338'},\n",
       "  {'article_title': 'Preventing type 2 diabetes among Indigenous youth: A systematic review of community-based interventions.',\n",
       "   'journal': 'International journal of circumpolar health',\n",
       "   'source_id': '721ab3e04ecc57045735760540552446a7eba5b4105c583b988c061fcf5e1338'},\n",
       "  {'article_title': 'Preventing type 2 diabetes among Indigenous youth: A systematic review of community-based interventions.',\n",
       "   'journal': 'International journal of circumpolar health',\n",
       "   'source_id': '721ab3e04ecc57045735760540552446a7eba5b4105c583b988c061fcf5e1338'},\n",
       "  {'article_title': 'Preventing type 2 diabetes among Indigenous youth: A systematic review of community-based interventions.',\n",
       "   'journal': 'International journal of circumpolar health',\n",
       "   'source_id': '721ab3e04ecc57045735760540552446a7eba5b4105c583b988c061fcf5e1338'},\n",
       "  {'article_title': 'Preventing type 2 diabetes among Indigenous youth: A systematic review of community-based interventions.',\n",
       "   'journal': 'International journal of circumpolar health',\n",
       "   'source_id': '721ab3e04ecc57045735760540552446a7eba5b4105c583b988c061fcf5e1338'},\n",
       "  {'article_title': 'Preventing type 2 diabetes among Indigenous youth: A systematic review of community-based interventions.',\n",
       "   'journal': 'International journal of circumpolar health',\n",
       "   'source_id': '721ab3e04ecc57045735760540552446a7eba5b4105c583b988c061fcf5e1338'},\n",
       "  {'article_title': 'Current perspectives and trends of the research on hypertensive nephropathy: a bibliometric analysis from 2000 to 2023.',\n",
       "   'journal': 'Renal failure',\n",
       "   'source_id': '56ae428125809550b4e6150bd5a2f9ed364d13fc8b57b2de8f4586f2354bef7e'},\n",
       "  {'article_title': 'Current perspectives and trends of the research on hypertensive nephropathy: a bibliometric analysis from 2000 to 2023.',\n",
       "   'journal': 'Renal failure',\n",
       "   'source_id': '56ae428125809550b4e6150bd5a2f9ed364d13fc8b57b2de8f4586f2354bef7e'},\n",
       "  {'article_title': 'Current perspectives and trends of the research on hypertensive nephropathy: a bibliometric analysis from 2000 to 2023.',\n",
       "   'journal': 'Renal failure',\n",
       "   'source_id': '56ae428125809550b4e6150bd5a2f9ed364d13fc8b57b2de8f4586f2354bef7e'},\n",
       "  {'article_title': 'Current perspectives and trends of the research on hypertensive nephropathy: a bibliometric analysis from 2000 to 2023.',\n",
       "   'journal': 'Renal failure',\n",
       "   'source_id': '56ae428125809550b4e6150bd5a2f9ed364d13fc8b57b2de8f4586f2354bef7e'},\n",
       "  {'article_title': 'Current perspectives and trends of the research on hypertensive nephropathy: a bibliometric analysis from 2000 to 2023.',\n",
       "   'journal': 'Renal failure',\n",
       "   'source_id': '56ae428125809550b4e6150bd5a2f9ed364d13fc8b57b2de8f4586f2354bef7e'},\n",
       "  {'article_title': 'Current perspectives and trends of the research on hypertensive nephropathy: a bibliometric analysis from 2000 to 2023.',\n",
       "   'journal': 'Renal failure',\n",
       "   'source_id': '56ae428125809550b4e6150bd5a2f9ed364d13fc8b57b2de8f4586f2354bef7e'},\n",
       "  {'article_title': 'Current perspectives and trends of the research on hypertensive nephropathy: a bibliometric analysis from 2000 to 2023.',\n",
       "   'journal': 'Renal failure',\n",
       "   'source_id': '56ae428125809550b4e6150bd5a2f9ed364d13fc8b57b2de8f4586f2354bef7e'},\n",
       "  {'article_title': 'Current perspectives and trends of the research on hypertensive nephropathy: a bibliometric analysis from 2000 to 2023.',\n",
       "   'journal': 'Renal failure',\n",
       "   'source_id': '56ae428125809550b4e6150bd5a2f9ed364d13fc8b57b2de8f4586f2354bef7e'}],\n",
       " 'documents': ['OBJECTIVE: Chronic kidney disease (CKD) is a condition influenced by both genetic and environmental factors and has been a focus of extensive research. Utilizing Mendelian randomization, researchers have begun to untangle the complex causal relationships underlying CKD.',\n",
       "  ' This review delves into the advances and challenges in the application of MR in the field of nephrology, shifting from a mere summary of its principles and limitations to a more nuanced exploration of its contributions to our understanding of CKD.<br>METHODS: Key findings from recent studies have been pivotal in reshaping our comprehension of CKD.',\n",
       "  ' Notably, evidence indicates that elevated testosterone levels may impair renal function, while higher sex hormone-binding globulin (SHBG) levels appear to be protective, predominantly in men. Surprisingly, variations in plasma glucose and glycated hemoglobin levels seem unaffected by genetically induced changes in the estimated glomerular filtration rate (eGFR), suggesting an independent pathway for renal function impairment.',\n",
       "  '<br>RESULTS: Furthermore, lifestyle factors such as physical activity and socioeconomic status emerge as significant influencers of CKD risk and kidney health. The relationship between sleep duration and CKD is nuanced; short sleep duration is linked to increased risk, while long sleep duration does not exhibit a clear causal effect.',\n",
       "  ' Additionally, lifestyle factors, including diet, exercise, and mental wellness activities, play a crucial role in kidney health. New insights also reveal a substantial causal connection between both central and general obesity and CKD onset, while no significant links were found between genetically modified LDL cholesterol or triglyceride levels and kidney function.',\n",
       "  '<br>CONCLUSION: This review not only presents the recent achievements of MR in CKD research but also illuminates the path forwards, underscoring critical unanswered questions and proposing future research directions in this dynamic field.<br>',\n",
       "  'Caffeine is a popular ergogenic aid that has a plethora of evidence highlighting its positive effects. A Google Scholar search using the keywords \"caffeine\" and \"exercise\" yields over 200,000 results, emphasizing the extensive research on this topic.',\n",
       "  ' However, despite the vast amount of available data, it is intriguing that uncertainties persist regarding the effectiveness and safety of caffeine. These include but are not limited to: 1.',\n",
       "  ' Does caffeine dehydrate you at rest? 2. Does caffeine dehydrate you during exercise? 3.',\n",
       "  ' Does caffeine promote the loss of body fat? 4. Does habitual caffeine consumption influence the performance response to acute caffeine supplementation? 5.',\n",
       "  ' Does caffeine affect upper vs. lower body performance/strength differently? 6.',\n",
       "  ' Is there a relationship between caffeine and depression? 7. Can too much caffeine kill you? 8.',\n",
       "  \" Are there sex differences regarding caffeine's effects? 9. Does caffeine work for everyone? 10.\",\n",
       "  ' Does caffeine cause heart problems? 11. Does caffeine promote the loss of bone mineral? 12.',\n",
       "  ' Should pregnant women avoid caffeine? 13. Is caffeine addictive? 14.',\n",
       "  ' Does waiting 1.5-2.',\n",
       "  '0&#x2009;hours after waking to consume caffeine help you avoid the afternoon \"crash?\" To answer these questions, we performed an evidence-based scientific evaluation of the literature regarding caffeine supplementation.',\n",
       "  'Ion channels play key roles in human physiology and are important targets in drug discovery. The atomic-scale structures of ion channels provide invaluable insights into a fundamental understanding of the molecular mechanisms of channel gating and modulation.',\n",
       "  ' Recent breakthroughs in deep learning-based computational methods, such as AlphaFold, RoseTTAFold, and ESMFold have transformed research in protein structure prediction and design. We review the application of AlphaFold, RoseTTAFold, and ESMFold to structural modeling of ion channels using representative voltage-gated ion channels, including human voltage-gated sodium (Na<sub>V</sub>) channel - Na<sub>V</sub>1.',\n",
       "  '8, human voltage-gated calcium (Ca<sub>V</sub>) channel - Ca<sub>V</sub>1.1, and human voltage-gated potassium (K<sub>V</sub>) channel - K<sub>V</sub>1.',\n",
       "  '3. We compared AlphaFold, RoseTTAFold, and ESMFold structural models of Na<sub>V</sub>1.',\n",
       "  '8, Ca<sub>V</sub>1.1, and K<sub>V</sub>1.',\n",
       "  '3 with corresponding cryo-EM structures to assess details of their similarities and differences. Our findings shed light on the strengths and limitations of the current state-of-the-art deep learning-based computational methods for modeling ion channel structures, offering valuable insights to guide their future applications for ion channel research.',\n",
       "  'A systematic review was conducted to assess evidence on effectiveness of community-based interventions promoting wellbeing and prevention of type 2 diabetes (T2D) among Indigenous youth. A convergent, segregated, mixed methods approach was used, with six databases and four grey literature sites searched from inception to May 2022.',\n",
       "  ' Articles selected for inclusion were about community-based interventions related to T2D prevention with Indigenous youth that evaluated effectiveness or youth experience published in English. Reference lists were also searched for relevant sources.',\n",
       "  ' Seven quantitative research articles met the inclusion and quality assessment criteria. No qualitative articles were identified.',\n",
       "  ' The results were synthesised through narrative analysis, while meta-analysis was not possible due to heterogenous study designs. Common foci across interventions included promoting physical wellness, improving physical activity and healthy eating patterns, enhancing knowledge, and psychosocial wellness.',\n",
       "  ' Interventions deemed effective addressed multiple areas, were school-based, and operated for at least a year. Findings support multi-strategy, community-based interventions implemented over longer periods of time.',\n",
       "  ' However, gaps in research and reporting included the extent to which interventions are culturally informed and based on community-driven priorities. Future research should include Indigenous, mixed and qualitative methods and Indigenous-driven measures of success to better understand effectiveness in alignment with Indigenous worldviews.',\n",
       "  'Hypertensive nephropathy continues to be a major cause of end-stage renal disease and poses a significant global health burden. Despite the staggering development of research in hypertensive nephropathy, scientists and clinicians can only seek out useful information through articles and reviews, it remains a hurdle for them to quickly track the trend in this field.',\n",
       "  ' This study uses the bibliometric method to identify the evolutionary development and recent hotspots of hypertensive nephropathy. The Web of Science Core Collection database was used to extract publications on hypertensive nephropathy from January 2000 to November 2023.',\n",
       "  ' CiteSpace was used to capture the patterns and trends from multi-perspectives, including countries/regions, institutions, keywords, and references. In total, 557 publications on hypertensive nephropathy were eligible for inclusion.',\n",
       "  ' China (<i>n&#x2009;</i>=&#x2009;208, 37.34%) was the most influential contributor among all the countries.',\n",
       "  ' Veterans Health Administration (<i>n&#x2009;</i>=&#x2009;19, 3.41%) was found to be the most productive institution.',\n",
       "  ' Keyword bursting till now are renal fibrosis, outcomes, and mechanisms which are predicted to be the potential frontiers and hotspots in the future. The top seven references were listed, and their burst strength was shown.',\n",
       "  ' A comprehensive overview of the current status and research frontiers of hypertensive nephropathy has been provided through the bibliometric perspective. Recent advancements and challenges in hypertensive nephropathy have been discussed.',\n",
       "  ' These findings can offer informative instructions for researchers and scholars.'],\n",
       " 'uris': None,\n",
       " 'data': None}"
      ]
     },
     "execution_count": 18,
     "metadata": {},
     "output_type": "execute_result"
    }
   ],
   "source": [
    "retriever.document_store._collection.get()"
   ]
  },
  {
   "cell_type": "code",
   "execution_count": 19,
   "metadata": {},
   "outputs": [
    {
     "data": {
      "text/plain": [
       "dict_keys(['ids', 'embeddings', 'metadatas', 'documents', 'uris', 'data'])"
      ]
     },
     "execution_count": 19,
     "metadata": {},
     "output_type": "execute_result"
    }
   ],
   "source": [
    "retriever.document_store._collection.get().keys()"
   ]
  },
  {
   "cell_type": "code",
   "execution_count": 21,
   "metadata": {},
   "outputs": [
    {
     "data": {
      "text/plain": [
       "37"
      ]
     },
     "execution_count": 21,
     "metadata": {},
     "output_type": "execute_result"
    }
   ],
   "source": [
    "doc_metadata_list = retriever.document_store._collection.get()['metadatas']\n",
    "len(doc_metadata_list)"
   ]
  },
  {
   "cell_type": "code",
   "execution_count": 20,
   "metadata": {},
   "outputs": [
    {
     "data": {
      "text/plain": [
       "['OBJECTIVE: Chronic kidney disease (CKD) is a condition influenced by both genetic and environmental factors and has been a focus of extensive research. Utilizing Mendelian randomization, researchers have begun to untangle the complex causal relationships underlying CKD.',\n",
       " ' This review delves into the advances and challenges in the application of MR in the field of nephrology, shifting from a mere summary of its principles and limitations to a more nuanced exploration of its contributions to our understanding of CKD.<br>METHODS: Key findings from recent studies have been pivotal in reshaping our comprehension of CKD.',\n",
       " ' Notably, evidence indicates that elevated testosterone levels may impair renal function, while higher sex hormone-binding globulin (SHBG) levels appear to be protective, predominantly in men. Surprisingly, variations in plasma glucose and glycated hemoglobin levels seem unaffected by genetically induced changes in the estimated glomerular filtration rate (eGFR), suggesting an independent pathway for renal function impairment.',\n",
       " '<br>RESULTS: Furthermore, lifestyle factors such as physical activity and socioeconomic status emerge as significant influencers of CKD risk and kidney health. The relationship between sleep duration and CKD is nuanced; short sleep duration is linked to increased risk, while long sleep duration does not exhibit a clear causal effect.',\n",
       " ' Additionally, lifestyle factors, including diet, exercise, and mental wellness activities, play a crucial role in kidney health. New insights also reveal a substantial causal connection between both central and general obesity and CKD onset, while no significant links were found between genetically modified LDL cholesterol or triglyceride levels and kidney function.',\n",
       " '<br>CONCLUSION: This review not only presents the recent achievements of MR in CKD research but also illuminates the path forwards, underscoring critical unanswered questions and proposing future research directions in this dynamic field.<br>',\n",
       " 'Caffeine is a popular ergogenic aid that has a plethora of evidence highlighting its positive effects. A Google Scholar search using the keywords \"caffeine\" and \"exercise\" yields over 200,000 results, emphasizing the extensive research on this topic.',\n",
       " ' However, despite the vast amount of available data, it is intriguing that uncertainties persist regarding the effectiveness and safety of caffeine. These include but are not limited to: 1.',\n",
       " ' Does caffeine dehydrate you at rest? 2. Does caffeine dehydrate you during exercise? 3.',\n",
       " ' Does caffeine promote the loss of body fat? 4. Does habitual caffeine consumption influence the performance response to acute caffeine supplementation? 5.',\n",
       " ' Does caffeine affect upper vs. lower body performance/strength differently? 6.',\n",
       " ' Is there a relationship between caffeine and depression? 7. Can too much caffeine kill you? 8.',\n",
       " \" Are there sex differences regarding caffeine's effects? 9. Does caffeine work for everyone? 10.\",\n",
       " ' Does caffeine cause heart problems? 11. Does caffeine promote the loss of bone mineral? 12.',\n",
       " ' Should pregnant women avoid caffeine? 13. Is caffeine addictive? 14.',\n",
       " ' Does waiting 1.5-2.',\n",
       " '0&#x2009;hours after waking to consume caffeine help you avoid the afternoon \"crash?\" To answer these questions, we performed an evidence-based scientific evaluation of the literature regarding caffeine supplementation.',\n",
       " 'Ion channels play key roles in human physiology and are important targets in drug discovery. The atomic-scale structures of ion channels provide invaluable insights into a fundamental understanding of the molecular mechanisms of channel gating and modulation.',\n",
       " ' Recent breakthroughs in deep learning-based computational methods, such as AlphaFold, RoseTTAFold, and ESMFold have transformed research in protein structure prediction and design. We review the application of AlphaFold, RoseTTAFold, and ESMFold to structural modeling of ion channels using representative voltage-gated ion channels, including human voltage-gated sodium (Na<sub>V</sub>) channel - Na<sub>V</sub>1.',\n",
       " '8, human voltage-gated calcium (Ca<sub>V</sub>) channel - Ca<sub>V</sub>1.1, and human voltage-gated potassium (K<sub>V</sub>) channel - K<sub>V</sub>1.',\n",
       " '3. We compared AlphaFold, RoseTTAFold, and ESMFold structural models of Na<sub>V</sub>1.',\n",
       " '8, Ca<sub>V</sub>1.1, and K<sub>V</sub>1.',\n",
       " '3 with corresponding cryo-EM structures to assess details of their similarities and differences. Our findings shed light on the strengths and limitations of the current state-of-the-art deep learning-based computational methods for modeling ion channel structures, offering valuable insights to guide their future applications for ion channel research.',\n",
       " 'A systematic review was conducted to assess evidence on effectiveness of community-based interventions promoting wellbeing and prevention of type 2 diabetes (T2D) among Indigenous youth. A convergent, segregated, mixed methods approach was used, with six databases and four grey literature sites searched from inception to May 2022.',\n",
       " ' Articles selected for inclusion were about community-based interventions related to T2D prevention with Indigenous youth that evaluated effectiveness or youth experience published in English. Reference lists were also searched for relevant sources.',\n",
       " ' Seven quantitative research articles met the inclusion and quality assessment criteria. No qualitative articles were identified.',\n",
       " ' The results were synthesised through narrative analysis, while meta-analysis was not possible due to heterogenous study designs. Common foci across interventions included promoting physical wellness, improving physical activity and healthy eating patterns, enhancing knowledge, and psychosocial wellness.',\n",
       " ' Interventions deemed effective addressed multiple areas, were school-based, and operated for at least a year. Findings support multi-strategy, community-based interventions implemented over longer periods of time.',\n",
       " ' However, gaps in research and reporting included the extent to which interventions are culturally informed and based on community-driven priorities. Future research should include Indigenous, mixed and qualitative methods and Indigenous-driven measures of success to better understand effectiveness in alignment with Indigenous worldviews.',\n",
       " 'Hypertensive nephropathy continues to be a major cause of end-stage renal disease and poses a significant global health burden. Despite the staggering development of research in hypertensive nephropathy, scientists and clinicians can only seek out useful information through articles and reviews, it remains a hurdle for them to quickly track the trend in this field.',\n",
       " ' This study uses the bibliometric method to identify the evolutionary development and recent hotspots of hypertensive nephropathy. The Web of Science Core Collection database was used to extract publications on hypertensive nephropathy from January 2000 to November 2023.',\n",
       " ' CiteSpace was used to capture the patterns and trends from multi-perspectives, including countries/regions, institutions, keywords, and references. In total, 557 publications on hypertensive nephropathy were eligible for inclusion.',\n",
       " ' China (<i>n&#x2009;</i>=&#x2009;208, 37.34%) was the most influential contributor among all the countries.',\n",
       " ' Veterans Health Administration (<i>n&#x2009;</i>=&#x2009;19, 3.41%) was found to be the most productive institution.',\n",
       " ' Keyword bursting till now are renal fibrosis, outcomes, and mechanisms which are predicted to be the potential frontiers and hotspots in the future. The top seven references were listed, and their burst strength was shown.',\n",
       " ' A comprehensive overview of the current status and research frontiers of hypertensive nephropathy has been provided through the bibliometric perspective. Recent advancements and challenges in hypertensive nephropathy have been discussed.',\n",
       " ' These findings can offer informative instructions for researchers and scholars.']"
      ]
     },
     "execution_count": 20,
     "metadata": {},
     "output_type": "execute_result"
    }
   ],
   "source": [
    "retriever.document_store._collection.get()['documents']"
   ]
  },
  {
   "cell_type": "markdown",
   "metadata": {},
   "source": [
    "### Open existing document store"
   ]
  },
  {
   "cell_type": "code",
   "execution_count": 22,
   "metadata": {},
   "outputs": [],
   "source": [
    "document_store2 = ChromaDocumentStore( # https://docs.haystack.deepset.ai/reference/integrations-chroma#chromadocumentstore\n",
    "        collection_name='test_set', \n",
    "        persist_path='../data/processed/'\n",
    "        )"
   ]
  },
  {
   "cell_type": "code",
   "execution_count": 23,
   "metadata": {},
   "outputs": [],
   "source": [
    "documents2 = document_store2._collection.get()['documents']"
   ]
  },
  {
   "cell_type": "code",
   "execution_count": 25,
   "metadata": {},
   "outputs": [
    {
     "data": {
      "text/plain": [
       "125"
      ]
     },
     "execution_count": 25,
     "metadata": {},
     "output_type": "execute_result"
    }
   ],
   "source": [
    "document_store2._collection.count()"
   ]
  },
  {
   "cell_type": "code",
   "execution_count": 24,
   "metadata": {},
   "outputs": [
    {
     "data": {
      "text/plain": [
       "['PURPOSE: After hospitalization, older persons may face a decline in physical function and daily independence. In-hospital exercise interventions can mitigate this decline, and continued support from primary healthcare post-discharge may enhance sustainability.',\n",
       " \" This study aimed to explore home rehabilitation therapists' experiences of supporting physical exercise after acute hospitalization, including exercise programs initiated during hospital stay. METHODS: This qualitative study was conducted alongside a randomized-controlled trial to investigate prerequisites for a transitional care intervention.\",\n",
       " ' Twelve interviews were conducted with physiotherapists, occupational therapists, and managers across seven rehabilitation therapy services in Stockholm, Sweden. Data were analyzed using reflexive thematic analysis.',\n",
       " \" RESULTS: The analysis generated the theme Striving for individualized support for physical exercise, although limited resources and a fragmented home care risk to direct support away from those who need it the most. It was based on four subthemes: The starting point is always the patient's current needs, goals, and prerequisites, Continuing the exercise initiated during hospitalization by adapting it to the patient's situation at home, Work premises not tailored to patients with complex care needs, and A home care organization that lacks coordination and unified purpose.\",\n",
       " \" CONCLUSIONS: Interventions supporting older persons to physical exercise after acute hospitalization need to be tailored to the individual, support motivation, and be adapted to the patient's home situation. Challenges may arise when care recourses lack alignment with the patients' needs, and when the collaboration among care providers is limited.\",\n",
       " ' The findings contribute valuable insights for future studies incorporating transitional care interventions in similar context.',\n",
       " 'BACKGROUND: There are few reports on transthoracic echocardiography (TTE) for the evaluation of valvular heart disease in a specific area or region. METHODS AND RESULTS: This cross-sectional questionnaire-based survey was conducted in 2023 in Kumamoto Prefecture, where 106 hospitals provide cardiology services.',\n",
       " ' Ninety-three (88%) of the hospitals completed questionnaires regarding TTE. The severity of low flow/low gradient AS was evaluated by dobutamine stress echocardiography in only 7% of hospitals and exercise stress echocardiography for asymptomatic mitral regurgitation in only 5%.',\n",
       " ' Multivariate logistic regression analysis revealed that participation in remote multi-institutional echocardiographic meetings and use of the Kumamoto Prefecture echocardiographic manual were significantly associated with the use of a multi-window approach (P&#x2009;&lt;&#x2009;0.05).',\n",
       " ' CONCLUSIONS: In Kumamoto Prefecture, echocardiographic measurements are performed according to the recommendations at a relatively low rate. Dissemination of recommendations through remote meetings and the use of the echocardiographic manual may increase the likelihood of TTE being performed according to the recommendations.',\n",
       " 'BACKGROUND: Rugby is a sport involving a great number of shoulder collisions. Traumatic stress of the shoulder can weaken the static stabilizers and promote major injuries as dislocation or full-thickness tears of the rotator cuff.',\n",
       " ' The goal of this study is to evaluate the clinical and ultrasonographic dominant shoulder factures in a group of amateur rugby players, with no history of shoulder injuries, and to compare them with those of a control group. METHODS: 52 male subjects join in the study: 26 amateur rugby players and 26 subjects, which did not practice rugby or competitive sport.',\n",
       " ' Clinical history was obtained from all subjects, followed by dominant shoulder physical and ultrasonographic exams. RESULTS: Rugby players showed a higher prevalence of positive clinical test, suggesting subacromial impingement than control group (p&#x2009;=&#x2009;0.',\n",
       " '01). Among rugby group, five players (19,2%) showed positive test for radiculopathy (p&#x2009;=&#x2009;0,02), and ten players (73,1%) reported shoulder pain needing pain-reliever drugs at list one time in the last six months (p&#x2009;=&#x2009;0.',\n",
       " '001). In rugby group, ultrasound exams showed 23,1% degenerative changes and 30,8% tendon calcifications in supraspinatus tendons (p&#x2009;&lt;&#x2009;0.',\n",
       " '05). CONCLUSIONS: Uninjured dominant shoulder of rugby players shows higher prevalence of clinical and ultrasound changes compare to control.',\n",
       " ' Some rugby players without history of cervical symptoms show positive clinical test of cervical radiculopathy. Clinical and ultrasonographic monitoring of the shoulder can play a role in prevention and knowledge of silent shoulder damage in these athletes.',\n",
       " ': The author has provided an alternative biofeedback method to help maintain the effortful swallowing (ES) maneuver target effort to utilize a constantly high swallowing pressure. The author has identified ES with visual feedback (i.',\n",
       " 'e. the Iowa Oral Performance Instrument (IOPI)) produced higher EMG activation levels than without.',\n",
       " ' However, the author accepted higher activation levels as higher muscle force production, attributed the lower EMG activation levels in 4th set to fatigue, and did not consider other possibilities. As the author stated in the discussion \"his/her method caused participants to focus more efforts to achieve the goal\" in feedback condition and enhanced the participant\\'s focus on the exercise plan.',\n",
       " ' This situation, caused by the focus of attention, can be explained with the \"constrained action hypothesis\". Also, EMG levels are highly correlated to muscle force, but EMG does not directly measure the force produced.',\n",
       " \" This causes some unpredictable factors that can influence the force but not the EMG data. To conclude, the increased EMG activity or the participants' negative feedback could be caused by the focus of attention, and future studies should consider this perspective.\",\n",
       " ': Sporadic inclusion body myositis (sIBM) is a subgroup of idiopathic inflammatory myopathies characterised by progressive muscle weakness and skeletal muscle inflammation. Quantitative data on the myofibre morphology in sIBM remains scarce.',\n",
       " ' Further, no previous study has examined fibre type association of satellite cells (SC), myonuclei number, macrophages, capillaries, and myonuclear domain (MD) in sIBM patients. Muscle biopsies from sIBM patients (n&#x2009;=&#x2009;18) obtained previously (NCT02317094) were included in the analysis for fibre type-specific myofibre cross-sectional area (mCSA), SCs, myonuclei and macrophages, myonuclear domain, and capillarisation.',\n",
       " ' mCSA (p&#x2009;&lt;&#x2009;0.001), peripheral myonuclei (p&#x2009;&lt;&#x2009;0.',\n",
       " '001) and MD (p&#x2009;=&#x2009;0.005) were higher in association with type 1 (slow-twitch) than type 2 (fast-twitch) fibres.',\n",
       " ' Conversely, quiescent SCs (p&#x2009;&lt;&#x2009;0.001), centrally placed myonuclei (p&#x2009;=&#x2009;0.',\n",
       " '03), M1 macrophages (p&#x2009;&lt;&#x2009;0.002), M2 macrophages (p&#x2009;=&#x2009;0.',\n",
       " '013) and capillaries (p&#x2009;&lt;&#x2009;0.001) were higher at type 2 fibres compared to type 1 fibres.',\n",
       " ' In contrast, proliferating (Pax7<sup>+</sup>/Ki67<sup>+</sup>) SCs (p&#x2009;=&#x2009;0.68) were similarly associated with each fibre type.',\n",
       " ' Type 2 myofibres of late-phase sIBM patients showed marked signs of muscle atrophy (i.e.',\n",
       " ' reduced mCSA) accompanied by higher numbers of associated quiescent SCs, centrally placed myonuclei, macrophages and capillaries compared to type 1 fibres. In contrast, type 1 fibres were suffering from pathological enlargement with larger MDs as well as fewer nuclei and capillaries per area when compared with type 2 fibres.',\n",
       " ' More research is needed to examine to which extent different therapeutic interventions including targeted exercise might alleviate these fibre type-specific characteristics and countermeasure their consequences in impaired functional performance.',\n",
       " \"BACKGROUND: Chronic obstructive pulmonary disease (COPD) is an increasingly concerning global public health issue due to its high burden of morbidity and mortality. Pulmonary rehabilitation (PR) is a comprehensive intervention to improve patients' physical and psychological conditions, commonly involving oxygen supplementation.\",\n",
       " ' The potential benefits of high-flow nasal cannula (HFNC) have recently sparked interest as oxygen therapy. In this context, this study aims to assess the effects of HFNC during the exercise training component of a PR program in people with COPD.',\n",
       " ' METHODS: Systematic review (CRD42022330929). We included randomised controlled trials (RCTs), including crossover RCTs with adults with stable COPD.',\n",
       " ' We included trials using oxygen therapy with HFNC during the exercise training component of a PR programme. PRIMARY OUTCOMES: disease-specific health-related quality of life (HRQoL), exercise capacity (EC) and adverse events.',\n",
       " ' SECONDARY OUTCOMES: treatment adherence, breathlessness and future exacerbations. RESULTS: We included five studies with 300 participants with moderate to severe COPD.',\n",
       " ' The certainty of the evidence was primarily low or very low for all outcomes of interest due to risk of bias, inconsistency or imprecision. HFNC has little to no difference in HRQoL (4 studies, 129 participants, MD 0.',\n",
       " '17, 95% CI -1.20 to 1.',\n",
       " '54; I<sup>2</sup> 50%). HFNC may result in little to no difference in EC (3 studies, 212 participants, mean difference 18.',\n",
       " '73, 95% CI -20.49 to 28.',\n",
       " '94; I<sup>2</sup> 56%), and we are uncertain about the effect of HFNC on breathlessness (4 studies; 244 participants, MD of -0.07, 95% CI -0.',\n",
       " '4 to 0.26; I<sup>2</sup> 63%).',\n",
       " \" Only one study with 44 participants reported a participant's withdrawal because of progressive dyspnoea during lower limb exercise. CONCLUSIONS: We are uncertain about the effect of HFNC during the exercise component of a PR programme in HRQoL, EC or dyspnoea compared to usual care or conventional supplementary oxygen.\",\n",
       " ' Non-domiciliary oxygen patients showed improvements in HRQoL, EC and dyspnoea.',\n",
       " 'BACKGROUND AND OBJECTIVE: In this review, we discuss evidence concerning the management of psoriatic arthritis (PsA) patients with non-pharmacological interventions and additionally develop physical training protocols that could be prescribed to these patients. METHODS: We selected 110 articles, published on PubMed and Google Scholar databases from 1972 to date, investigating the effects of generic hygienic-dietary recommendations and training programs in PsA or psoriasis (PSO) individuals.',\n",
       " ' RESULTS: Although data in support are limited, aerobic, endurance, and strength exercises as well as complementary techniques may all be useful in preserving or improving residual functional capacity, joint flexibility, and muscle strength. Exercise may reduce systemic inflammation, pain, and fatigue and additionally control PsA comorbidities, like dysmetabolism or obesity.',\n",
       " ' CONCLUSIONS: The polyhedral clinical expression of PsA underlines the need for a multidisciplinary approach combining the synergistic effects of pharmacological and non-pharmacological treatments. The latter range from preventive measures, like dietary modifications, weight loss, and cigarette smoking cessation, to personalized training protocols according to disease activity and phenotype, comorbidities, and individual tolerability.',\n",
       " ' In these patients, we strongly encourage the regular practice of motor activity at progressively increasing intensity with combined supervised aerobic, strength, endurance, and stretching exercises.',\n",
       " ': In recent years, there has been an increase in the delivery and evaluation of parent education programs within youth sport. Subsequently, some recent reviews of these programs have been conducted.',\n",
       " ' However, one consistent issue across many of the programs and associated review papers is the lack of an appropriate evaluation framework to guide the planning or associated reporting of the outcomes of the interventions. This has limited understanding of the overall impact of sport parenting interventions.',\n",
       " ' Thus, the purposes of the current study were as follows: (a) to identify commonalities in the reporting and evaluation of parent education programs; (b) to identify gaps in the reporting and evaluation of parent education programs; (c) to draw these insights together to provide suggestions regarding how the RE-AIM could be used to enhance planning and evaluation of evidence-based programs for parent education in sport. Specifically, utilizing the RE-AIM framework to provide insights into pertinent evaluation metrics, this integrative review aimed to identify commonalities and gaps in the reporting of parent education programs.',\n",
       " ' The RE-AIM framework considers the essential elements to assess the external and internal validity of interventions through five dimensions: Reach, Effectiveness, Adoption, Implementation, and Maintenance (Am J Public Health. 1999;89(9):1322-1327).',\n",
       " ' Subsequently, the review aimed to provide suggestions regarding strategies to enhance the planning and evaluation of evidence-based programs for parent education in sport. Overall, the analysis demonstrated that most studies presented some pertinent evaluation information related to the RE-AIM framework, such as the number of participants and contacts made, the measures used, and the program level.',\n",
       " ' However, the studies also lacked information on participant exclusion criteria, the method used to select the delivery agent (e.g.',\n",
       " ', parents engaged in the program), and cost measures. Overall, the current study identified various areas where programs could be enhanced, specifically related to reporting procedural elements (e.',\n",
       " 'g., program design, target population, and costs) pertaining to the implementation of parent education programs.',\n",
       " 'BACKGROUND: Accumulated evidence suggests that exercise training exerts beneficial effects on people with congenital heart conditions. These findings are predominantly derived from small, single-centre exercise trials conducted in outpatient rehabilitation facilities.',\n",
       " ' In recent years, the delivery of exercise interventions remotely has increased through digital communications technology (telerehabilitation). However, very little research to date has been conducted into the efficacy of telerehabilitation in people with a congenital heart condition.',\n",
       " ' AIMS: To evaluate the effects of a telehealth-delivered exercise intervention in people with a history of a surgical biventricular repair due to a congenital heart condition. METHODS: One hundred eligible adolescent (&#x2265;&#x2009;16&#xa0;years) and adult participants living with a complex biventricular congenital heart condition will be recruited from four Australian sites and randomised to either (1) a 16-week telehealth-delivered combined (aerobic and resistance) exercise training programme of moderate-to-vigorous intensity or (2) usual care (control group), in a 1:1 allocation, with an 8-month follow-up.',\n",
       " ' OUTCOMES OF INTEREST: The primary outcome will be the change in aerobic capacity expressed as peak oxygen uptake (VO<sub>2peak</sub>). Secondary outcomes will include changes in vascular function, muscle oxygenation, metabolic profile, body composition and musculoskeletal fitness, neurohormonal activation, neurocognitive function, physical activity levels, dietary and nutritional status, and quality of life.',\n",
       " ' Outcomes will be assessed at baseline, 16&#xa0;weeks, and 12&#xa0;months (to determine longer-term maintenance potential). DISCUSSION: If found to be efficacious, telerehabilitation may be an alternative option for delivering exercise, improving health outcomes, and increasing accessibility to exercise programmes.',\n",
       " ' Efficacy data is required to quantify the clinical significance of this delivery mode of exercise. TRIAL REGISTRATION: ACTRN12622000050752 Trial registration date: 17 January 2022 Trial registration URL: https://www.',\n",
       " 'anzctr.org.',\n",
       " 'au/Trial/Registration/TrialReview.aspx?id=382635&amp;showOriginal=true&amp;isReview=true Trial registry name: Australian and New Zealand Clinical Trials Registry.',\n",
       " 'INTRODUCTION: Older individuals and, in particular, individuals at risk of recurrent stroke, may be susceptible to thrombosis when participating in exercise, however, this aspect has not been well investigated. METHODS: Clot microstructure and conventional markers of thrombotic risk were determined in twenty lacunar stroke patients and fifteen healthy age-matched controls before, immediately after and 1&#xa0;h after a bout of moderate intensity cycling exercise.',\n",
       " ' Data were analyzed using a linear mixed model approach. RESULTS: At rest, clot microstructure (1.',\n",
       " '69&#x2009;&#xb1;&#x2009;0.07 vs.',\n",
       " ' 1.64&#x2009;&#xb1;&#x2009;0.',\n",
       " '05, corresponding to a difference of ~&#x2009;50% in normalized clot mass; p&#x2009;=&#x2009;0.009) and thrombocyte count (73%; p&#x2009;&lt;&#x2009;0.',\n",
       " '0001) were higher, and activated partial thromboplastin time was lower (18%; p&#x2009;=&#x2009;0.0001) in stroke patients compared to age-matched controls.',\n",
       " ' Acute exercise increased thrombogenic markers similarly in the two groups: incipient clot microstructure (1.69&#x2009;&#xb1;&#x2009;0.',\n",
       " '07 vs. 1.',\n",
       " '74&#x2009;&#xb1;&#x2009;0.05; p&#x2009;=&#x2009;0.',\n",
       " '0004 and 1.64&#x2009;&#xb1;&#x2009;0.',\n",
       " '05 vs. 1.',\n",
       " '71&#x2009;&#xb1;&#x2009;0.04; p&#x2009;&lt;&#x2009;0.',\n",
       " '0001, for stroke and controls respectively), plasma fibrinogen (12%; p&#x2009;&lt;&#x2009;0.0001 and 18%; p&#x2009;&lt;&#x2009;0.',\n",
       " '0001, for stroke and controls respectively) and the combined coagulation factors II, VII and X (p&#x2009;=&#x2009;0.0001 and p&#x2009;&lt;&#x2009;0.',\n",
       " '0001, for stroke and controls respectively). CONCLUSION: The results show that exercise transiently increases the risk of blood clot formation in both stroke patients and controls, however, due to the higher baseline thrombogenicity in stroke patients, the post exercise risk of forming blood clots may be higher in this group.',\n",
       " ' TRIAL REGISTRATION: Registered at ClinicalTrials.gov (NCT03635177).',\n",
       " 'OBJECTIVES: To examine the longitudinal associations between fitness and metabolic syndrome (MetS) in community-dwelling adults over 29 years of follow-up. DESIGN: Ongoing, population-based cohort study of adults aged&#x2009;&#x2265;&#x2009;33 years at baseline residing in the city of Bad Sch&#xf6;nborn, Germany.',\n",
       " ' METHODS: The sample comprised 89 persons (41 females; mean age 40.1 years at baseline) who participated at baseline (in the year 1992) and 29-years follow-up (in the year 2021).',\n",
       " ' Fitness (predictor variable) was assessed using 15 standardized and validated tests that measured strength, gross motor coordination, mobility/ flexibility and cardiorespiratory fitness/ endurance, and a z-transformed fitness score was calculated for analysis. MetS (outcome of interest) was assessed through five criteria related to waist circumference, blood glucose, HDL cholesterol, triglycerides, and blood pressure, and a sum score was created for analysis.',\n",
       " ' We ran partial correlations to examine the association between fitness score at baseline and MetS score at 29-years follow-up, adjusted for age, sex, socio-economic status, smoking status, sleep quality, and physical activity engagement in minutes/ week. RESULTS: A higher fitness score at baseline was significantly associated with a lower MetS score indicative of better metabolic health at 29-years follow-up (r=-0.',\n",
       " '29; p&#x2009;=&#x2009;0.011).',\n",
       " ' These associations were present in participants aged&#x2009;&#x2264;&#x2009;40 years (r=-0.33; p&#x2009;=&#x2009;0.',\n",
       " '025) as well as those aged&#x2009;&gt;&#x2009;40 years (r=-0.43; p&#x2009;=&#x2009;0.',\n",
       " '045). CONCLUSIONS: Fitness may be a predictor of longitudinal metabolic health, and potentially also mediates previously reported longitudinal associations between physical activity and metabolic health.',\n",
       " ' More research is needed to confirm these observations, and to also explore underlying mechanisms.',\n",
       " \"BACKGROUND: Parkinson's disease (PD) drastically affects motor and cognitive function, but evidence shows that motor-cognitive training improves disease symptoms. Motor-cognitive training in the home is scarcely investigated and eHealth methods can provide continual support for PD self-management.\",\n",
       " ' Feasibility testing is however required. OBJECTIVE: To assess the feasibility (i) Recruitment capability (ii) Acceptability and Suitability (iii) Demand and Safety of a home-based motor-cognitive eHealth exercise intervention in PD.',\n",
       " ' METHODS: The 10-week intervention was delivered using the ExorLive&#xae; application and exercises were individually adapted and systematically progressed and targeted functional strength, cardiovascular fitness, flexibility, and motor-cognitive function. People with mild-to moderate PD were assessed before and after the intervention regarding; gait performance in single and dual-task conditions; functional mobility; dual-task performance; balance performance; physical activity level; health related quality of life and perceived balance confidence and walking ability; global cognition and executive function.',\n",
       " ' Feasibility outcomes were continuously measured using a home-exercise diary and contact with a physiotherapist. Changes from pre- and post-intervention are reported descriptively.',\n",
       " ' RESULTS: Fifteen participants (mean age 68.5 years) commenced and 14 completed the 10-week intervention.',\n",
       " ' In relation to intervention Acceptability, 64% of the motor sessions and 52% of motor-cognitive sessions were rated as \"enjoyable\". Concerning Suitability, the average level of exertion (Borg RPE scale) was light (11-12).',\n",
       " ' Adherence was high, with 86% of all (420) sessions reported as completed. No falls or other adverse events occurred in conjunction with the intervention.',\n",
       " ' CONCLUSIONS: This motor-cognitive eHealth home exercise intervention for PD was safe and feasible in terms of Recruitment capability, Acceptability, Safety and Demand. The intensity of physical challenge needs to be increased before testing in an efficacy trial.',\n",
       " ' TRIAL REGISTRATION: This trial is registered at Clinicaltrials.gov (NCT05027620).',\n",
       " ': Advancing age is associated with declines in cognitive function. Although physical activity is thought to protect against this decline, it is unclear how a short-term uptake in daily steps or a decline in day-to-day step variability may contribute to cognition among older adults.',\n",
       " ' We tested associations between changes in step counts, day-to-day step variability and executive cognitive functions among older adults taking part in a physical activity intervention. Thirty-seven older adults (33 females; 71.',\n",
       " '4&#x2009;&#xb1;&#x2009;6.3&#xa0;years) completed a 10-week personalized physical activity intervention.',\n",
       " ' Participants wore a Fitbit to measure daily step counts throughout the study. They also completed a computerized Stroop task before and after the intervention.',\n",
       " ' Average step counts and step count variability via average-real-variability (ARV) were determined. Compared to pre-intervention, step counts increased (p&#x2009;&lt;&#x2009;0.',\n",
       " '001) and step variability decreased post-intervention (p&#x2009;=&#x2009;0.04).',\n",
       " ' Models describing the changes in step counts and ARV over the 10-weeks were cubic (both, p&#x2009;&lt;&#x2009;0.04).',\n",
       " ' Reaction times during the simple (p&#x2009;=&#x2009;0.002) and switching (p&#x2009;=&#x2009;0.',\n",
       " '04) conditions were faster post-intervention. Change in step variability was positively associated with the change in reaction time for the switching condition (&#x3b2;&#x2009;=&#x2009;0.',\n",
       " '029, p&#x2009;=&#x2009;0.002).',\n",
       " ' On average, a reduction in day-to-day step variability was associated with improvements in cognitive flexibility.',\n",
       " ': We examined the prevalence, risk factors, and association between pre-frailty and subsequent mortality after blood or marrow transplantation (BMT). Study participants were drawn from the BMT Survivor Study (BMTSS) and included 3346 individuals who underwent BMT between 1974 and 2014 at one of three transplant centers and survived &#x2265;2 years post-BMT.',\n",
       " ' Participants completed the BMTSS survey at a median of 9 years from BMT and were followed for subsequent mortality for a median of 5 years after survey completion. Closest-age and same-sex biological siblings also completed the survey.',\n",
       " ' Previously published self-reported indices (exhaustion, weakness, low energy expenditure, slowness, unintentional weight loss) classified participants as non-frail (0-1 indices) or pre-frail (2 indices). National Death Index was used to determine vital status and cause of death.',\n",
       " ' Overall, 626 (18.7%) BMT survivors were pre-frail.',\n",
       " ' BMT survivors had a 3.2-fold higher odds of being pre-frail (95% CI&#x2009;=&#x2009;1.',\n",
       " '9-5.3) compared to siblings.',\n",
       " ' Compared to non-frail survivors, pre-frail survivors had higher hazards of all-cause mortality (adjusted hazard ratio [aHR]&#x2009;=&#x2009;1.6, 95% CI&#x2009;=&#x2009;1.',\n",
       " '4-2.0).',\n",
       " ' Female sex, pre-BMT radiation, smoking, lack of exercise, anxiety, and severe/life-threatening chronic health conditions were associated with pre-frailty. The novel association between pre-frailty and subsequent mortality provides evidence for interventions as pre-frail individuals may transition back to their robust state.',\n",
       " ': Apical periodontitis (AP) is a condition characterized by inflammatory and infectious components in the tooth canal. AP affects periradicular tissues and has systemic repercussions.',\n",
       " ' Physical exercise is a structured activity that requires cardiorespiratory function, and can modulate the inflammatory profile in pathological conditions. As a result, this study aimed to determine the effects of aerobic physical training (PT) on the alveolar bone with and without AP, and its systemic inflammatory repercussions.',\n",
       " ' AP was induced in the mandibular first molars, and PT was performed on a treadmill for five consecutive days over four weeks, with progressive increases in speed and activity time. Blood samples were collected to determine serum cytokine levels using immunoassays, and alveolar bone samples were collected for histopathological evaluation, lesion volume and microarchitecture assessment using computed microtomography.',\n",
       " ' Animals with AP had increased pro-inflammatory cytokines levels compared to those without AP; however, these levels were attenuated or restored by PT. Compared to the AP group, the AP&#x2009;+&#x2009;PT group had a smaller lesion volume and greater preservation of the bone trabeculae in the remaining alveolar bone surrounding the lesion.',\n",
       " ' In overall, PT minimized the severity of AP proving to be a valid strategy for individuals undergoing endodontic treatment.']"
      ]
     },
     "execution_count": 24,
     "metadata": {},
     "output_type": "execute_result"
    }
   ],
   "source": [
    "documents2"
   ]
  },
  {
   "cell_type": "code",
   "execution_count": null,
   "metadata": {},
   "outputs": [],
   "source": [
    "retriever2 = ChromaEmbeddingRetriever(document_store=document_store2, top_k=3)\n",
    "\n",
    "retrieval_pipeline2 = Pipeline()\n",
    "retrieval_pipeline2.add_component(\"text_embedder\", SentenceTransformersTextEmbedder(\n",
    "    # model=\"thenlper/gte-large\"\n",
    "    ))\n",
    "retrieval_pipeline2.add_component(\"retriever_with_embeddings\", retriever2)\n",
    "\n",
    "retrieval_pipeline2.connect(\"text_embedder\", \"retriever_with_embeddings\")"
   ]
  },
  {
   "cell_type": "code",
   "execution_count": null,
   "metadata": {},
   "outputs": [],
   "source": []
  },
  {
   "cell_type": "code",
   "execution_count": null,
   "metadata": {},
   "outputs": [],
   "source": []
  },
  {
   "cell_type": "code",
   "execution_count": null,
   "metadata": {},
   "outputs": [],
   "source": []
  },
  {
   "cell_type": "code",
   "execution_count": null,
   "metadata": {},
   "outputs": [],
   "source": []
  },
  {
   "attachments": {},
   "cell_type": "markdown",
   "metadata": {},
   "source": [
    "# *End of Page*"
   ]
  }
 ],
 "metadata": {
  "kernelspec": {
   "display_name": "pubmed",
   "language": "python",
   "name": "pubmed"
  },
  "language_info": {
   "codemirror_mode": {
    "name": "ipython",
    "version": 3
   },
   "file_extension": ".py",
   "mimetype": "text/x-python",
   "name": "python",
   "nbconvert_exporter": "python",
   "pygments_lexer": "ipython3",
   "version": "3.10.12"
  },
  "orig_nbformat": 4,
  "vscode": {
   "interpreter": {
    "hash": "11938c6bc6919ae2720b4d5011047913343b08a43b18698fd82dedb0d4417594"
   }
  }
 },
 "nbformat": 4,
 "nbformat_minor": 2
}
